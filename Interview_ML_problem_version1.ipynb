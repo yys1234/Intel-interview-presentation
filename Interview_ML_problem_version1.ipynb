{
 "cells": [
  {
   "cell_type": "code",
   "execution_count": 1,
   "id": "80526935",
   "metadata": {},
   "outputs": [],
   "source": [
    "# import libraries\n",
    "import pickle\n",
    "import numpy as np\n",
    "import pandas as pd\n",
    "import matplotlib.pyplot as plt"
   ]
  },
  {
   "cell_type": "markdown",
   "id": "a69ba086",
   "metadata": {},
   "source": [
    "# Load Data"
   ]
  },
  {
   "cell_type": "code",
   "execution_count": 2,
   "id": "9faae7cb",
   "metadata": {},
   "outputs": [],
   "source": [
    "# read data into dataframe\n",
    "with open('dataset.pkl', 'rb') as f:\n",
    "    data = pickle.load(f)"
   ]
  },
  {
   "cell_type": "code",
   "execution_count": 3,
   "id": "e6f511af",
   "metadata": {},
   "outputs": [
    {
     "data": {
      "text/html": [
       "<div>\n",
       "<style scoped>\n",
       "    .dataframe tbody tr th:only-of-type {\n",
       "        vertical-align: middle;\n",
       "    }\n",
       "\n",
       "    .dataframe tbody tr th {\n",
       "        vertical-align: top;\n",
       "    }\n",
       "\n",
       "    .dataframe thead th {\n",
       "        text-align: right;\n",
       "    }\n",
       "</style>\n",
       "<table border=\"1\" class=\"dataframe\">\n",
       "  <thead>\n",
       "    <tr style=\"text-align: right;\">\n",
       "      <th></th>\n",
       "      <th>ID</th>\n",
       "      <th>Time</th>\n",
       "      <th>Group</th>\n",
       "      <th>GR1</th>\n",
       "      <th>GR2</th>\n",
       "      <th>GR3</th>\n",
       "      <th>GR4</th>\n",
       "      <th>GR5</th>\n",
       "      <th>GR6</th>\n",
       "      <th>GR7</th>\n",
       "      <th>...</th>\n",
       "      <th>M6</th>\n",
       "      <th>M7</th>\n",
       "      <th>M8</th>\n",
       "      <th>M9</th>\n",
       "      <th>M10</th>\n",
       "      <th>M11</th>\n",
       "      <th>M12</th>\n",
       "      <th>FA1</th>\n",
       "      <th>FA2</th>\n",
       "      <th>Class</th>\n",
       "    </tr>\n",
       "  </thead>\n",
       "  <tbody>\n",
       "    <tr>\n",
       "      <th>0</th>\n",
       "      <td>0</td>\n",
       "      <td>20210901T052203</td>\n",
       "      <td>1</td>\n",
       "      <td>88.0</td>\n",
       "      <td>4000.0</td>\n",
       "      <td>0.788286</td>\n",
       "      <td>0.858421</td>\n",
       "      <td>0.000000</td>\n",
       "      <td>0.000000</td>\n",
       "      <td>0.808354</td>\n",
       "      <td>...</td>\n",
       "      <td>0.770476</td>\n",
       "      <td>3.0</td>\n",
       "      <td>2036.0</td>\n",
       "      <td>-0.128886</td>\n",
       "      <td>0.687892</td>\n",
       "      <td>0.169358</td>\n",
       "      <td>0.857251</td>\n",
       "      <td>0.045817</td>\n",
       "      <td>2.484042</td>\n",
       "      <td>CL146</td>\n",
       "    </tr>\n",
       "    <tr>\n",
       "      <th>1</th>\n",
       "      <td>1</td>\n",
       "      <td>20210901T052203</td>\n",
       "      <td>1</td>\n",
       "      <td>177.0</td>\n",
       "      <td>4000.0</td>\n",
       "      <td>0.842848</td>\n",
       "      <td>1.676998</td>\n",
       "      <td>2.689012</td>\n",
       "      <td>2.689012</td>\n",
       "      <td>0.817277</td>\n",
       "      <td>...</td>\n",
       "      <td>80.452591</td>\n",
       "      <td>666.0</td>\n",
       "      <td>2552.0</td>\n",
       "      <td>1.149273</td>\n",
       "      <td>14.546570</td>\n",
       "      <td>13.930302</td>\n",
       "      <td>28.476871</td>\n",
       "      <td>0.101117</td>\n",
       "      <td>3.193393</td>\n",
       "      <td>CL6</td>\n",
       "    </tr>\n",
       "    <tr>\n",
       "      <th>2</th>\n",
       "      <td>2</td>\n",
       "      <td>20210901T052203</td>\n",
       "      <td>1</td>\n",
       "      <td>209.0</td>\n",
       "      <td>4000.0</td>\n",
       "      <td>0.986631</td>\n",
       "      <td>1.118038</td>\n",
       "      <td>0.000000</td>\n",
       "      <td>0.000000</td>\n",
       "      <td>0.798937</td>\n",
       "      <td>...</td>\n",
       "      <td>190.957947</td>\n",
       "      <td>103.0</td>\n",
       "      <td>213.0</td>\n",
       "      <td>-5.968551</td>\n",
       "      <td>154.971451</td>\n",
       "      <td>184.861984</td>\n",
       "      <td>339.833435</td>\n",
       "      <td>0.085103</td>\n",
       "      <td>8.746268</td>\n",
       "      <td>CL6</td>\n",
       "    </tr>\n",
       "    <tr>\n",
       "      <th>3</th>\n",
       "      <td>3</td>\n",
       "      <td>20210901T052203</td>\n",
       "      <td>1</td>\n",
       "      <td>471.0</td>\n",
       "      <td>4000.0</td>\n",
       "      <td>0.986631</td>\n",
       "      <td>1.000529</td>\n",
       "      <td>0.000000</td>\n",
       "      <td>0.000000</td>\n",
       "      <td>0.826357</td>\n",
       "      <td>...</td>\n",
       "      <td>0.464587</td>\n",
       "      <td>16.0</td>\n",
       "      <td>2576.0</td>\n",
       "      <td>4.431015</td>\n",
       "      <td>6.842685</td>\n",
       "      <td>5.425236</td>\n",
       "      <td>12.267921</td>\n",
       "      <td>0.137593</td>\n",
       "      <td>9.402219</td>\n",
       "      <td>CL187</td>\n",
       "    </tr>\n",
       "    <tr>\n",
       "      <th>4</th>\n",
       "      <td>4</td>\n",
       "      <td>20210901T052203</td>\n",
       "      <td>1</td>\n",
       "      <td>363.0</td>\n",
       "      <td>4000.0</td>\n",
       "      <td>0.994236</td>\n",
       "      <td>1.011487</td>\n",
       "      <td>0.000000</td>\n",
       "      <td>2.805979</td>\n",
       "      <td>0.797859</td>\n",
       "      <td>...</td>\n",
       "      <td>192.430420</td>\n",
       "      <td>86.0</td>\n",
       "      <td>131.0</td>\n",
       "      <td>18.884167</td>\n",
       "      <td>273.286896</td>\n",
       "      <td>281.943420</td>\n",
       "      <td>555.230286</td>\n",
       "      <td>0.108135</td>\n",
       "      <td>6.391616</td>\n",
       "      <td>CL6</td>\n",
       "    </tr>\n",
       "  </tbody>\n",
       "</table>\n",
       "<p>5 rows × 7676 columns</p>\n",
       "</div>"
      ],
      "text/plain": [
       "   ID             Time Group    GR1     GR2       GR3       GR4       GR5  \\\n",
       "0   0  20210901T052203     1   88.0  4000.0  0.788286  0.858421  0.000000   \n",
       "1   1  20210901T052203     1  177.0  4000.0  0.842848  1.676998  2.689012   \n",
       "2   2  20210901T052203     1  209.0  4000.0  0.986631  1.118038  0.000000   \n",
       "3   3  20210901T052203     1  471.0  4000.0  0.986631  1.000529  0.000000   \n",
       "4   4  20210901T052203     1  363.0  4000.0  0.994236  1.011487  0.000000   \n",
       "\n",
       "        GR6       GR7  ...          M6     M7      M8         M9         M10  \\\n",
       "0  0.000000  0.808354  ...    0.770476    3.0  2036.0  -0.128886    0.687892   \n",
       "1  2.689012  0.817277  ...   80.452591  666.0  2552.0   1.149273   14.546570   \n",
       "2  0.000000  0.798937  ...  190.957947  103.0   213.0  -5.968551  154.971451   \n",
       "3  0.000000  0.826357  ...    0.464587   16.0  2576.0   4.431015    6.842685   \n",
       "4  2.805979  0.797859  ...  192.430420   86.0   131.0  18.884167  273.286896   \n",
       "\n",
       "          M11         M12       FA1       FA2  Class  \n",
       "0    0.169358    0.857251  0.045817  2.484042  CL146  \n",
       "1   13.930302   28.476871  0.101117  3.193393    CL6  \n",
       "2  184.861984  339.833435  0.085103  8.746268    CL6  \n",
       "3    5.425236   12.267921  0.137593  9.402219  CL187  \n",
       "4  281.943420  555.230286  0.108135  6.391616    CL6  \n",
       "\n",
       "[5 rows x 7676 columns]"
      ]
     },
     "execution_count": 3,
     "metadata": {},
     "output_type": "execute_result"
    }
   ],
   "source": [
    "# Data has 7676 columns in total\n",
    "data.head()"
   ]
  },
  {
   "cell_type": "code",
   "execution_count": 4,
   "id": "52429fb2",
   "metadata": {},
   "outputs": [
    {
     "data": {
      "text/plain": [
       "34553"
      ]
     },
     "execution_count": 4,
     "metadata": {},
     "output_type": "execute_result"
    }
   ],
   "source": [
    "# Data has 34553 samples in total\n",
    "len(data)"
   ]
  },
  {
   "cell_type": "markdown",
   "id": "b194fac7",
   "metadata": {},
   "source": [
    "# Data Preprocessing"
   ]
  },
  {
   "cell_type": "markdown",
   "id": "155f832e",
   "metadata": {},
   "source": [
    "## Dealing with missing data"
   ]
  },
  {
   "cell_type": "code",
   "execution_count": 5,
   "id": "97fad884",
   "metadata": {},
   "outputs": [],
   "source": [
    "# remove first three columns\n",
    "data = data.iloc[:,3:]\n",
    "# remove rows with number of missing values > 50%. Number of removed rows is 0.\n",
    "data = data[data.isnull().sum(axis=1) < 3837]"
   ]
  },
  {
   "cell_type": "code",
   "execution_count": 6,
   "id": "d0ea6293",
   "metadata": {},
   "outputs": [
    {
     "data": {
      "text/html": [
       "<div>\n",
       "<style scoped>\n",
       "    .dataframe tbody tr th:only-of-type {\n",
       "        vertical-align: middle;\n",
       "    }\n",
       "\n",
       "    .dataframe tbody tr th {\n",
       "        vertical-align: top;\n",
       "    }\n",
       "\n",
       "    .dataframe thead th {\n",
       "        text-align: right;\n",
       "    }\n",
       "</style>\n",
       "<table border=\"1\" class=\"dataframe\">\n",
       "  <thead>\n",
       "    <tr style=\"text-align: right;\">\n",
       "      <th></th>\n",
       "    </tr>\n",
       "  </thead>\n",
       "  <tbody>\n",
       "    <tr>\n",
       "      <th>0</th>\n",
       "    </tr>\n",
       "    <tr>\n",
       "      <th>1</th>\n",
       "    </tr>\n",
       "    <tr>\n",
       "      <th>2</th>\n",
       "    </tr>\n",
       "    <tr>\n",
       "      <th>3</th>\n",
       "    </tr>\n",
       "    <tr>\n",
       "      <th>4</th>\n",
       "    </tr>\n",
       "  </tbody>\n",
       "</table>\n",
       "</div>"
      ],
      "text/plain": [
       "Empty DataFrame\n",
       "Columns: []\n",
       "Index: [0, 1, 2, 3, 4]"
      ]
     },
     "execution_count": 6,
     "metadata": {},
     "output_type": "execute_result"
    }
   ],
   "source": [
    "# Separate X and y\n",
    "X = data.iloc[:,:-1]\n",
    "y = data.iloc[:,-1].values\n",
    "# Check data type of features. All are numeric variables.\n",
    "X.select_dtypes(exclude=np.number).head()"
   ]
  },
  {
   "cell_type": "code",
   "execution_count": 7,
   "id": "40cd9e73",
   "metadata": {},
   "outputs": [
    {
     "data": {
      "text/plain": [
       "Counter({'CL146': 4120,\n",
       "         'CL6': 21844,\n",
       "         'CL187': 483,\n",
       "         'CL36': 262,\n",
       "         'CL376': 1842,\n",
       "         'CL200': 309,\n",
       "         'CL168': 593,\n",
       "         'CL2': 903,\n",
       "         'CL1': 275,\n",
       "         'CL5': 181,\n",
       "         'CL8612': 492,\n",
       "         'CL208': 311,\n",
       "         'CL29': 646,\n",
       "         'CL327': 205,\n",
       "         'CL8': 11,\n",
       "         'CL4': 219,\n",
       "         'CL153': 125,\n",
       "         'CL95': 186,\n",
       "         'CL167': 41,\n",
       "         'CL112': 66,\n",
       "         'CL12': 281,\n",
       "         'CL9': 217,\n",
       "         'CL37': 209,\n",
       "         'CL244': 243,\n",
       "         'CL233': 23,\n",
       "         'CL147': 45,\n",
       "         'CL266': 51,\n",
       "         'CL94': 157,\n",
       "         'CL7': 212,\n",
       "         'CL92': 1})"
      ]
     },
     "execution_count": 7,
     "metadata": {},
     "output_type": "execute_result"
    }
   ],
   "source": [
    "from collections import Counter\n",
    "Counter(y)"
   ]
  },
  {
   "cell_type": "code",
   "execution_count": 8,
   "id": "14f6bf50",
   "metadata": {},
   "outputs": [],
   "source": [
    "# remove columns with number of missing values > 50%\n",
    "X = X[X.columns[X.isnull().sum() < 17277]]"
   ]
  },
  {
   "cell_type": "code",
   "execution_count": 9,
   "id": "ffa1d83b",
   "metadata": {},
   "outputs": [
    {
     "data": {
      "text/html": [
       "<div>\n",
       "<style scoped>\n",
       "    .dataframe tbody tr th:only-of-type {\n",
       "        vertical-align: middle;\n",
       "    }\n",
       "\n",
       "    .dataframe tbody tr th {\n",
       "        vertical-align: top;\n",
       "    }\n",
       "\n",
       "    .dataframe thead th {\n",
       "        text-align: right;\n",
       "    }\n",
       "</style>\n",
       "<table border=\"1\" class=\"dataframe\">\n",
       "  <thead>\n",
       "    <tr style=\"text-align: right;\">\n",
       "      <th></th>\n",
       "      <th>GR1</th>\n",
       "      <th>GR2</th>\n",
       "      <th>GR3</th>\n",
       "      <th>GR4</th>\n",
       "      <th>GR5</th>\n",
       "      <th>GR6</th>\n",
       "      <th>GR7</th>\n",
       "      <th>GR8</th>\n",
       "      <th>GR9</th>\n",
       "      <th>GR10</th>\n",
       "      <th>...</th>\n",
       "      <th>M5</th>\n",
       "      <th>M6</th>\n",
       "      <th>M7</th>\n",
       "      <th>M8</th>\n",
       "      <th>M9</th>\n",
       "      <th>M10</th>\n",
       "      <th>M11</th>\n",
       "      <th>M12</th>\n",
       "      <th>FA1</th>\n",
       "      <th>FA2</th>\n",
       "    </tr>\n",
       "  </thead>\n",
       "  <tbody>\n",
       "    <tr>\n",
       "      <th>0</th>\n",
       "      <td>88.0</td>\n",
       "      <td>4000.0</td>\n",
       "      <td>0.788286</td>\n",
       "      <td>0.858421</td>\n",
       "      <td>0.000000</td>\n",
       "      <td>0.000000</td>\n",
       "      <td>0.808354</td>\n",
       "      <td>0.808401</td>\n",
       "      <td>0.010337</td>\n",
       "      <td>0.010377</td>\n",
       "      <td>...</td>\n",
       "      <td>0.139255</td>\n",
       "      <td>0.770476</td>\n",
       "      <td>3.0</td>\n",
       "      <td>2036.0</td>\n",
       "      <td>-0.128886</td>\n",
       "      <td>0.687892</td>\n",
       "      <td>0.169358</td>\n",
       "      <td>0.857251</td>\n",
       "      <td>0.045817</td>\n",
       "      <td>2.484042</td>\n",
       "    </tr>\n",
       "    <tr>\n",
       "      <th>1</th>\n",
       "      <td>177.0</td>\n",
       "      <td>4000.0</td>\n",
       "      <td>0.842848</td>\n",
       "      <td>1.676998</td>\n",
       "      <td>2.689012</td>\n",
       "      <td>2.689012</td>\n",
       "      <td>0.817277</td>\n",
       "      <td>0.839456</td>\n",
       "      <td>0.016430</td>\n",
       "      <td>0.016606</td>\n",
       "      <td>...</td>\n",
       "      <td>31.988707</td>\n",
       "      <td>80.452591</td>\n",
       "      <td>666.0</td>\n",
       "      <td>2552.0</td>\n",
       "      <td>1.149273</td>\n",
       "      <td>14.546570</td>\n",
       "      <td>13.930302</td>\n",
       "      <td>28.476871</td>\n",
       "      <td>0.101117</td>\n",
       "      <td>3.193393</td>\n",
       "    </tr>\n",
       "    <tr>\n",
       "      <th>2</th>\n",
       "      <td>209.0</td>\n",
       "      <td>4000.0</td>\n",
       "      <td>0.986631</td>\n",
       "      <td>1.118038</td>\n",
       "      <td>0.000000</td>\n",
       "      <td>0.000000</td>\n",
       "      <td>0.798937</td>\n",
       "      <td>0.801879</td>\n",
       "      <td>0.010544</td>\n",
       "      <td>0.010625</td>\n",
       "      <td>...</td>\n",
       "      <td>97.268913</td>\n",
       "      <td>190.957947</td>\n",
       "      <td>103.0</td>\n",
       "      <td>213.0</td>\n",
       "      <td>-5.968551</td>\n",
       "      <td>154.971451</td>\n",
       "      <td>184.861984</td>\n",
       "      <td>339.833435</td>\n",
       "      <td>0.085103</td>\n",
       "      <td>8.746268</td>\n",
       "    </tr>\n",
       "    <tr>\n",
       "      <th>3</th>\n",
       "      <td>471.0</td>\n",
       "      <td>4000.0</td>\n",
       "      <td>0.986631</td>\n",
       "      <td>1.000529</td>\n",
       "      <td>0.000000</td>\n",
       "      <td>0.000000</td>\n",
       "      <td>0.826357</td>\n",
       "      <td>0.836645</td>\n",
       "      <td>0.014480</td>\n",
       "      <td>0.014515</td>\n",
       "      <td>...</td>\n",
       "      <td>0.369776</td>\n",
       "      <td>0.464587</td>\n",
       "      <td>16.0</td>\n",
       "      <td>2576.0</td>\n",
       "      <td>4.431015</td>\n",
       "      <td>6.842685</td>\n",
       "      <td>5.425236</td>\n",
       "      <td>12.267921</td>\n",
       "      <td>0.137593</td>\n",
       "      <td>9.402219</td>\n",
       "    </tr>\n",
       "    <tr>\n",
       "      <th>4</th>\n",
       "      <td>363.0</td>\n",
       "      <td>4000.0</td>\n",
       "      <td>0.994236</td>\n",
       "      <td>1.011487</td>\n",
       "      <td>0.000000</td>\n",
       "      <td>2.805979</td>\n",
       "      <td>0.797859</td>\n",
       "      <td>0.811558</td>\n",
       "      <td>0.010298</td>\n",
       "      <td>0.010537</td>\n",
       "      <td>...</td>\n",
       "      <td>154.239075</td>\n",
       "      <td>192.430420</td>\n",
       "      <td>86.0</td>\n",
       "      <td>131.0</td>\n",
       "      <td>18.884167</td>\n",
       "      <td>273.286896</td>\n",
       "      <td>281.943420</td>\n",
       "      <td>555.230286</td>\n",
       "      <td>0.108135</td>\n",
       "      <td>6.391616</td>\n",
       "    </tr>\n",
       "  </tbody>\n",
       "</table>\n",
       "<p>5 rows × 7484 columns</p>\n",
       "</div>"
      ],
      "text/plain": [
       "     GR1     GR2       GR3       GR4       GR5       GR6       GR7       GR8  \\\n",
       "0   88.0  4000.0  0.788286  0.858421  0.000000  0.000000  0.808354  0.808401   \n",
       "1  177.0  4000.0  0.842848  1.676998  2.689012  2.689012  0.817277  0.839456   \n",
       "2  209.0  4000.0  0.986631  1.118038  0.000000  0.000000  0.798937  0.801879   \n",
       "3  471.0  4000.0  0.986631  1.000529  0.000000  0.000000  0.826357  0.836645   \n",
       "4  363.0  4000.0  0.994236  1.011487  0.000000  2.805979  0.797859  0.811558   \n",
       "\n",
       "        GR9      GR10  ...          M5          M6     M7      M8         M9  \\\n",
       "0  0.010337  0.010377  ...    0.139255    0.770476    3.0  2036.0  -0.128886   \n",
       "1  0.016430  0.016606  ...   31.988707   80.452591  666.0  2552.0   1.149273   \n",
       "2  0.010544  0.010625  ...   97.268913  190.957947  103.0   213.0  -5.968551   \n",
       "3  0.014480  0.014515  ...    0.369776    0.464587   16.0  2576.0   4.431015   \n",
       "4  0.010298  0.010537  ...  154.239075  192.430420   86.0   131.0  18.884167   \n",
       "\n",
       "          M10         M11         M12       FA1       FA2  \n",
       "0    0.687892    0.169358    0.857251  0.045817  2.484042  \n",
       "1   14.546570   13.930302   28.476871  0.101117  3.193393  \n",
       "2  154.971451  184.861984  339.833435  0.085103  8.746268  \n",
       "3    6.842685    5.425236   12.267921  0.137593  9.402219  \n",
       "4  273.286896  281.943420  555.230286  0.108135  6.391616  \n",
       "\n",
       "[5 rows x 7484 columns]"
      ]
     },
     "execution_count": 9,
     "metadata": {},
     "output_type": "execute_result"
    }
   ],
   "source": [
    "# X has 7484 features for now\n",
    "X.head()"
   ]
  },
  {
   "cell_type": "code",
   "execution_count": 10,
   "id": "426e1887",
   "metadata": {},
   "outputs": [
    {
     "data": {
      "text/plain": [
       "26243"
      ]
     },
     "execution_count": 10,
     "metadata": {},
     "output_type": "execute_result"
    }
   ],
   "source": [
    "# There are 26243 out of 34553 rows contain missing values after roughly filtering out missing values\n",
    "missrow = X.isnull().sum(axis=1)\n",
    "missrow = missrow[missrow != 0]\n",
    "len(missrow)"
   ]
  },
  {
   "cell_type": "markdown",
   "id": "cd3b4daa",
   "metadata": {},
   "source": [
    "## Split training and test data"
   ]
  },
  {
   "cell_type": "code",
   "execution_count": 11,
   "id": "e98191bc",
   "metadata": {},
   "outputs": [],
   "source": [
    "column_name = X.columns\n",
    "X = X.values"
   ]
  },
  {
   "cell_type": "code",
   "execution_count": 12,
   "id": "051763ca",
   "metadata": {},
   "outputs": [],
   "source": [
    "# Split 80% samples as training data and the rest 20% as test data\n",
    "from sklearn.model_selection import train_test_split\n",
    "X_train, X_test, y_train, y_test = train_test_split(X, y, test_size=0.2, random_state=42)"
   ]
  },
  {
   "cell_type": "code",
   "execution_count": 13,
   "id": "45ff7895",
   "metadata": {},
   "outputs": [],
   "source": [
    "# Replace missing data in each column with the mean value in the training dataset in that column \n",
    "from sklearn.impute import SimpleImputer\n",
    "imputer = SimpleImputer(missing_values=np.nan, strategy='mean')\n",
    "imputer.fit(X_train)\n",
    "X_train = imputer.transform(X_train)\n",
    "X_test = imputer.transform(X_test)"
   ]
  },
  {
   "cell_type": "markdown",
   "id": "f712cd1b",
   "metadata": {},
   "source": [
    "## Data normalization"
   ]
  },
  {
   "cell_type": "code",
   "execution_count": 14,
   "id": "f2ff52be",
   "metadata": {},
   "outputs": [],
   "source": [
    "from sklearn.preprocessing import StandardScaler\n",
    "sc = StandardScaler()\n",
    "X_train = sc.fit_transform(X_train)\n",
    "X_test = sc.transform(X_test)"
   ]
  },
  {
   "cell_type": "markdown",
   "id": "2558021b",
   "metadata": {},
   "source": [
    "## Feature Selection"
   ]
  },
  {
   "cell_type": "code",
   "execution_count": 15,
   "id": "b651a646",
   "metadata": {},
   "outputs": [],
   "source": [
    "# 7394 out of 7484 features are left after removing features with 0 variances.\n",
    "X_train = pd.DataFrame(data=X_train,columns=column_name)\n",
    "X_test = pd.DataFrame(data=X_test,columns=column_name)\n",
    "filter_name = X_train.var()[X_train.var() > 0].index\n",
    "from sklearn.feature_selection import VarianceThreshold\n",
    "sel = VarianceThreshold()\n",
    "sel.fit_transform(X_train.values)\n",
    "X_train = sel.transform(X_train.values)\n",
    "X_test = sel.transform(X_test.values)\n",
    "X_train = pd.DataFrame(data=X_train,columns=filter_name)\n",
    "X_test = pd.DataFrame(data=X_test,columns=filter_name)"
   ]
  },
  {
   "cell_type": "code",
   "execution_count": 16,
   "id": "12650dfe",
   "metadata": {},
   "outputs": [
    {
     "data": {
      "text/html": [
       "<div>\n",
       "<style scoped>\n",
       "    .dataframe tbody tr th:only-of-type {\n",
       "        vertical-align: middle;\n",
       "    }\n",
       "\n",
       "    .dataframe tbody tr th {\n",
       "        vertical-align: top;\n",
       "    }\n",
       "\n",
       "    .dataframe thead th {\n",
       "        text-align: right;\n",
       "    }\n",
       "</style>\n",
       "<table border=\"1\" class=\"dataframe\">\n",
       "  <thead>\n",
       "    <tr style=\"text-align: right;\">\n",
       "      <th></th>\n",
       "      <th>GR1</th>\n",
       "      <th>GR3</th>\n",
       "      <th>GR4</th>\n",
       "      <th>GR5</th>\n",
       "      <th>GR6</th>\n",
       "      <th>GR7</th>\n",
       "      <th>GR8</th>\n",
       "      <th>GR9</th>\n",
       "      <th>GR10</th>\n",
       "      <th>GR11</th>\n",
       "      <th>...</th>\n",
       "      <th>M5</th>\n",
       "      <th>M6</th>\n",
       "      <th>M7</th>\n",
       "      <th>M8</th>\n",
       "      <th>M9</th>\n",
       "      <th>M10</th>\n",
       "      <th>M11</th>\n",
       "      <th>M12</th>\n",
       "      <th>FA1</th>\n",
       "      <th>FA2</th>\n",
       "    </tr>\n",
       "  </thead>\n",
       "  <tbody>\n",
       "    <tr>\n",
       "      <th>0</th>\n",
       "      <td>0.103555</td>\n",
       "      <td>-1.650776</td>\n",
       "      <td>-2.070533</td>\n",
       "      <td>-0.336799</td>\n",
       "      <td>-0.426226</td>\n",
       "      <td>-5.236764</td>\n",
       "      <td>-6.536165</td>\n",
       "      <td>-0.333118</td>\n",
       "      <td>-0.336289</td>\n",
       "      <td>-2.810706</td>\n",
       "      <td>...</td>\n",
       "      <td>-0.724895</td>\n",
       "      <td>-0.727857</td>\n",
       "      <td>-0.792277</td>\n",
       "      <td>8.504634</td>\n",
       "      <td>-0.002797</td>\n",
       "      <td>-0.717904</td>\n",
       "      <td>-0.712531</td>\n",
       "      <td>-0.725839</td>\n",
       "      <td>1.319600</td>\n",
       "      <td>-1.102920</td>\n",
       "    </tr>\n",
       "    <tr>\n",
       "      <th>1</th>\n",
       "      <td>0.284808</td>\n",
       "      <td>-0.593807</td>\n",
       "      <td>-0.816753</td>\n",
       "      <td>-0.336799</td>\n",
       "      <td>0.110718</td>\n",
       "      <td>0.210166</td>\n",
       "      <td>0.252335</td>\n",
       "      <td>-0.227123</td>\n",
       "      <td>-0.235716</td>\n",
       "      <td>-0.909826</td>\n",
       "      <td>...</td>\n",
       "      <td>-0.635380</td>\n",
       "      <td>-0.622713</td>\n",
       "      <td>-0.391929</td>\n",
       "      <td>0.054001</td>\n",
       "      <td>-0.002642</td>\n",
       "      <td>-0.700824</td>\n",
       "      <td>-0.694957</td>\n",
       "      <td>-0.708256</td>\n",
       "      <td>-0.488553</td>\n",
       "      <td>0.881691</td>\n",
       "    </tr>\n",
       "    <tr>\n",
       "      <th>2</th>\n",
       "      <td>-0.719053</td>\n",
       "      <td>0.019380</td>\n",
       "      <td>0.539628</td>\n",
       "      <td>-0.336799</td>\n",
       "      <td>0.126284</td>\n",
       "      <td>0.402640</td>\n",
       "      <td>0.344127</td>\n",
       "      <td>-0.246993</td>\n",
       "      <td>-0.254542</td>\n",
       "      <td>-1.036959</td>\n",
       "      <td>...</td>\n",
       "      <td>-0.175932</td>\n",
       "      <td>-0.041635</td>\n",
       "      <td>0.173780</td>\n",
       "      <td>-0.325247</td>\n",
       "      <td>-0.248619</td>\n",
       "      <td>-0.266106</td>\n",
       "      <td>-0.266202</td>\n",
       "      <td>-0.270098</td>\n",
       "      <td>-0.700317</td>\n",
       "      <td>0.873965</td>\n",
       "    </tr>\n",
       "    <tr>\n",
       "      <th>3</th>\n",
       "      <td>0.223460</td>\n",
       "      <td>-1.218444</td>\n",
       "      <td>-1.124347</td>\n",
       "      <td>0.093440</td>\n",
       "      <td>-0.057886</td>\n",
       "      <td>-0.199482</td>\n",
       "      <td>0.118980</td>\n",
       "      <td>-0.224714</td>\n",
       "      <td>-0.234252</td>\n",
       "      <td>0.091828</td>\n",
       "      <td>...</td>\n",
       "      <td>-0.735528</td>\n",
       "      <td>-0.742277</td>\n",
       "      <td>-0.774871</td>\n",
       "      <td>-0.276019</td>\n",
       "      <td>-0.006569</td>\n",
       "      <td>-0.714398</td>\n",
       "      <td>-0.712296</td>\n",
       "      <td>-0.723927</td>\n",
       "      <td>-0.624277</td>\n",
       "      <td>1.437723</td>\n",
       "    </tr>\n",
       "    <tr>\n",
       "      <th>4</th>\n",
       "      <td>-0.097217</td>\n",
       "      <td>0.993065</td>\n",
       "      <td>0.882016</td>\n",
       "      <td>0.210805</td>\n",
       "      <td>0.108960</td>\n",
       "      <td>0.552694</td>\n",
       "      <td>0.455365</td>\n",
       "      <td>-0.208740</td>\n",
       "      <td>-0.218116</td>\n",
       "      <td>0.513834</td>\n",
       "      <td>...</td>\n",
       "      <td>2.310074</td>\n",
       "      <td>1.793949</td>\n",
       "      <td>3.524522</td>\n",
       "      <td>-0.271049</td>\n",
       "      <td>0.022872</td>\n",
       "      <td>-0.526684</td>\n",
       "      <td>-0.541303</td>\n",
       "      <td>-0.541850</td>\n",
       "      <td>0.411736</td>\n",
       "      <td>0.087108</td>\n",
       "    </tr>\n",
       "  </tbody>\n",
       "</table>\n",
       "<p>5 rows × 7394 columns</p>\n",
       "</div>"
      ],
      "text/plain": [
       "        GR1       GR3       GR4       GR5       GR6       GR7       GR8  \\\n",
       "0  0.103555 -1.650776 -2.070533 -0.336799 -0.426226 -5.236764 -6.536165   \n",
       "1  0.284808 -0.593807 -0.816753 -0.336799  0.110718  0.210166  0.252335   \n",
       "2 -0.719053  0.019380  0.539628 -0.336799  0.126284  0.402640  0.344127   \n",
       "3  0.223460 -1.218444 -1.124347  0.093440 -0.057886 -0.199482  0.118980   \n",
       "4 -0.097217  0.993065  0.882016  0.210805  0.108960  0.552694  0.455365   \n",
       "\n",
       "        GR9      GR10      GR11  ...        M5        M6        M7        M8  \\\n",
       "0 -0.333118 -0.336289 -2.810706  ... -0.724895 -0.727857 -0.792277  8.504634   \n",
       "1 -0.227123 -0.235716 -0.909826  ... -0.635380 -0.622713 -0.391929  0.054001   \n",
       "2 -0.246993 -0.254542 -1.036959  ... -0.175932 -0.041635  0.173780 -0.325247   \n",
       "3 -0.224714 -0.234252  0.091828  ... -0.735528 -0.742277 -0.774871 -0.276019   \n",
       "4 -0.208740 -0.218116  0.513834  ...  2.310074  1.793949  3.524522 -0.271049   \n",
       "\n",
       "         M9       M10       M11       M12       FA1       FA2  \n",
       "0 -0.002797 -0.717904 -0.712531 -0.725839  1.319600 -1.102920  \n",
       "1 -0.002642 -0.700824 -0.694957 -0.708256 -0.488553  0.881691  \n",
       "2 -0.248619 -0.266106 -0.266202 -0.270098 -0.700317  0.873965  \n",
       "3 -0.006569 -0.714398 -0.712296 -0.723927 -0.624277  1.437723  \n",
       "4  0.022872 -0.526684 -0.541303 -0.541850  0.411736  0.087108  \n",
       "\n",
       "[5 rows x 7394 columns]"
      ]
     },
     "execution_count": 16,
     "metadata": {},
     "output_type": "execute_result"
    }
   ],
   "source": [
    "X_train.head()"
   ]
  },
  {
   "cell_type": "code",
   "execution_count": 17,
   "id": "29ca3ffb",
   "metadata": {},
   "outputs": [],
   "source": [
    "# Use Univariate feature selection method and remove features with p-value >0.01. 7308 features left\n",
    "from sklearn.feature_selection import SelectKBest, f_classif\n",
    "selector = SelectKBest(f_classif, k=7316)\n",
    "selector.fit(X_train.values, y_train)\n",
    "scores = selector.pvalues_\n",
    "X_train = selector.transform(X_train.values)\n",
    "X_test = selector.transform(X_test.values)\n",
    "filter_name = filter_name[scores<=0.05]\n",
    "X_train = pd.DataFrame(data=X_train,columns=filter_name)\n",
    "X_test = pd.DataFrame(data=X_test,columns=filter_name)"
   ]
  },
  {
   "cell_type": "code",
   "execution_count": 18,
   "id": "6e1f1b3e",
   "metadata": {},
   "outputs": [
    {
     "data": {
      "text/plain": [
       "7316"
      ]
     },
     "execution_count": 18,
     "metadata": {},
     "output_type": "execute_result"
    }
   ],
   "source": [
    "(scores<=0.05).sum()"
   ]
  },
  {
   "cell_type": "code",
   "execution_count": 19,
   "id": "c0d938f0",
   "metadata": {},
   "outputs": [
    {
     "data": {
      "text/html": [
       "<div>\n",
       "<style scoped>\n",
       "    .dataframe tbody tr th:only-of-type {\n",
       "        vertical-align: middle;\n",
       "    }\n",
       "\n",
       "    .dataframe tbody tr th {\n",
       "        vertical-align: top;\n",
       "    }\n",
       "\n",
       "    .dataframe thead th {\n",
       "        text-align: right;\n",
       "    }\n",
       "</style>\n",
       "<table border=\"1\" class=\"dataframe\">\n",
       "  <thead>\n",
       "    <tr style=\"text-align: right;\">\n",
       "      <th></th>\n",
       "      <th>GR1</th>\n",
       "      <th>GR3</th>\n",
       "      <th>GR4</th>\n",
       "      <th>GR5</th>\n",
       "      <th>GR6</th>\n",
       "      <th>GR7</th>\n",
       "      <th>GR8</th>\n",
       "      <th>GR9</th>\n",
       "      <th>GR10</th>\n",
       "      <th>GR11</th>\n",
       "      <th>...</th>\n",
       "      <th>M4</th>\n",
       "      <th>M5</th>\n",
       "      <th>M6</th>\n",
       "      <th>M7</th>\n",
       "      <th>M8</th>\n",
       "      <th>M10</th>\n",
       "      <th>M11</th>\n",
       "      <th>M12</th>\n",
       "      <th>FA1</th>\n",
       "      <th>FA2</th>\n",
       "    </tr>\n",
       "  </thead>\n",
       "  <tbody>\n",
       "    <tr>\n",
       "      <th>0</th>\n",
       "      <td>0.103555</td>\n",
       "      <td>-1.650776</td>\n",
       "      <td>-2.070533</td>\n",
       "      <td>-0.336799</td>\n",
       "      <td>-0.426226</td>\n",
       "      <td>-5.236764</td>\n",
       "      <td>-6.536165</td>\n",
       "      <td>-0.333118</td>\n",
       "      <td>-0.336289</td>\n",
       "      <td>-2.810706</td>\n",
       "      <td>...</td>\n",
       "      <td>-0.696176</td>\n",
       "      <td>-0.724895</td>\n",
       "      <td>-0.727857</td>\n",
       "      <td>-0.792277</td>\n",
       "      <td>8.504634</td>\n",
       "      <td>-0.717904</td>\n",
       "      <td>-0.712531</td>\n",
       "      <td>-0.725839</td>\n",
       "      <td>1.319600</td>\n",
       "      <td>-1.102920</td>\n",
       "    </tr>\n",
       "    <tr>\n",
       "      <th>1</th>\n",
       "      <td>0.284808</td>\n",
       "      <td>-0.593807</td>\n",
       "      <td>-0.816753</td>\n",
       "      <td>-0.336799</td>\n",
       "      <td>0.110718</td>\n",
       "      <td>0.210166</td>\n",
       "      <td>0.252335</td>\n",
       "      <td>-0.227123</td>\n",
       "      <td>-0.235716</td>\n",
       "      <td>-0.909826</td>\n",
       "      <td>...</td>\n",
       "      <td>-0.579763</td>\n",
       "      <td>-0.635380</td>\n",
       "      <td>-0.622713</td>\n",
       "      <td>-0.391929</td>\n",
       "      <td>0.054001</td>\n",
       "      <td>-0.700824</td>\n",
       "      <td>-0.694957</td>\n",
       "      <td>-0.708256</td>\n",
       "      <td>-0.488553</td>\n",
       "      <td>0.881691</td>\n",
       "    </tr>\n",
       "    <tr>\n",
       "      <th>2</th>\n",
       "      <td>-0.719053</td>\n",
       "      <td>0.019380</td>\n",
       "      <td>0.539628</td>\n",
       "      <td>-0.336799</td>\n",
       "      <td>0.126284</td>\n",
       "      <td>0.402640</td>\n",
       "      <td>0.344127</td>\n",
       "      <td>-0.246993</td>\n",
       "      <td>-0.254542</td>\n",
       "      <td>-1.036959</td>\n",
       "      <td>...</td>\n",
       "      <td>0.100336</td>\n",
       "      <td>-0.175932</td>\n",
       "      <td>-0.041635</td>\n",
       "      <td>0.173780</td>\n",
       "      <td>-0.325247</td>\n",
       "      <td>-0.266106</td>\n",
       "      <td>-0.266202</td>\n",
       "      <td>-0.270098</td>\n",
       "      <td>-0.700317</td>\n",
       "      <td>0.873965</td>\n",
       "    </tr>\n",
       "    <tr>\n",
       "      <th>3</th>\n",
       "      <td>0.223460</td>\n",
       "      <td>-1.218444</td>\n",
       "      <td>-1.124347</td>\n",
       "      <td>0.093440</td>\n",
       "      <td>-0.057886</td>\n",
       "      <td>-0.199482</td>\n",
       "      <td>0.118980</td>\n",
       "      <td>-0.224714</td>\n",
       "      <td>-0.234252</td>\n",
       "      <td>0.091828</td>\n",
       "      <td>...</td>\n",
       "      <td>-0.713854</td>\n",
       "      <td>-0.735528</td>\n",
       "      <td>-0.742277</td>\n",
       "      <td>-0.774871</td>\n",
       "      <td>-0.276019</td>\n",
       "      <td>-0.714398</td>\n",
       "      <td>-0.712296</td>\n",
       "      <td>-0.723927</td>\n",
       "      <td>-0.624277</td>\n",
       "      <td>1.437723</td>\n",
       "    </tr>\n",
       "    <tr>\n",
       "      <th>4</th>\n",
       "      <td>-0.097217</td>\n",
       "      <td>0.993065</td>\n",
       "      <td>0.882016</td>\n",
       "      <td>0.210805</td>\n",
       "      <td>0.108960</td>\n",
       "      <td>0.552694</td>\n",
       "      <td>0.455365</td>\n",
       "      <td>-0.208740</td>\n",
       "      <td>-0.218116</td>\n",
       "      <td>0.513834</td>\n",
       "      <td>...</td>\n",
       "      <td>1.170280</td>\n",
       "      <td>2.310074</td>\n",
       "      <td>1.793949</td>\n",
       "      <td>3.524522</td>\n",
       "      <td>-0.271049</td>\n",
       "      <td>-0.526684</td>\n",
       "      <td>-0.541303</td>\n",
       "      <td>-0.541850</td>\n",
       "      <td>0.411736</td>\n",
       "      <td>0.087108</td>\n",
       "    </tr>\n",
       "  </tbody>\n",
       "</table>\n",
       "<p>5 rows × 7316 columns</p>\n",
       "</div>"
      ],
      "text/plain": [
       "        GR1       GR3       GR4       GR5       GR6       GR7       GR8  \\\n",
       "0  0.103555 -1.650776 -2.070533 -0.336799 -0.426226 -5.236764 -6.536165   \n",
       "1  0.284808 -0.593807 -0.816753 -0.336799  0.110718  0.210166  0.252335   \n",
       "2 -0.719053  0.019380  0.539628 -0.336799  0.126284  0.402640  0.344127   \n",
       "3  0.223460 -1.218444 -1.124347  0.093440 -0.057886 -0.199482  0.118980   \n",
       "4 -0.097217  0.993065  0.882016  0.210805  0.108960  0.552694  0.455365   \n",
       "\n",
       "        GR9      GR10      GR11  ...        M4        M5        M6        M7  \\\n",
       "0 -0.333118 -0.336289 -2.810706  ... -0.696176 -0.724895 -0.727857 -0.792277   \n",
       "1 -0.227123 -0.235716 -0.909826  ... -0.579763 -0.635380 -0.622713 -0.391929   \n",
       "2 -0.246993 -0.254542 -1.036959  ...  0.100336 -0.175932 -0.041635  0.173780   \n",
       "3 -0.224714 -0.234252  0.091828  ... -0.713854 -0.735528 -0.742277 -0.774871   \n",
       "4 -0.208740 -0.218116  0.513834  ...  1.170280  2.310074  1.793949  3.524522   \n",
       "\n",
       "         M8       M10       M11       M12       FA1       FA2  \n",
       "0  8.504634 -0.717904 -0.712531 -0.725839  1.319600 -1.102920  \n",
       "1  0.054001 -0.700824 -0.694957 -0.708256 -0.488553  0.881691  \n",
       "2 -0.325247 -0.266106 -0.266202 -0.270098 -0.700317  0.873965  \n",
       "3 -0.276019 -0.714398 -0.712296 -0.723927 -0.624277  1.437723  \n",
       "4 -0.271049 -0.526684 -0.541303 -0.541850  0.411736  0.087108  \n",
       "\n",
       "[5 rows x 7316 columns]"
      ]
     },
     "execution_count": 19,
     "metadata": {},
     "output_type": "execute_result"
    }
   ],
   "source": [
    "X_train.head()"
   ]
  },
  {
   "cell_type": "markdown",
   "id": "52c43ea7",
   "metadata": {},
   "source": [
    "## Dimension reduction"
   ]
  },
  {
   "cell_type": "code",
   "execution_count": 20,
   "id": "5ea0c878",
   "metadata": {},
   "outputs": [
    {
     "name": "stdout",
     "output_type": "stream",
     "text": [
      "[0.14036058 0.11584552 0.07151021 0.05470373 0.04127982 0.02829103\n",
      " 0.02027382 0.01730074 0.01496052 0.01296736 0.01254053 0.0107479\n",
      " 0.01054404 0.00853495 0.00819693 0.00812521 0.00733141 0.00695643\n",
      " 0.00689608 0.00628261 0.0057903  0.00559843 0.00547166 0.00495213\n",
      " 0.00492569 0.00468222 0.00461941 0.00406534 0.00385918 0.00381083\n",
      " 0.00372741 0.00353036 0.00341558 0.00332571 0.00324763 0.00312451\n",
      " 0.00302372 0.00295973 0.00289005 0.00278547 0.00277333 0.00271686\n",
      " 0.00262717 0.00258673 0.00254325 0.00250123 0.00244462 0.00236617\n",
      " 0.00233888 0.00231101 0.00226635 0.00222227 0.00214529 0.00210911\n",
      " 0.00205296 0.00203437 0.00196171 0.00195255 0.00193625 0.0018535\n",
      " 0.00182919 0.00180712 0.00175178 0.00173193 0.00170044 0.00164666\n",
      " 0.00161818 0.00160823 0.00159726 0.00157283 0.00154816 0.00152319\n",
      " 0.00148978 0.00147523 0.00144593 0.00142283 0.0013989  0.00138277\n",
      " 0.00134819 0.0013424  0.00132916 0.00130244 0.0012859  0.00126498\n",
      " 0.00125187 0.00123971 0.00122182 0.00120976 0.00119039 0.00116854\n",
      " 0.00115985 0.00114333 0.00112788 0.00111151 0.00109699 0.00108157\n",
      " 0.00107212 0.00105841 0.00105013 0.00104073 0.00103718 0.00103137\n",
      " 0.00101272 0.0009989  0.0009875  0.00097907 0.00097005 0.00095639\n",
      " 0.00094655 0.0009385  0.00092772 0.00092089 0.00091621 0.00090688\n",
      " 0.00089715 0.00089122 0.00088788 0.00086116 0.00085648 0.00085483\n",
      " 0.00084538 0.0008359  0.00083434 0.00082088 0.00081913 0.00081008\n",
      " 0.00080125 0.00079032 0.00078729 0.00077708 0.00077444 0.00076732\n",
      " 0.00075275 0.00075021 0.00074831 0.00073709 0.00072695 0.000721\n",
      " 0.00071338 0.0007123  0.00070646 0.00070016 0.00069223 0.00068054\n",
      " 0.00067424 0.00067093 0.0006682  0.00066657 0.00066178 0.00065598\n",
      " 0.00065202 0.00064732 0.00063938 0.00063386 0.00063059 0.00062506\n",
      " 0.00062227 0.00061821 0.00061007 0.00060877 0.00060158 0.0005972\n",
      " 0.00059673 0.00059503 0.00058722 0.00058035 0.00057646 0.00056821\n",
      " 0.00056729 0.00056172 0.00055919 0.00055117 0.00054889 0.00054686\n",
      " 0.00054416 0.00054101 0.00053915 0.00053851 0.00053215 0.00052811\n",
      " 0.00052431 0.00052405 0.00051864 0.00051399 0.00051101 0.00050631\n",
      " 0.00050361 0.00050255 0.00049906 0.00049695 0.00049148 0.00048905\n",
      " 0.00048445 0.00048216 0.00047813]\n"
     ]
    }
   ],
   "source": [
    "# Do dimension reduction by PCA and keep n_components explaining >95% variance\n",
    "from sklearn.decomposition import PCA\n",
    "pca = PCA(n_components=0.85,svd_solver=\"full\")\n",
    "pca.fit(X_train.values)\n",
    "X_train = pca.transform(X_train.values)\n",
    "X_test = pca.transform(X_test.values)\n",
    "print(pca.explained_variance_ratio_)"
   ]
  },
  {
   "cell_type": "code",
   "execution_count": 21,
   "id": "d6c73e4f",
   "metadata": {},
   "outputs": [
    {
     "data": {
      "text/plain": [
       "195"
      ]
     },
     "execution_count": 21,
     "metadata": {},
     "output_type": "execute_result"
    }
   ],
   "source": [
    "len(pca.explained_variance_ratio_)"
   ]
  },
  {
   "cell_type": "markdown",
   "id": "5db88ab5",
   "metadata": {},
   "source": [
    "# Data training"
   ]
  },
  {
   "cell_type": "markdown",
   "id": "e66cf821",
   "metadata": {},
   "source": [
    "## Logistic Regression"
   ]
  },
  {
   "cell_type": "code",
   "execution_count": 45,
   "id": "22c26c7d",
   "metadata": {},
   "outputs": [
    {
     "name": "stderr",
     "output_type": "stream",
     "text": [
      "/Users/yushanyang/Software/anaconda3/lib/python3.9/site-packages/sklearn/linear_model/_logistic.py:444: ConvergenceWarning: lbfgs failed to converge (status=1):\n",
      "STOP: TOTAL NO. of ITERATIONS REACHED LIMIT.\n",
      "\n",
      "Increase the number of iterations (max_iter) or scale the data as shown in:\n",
      "    https://scikit-learn.org/stable/modules/preprocessing.html\n",
      "Please also refer to the documentation for alternative solver options:\n",
      "    https://scikit-learn.org/stable/modules/linear_model.html#logistic-regression\n",
      "  n_iter_i = _check_optimize_result(\n",
      "/Users/yushanyang/Software/anaconda3/lib/python3.9/site-packages/sklearn/linear_model/_logistic.py:444: ConvergenceWarning: lbfgs failed to converge (status=1):\n",
      "STOP: TOTAL NO. of ITERATIONS REACHED LIMIT.\n",
      "\n",
      "Increase the number of iterations (max_iter) or scale the data as shown in:\n",
      "    https://scikit-learn.org/stable/modules/preprocessing.html\n",
      "Please also refer to the documentation for alternative solver options:\n",
      "    https://scikit-learn.org/stable/modules/linear_model.html#logistic-regression\n",
      "  n_iter_i = _check_optimize_result(\n",
      "/Users/yushanyang/Software/anaconda3/lib/python3.9/site-packages/sklearn/linear_model/_logistic.py:444: ConvergenceWarning: lbfgs failed to converge (status=1):\n",
      "STOP: TOTAL NO. of ITERATIONS REACHED LIMIT.\n",
      "\n",
      "Increase the number of iterations (max_iter) or scale the data as shown in:\n",
      "    https://scikit-learn.org/stable/modules/preprocessing.html\n",
      "Please also refer to the documentation for alternative solver options:\n",
      "    https://scikit-learn.org/stable/modules/linear_model.html#logistic-regression\n",
      "  n_iter_i = _check_optimize_result(\n",
      "/Users/yushanyang/Software/anaconda3/lib/python3.9/site-packages/sklearn/linear_model/_logistic.py:444: ConvergenceWarning: lbfgs failed to converge (status=1):\n",
      "STOP: TOTAL NO. of ITERATIONS REACHED LIMIT.\n",
      "\n",
      "Increase the number of iterations (max_iter) or scale the data as shown in:\n",
      "    https://scikit-learn.org/stable/modules/preprocessing.html\n",
      "Please also refer to the documentation for alternative solver options:\n",
      "    https://scikit-learn.org/stable/modules/linear_model.html#logistic-regression\n",
      "  n_iter_i = _check_optimize_result(\n",
      "/Users/yushanyang/Software/anaconda3/lib/python3.9/site-packages/sklearn/linear_model/_logistic.py:444: ConvergenceWarning: lbfgs failed to converge (status=1):\n",
      "STOP: TOTAL NO. of ITERATIONS REACHED LIMIT.\n",
      "\n",
      "Increase the number of iterations (max_iter) or scale the data as shown in:\n",
      "    https://scikit-learn.org/stable/modules/preprocessing.html\n",
      "Please also refer to the documentation for alternative solver options:\n",
      "    https://scikit-learn.org/stable/modules/linear_model.html#logistic-regression\n",
      "  n_iter_i = _check_optimize_result(\n",
      "/Users/yushanyang/Software/anaconda3/lib/python3.9/site-packages/sklearn/linear_model/_logistic.py:444: ConvergenceWarning: lbfgs failed to converge (status=1):\n",
      "STOP: TOTAL NO. of ITERATIONS REACHED LIMIT.\n",
      "\n",
      "Increase the number of iterations (max_iter) or scale the data as shown in:\n",
      "    https://scikit-learn.org/stable/modules/preprocessing.html\n",
      "Please also refer to the documentation for alternative solver options:\n",
      "    https://scikit-learn.org/stable/modules/linear_model.html#logistic-regression\n",
      "  n_iter_i = _check_optimize_result(\n",
      "/Users/yushanyang/Software/anaconda3/lib/python3.9/site-packages/sklearn/linear_model/_logistic.py:444: ConvergenceWarning: lbfgs failed to converge (status=1):\n",
      "STOP: TOTAL NO. of ITERATIONS REACHED LIMIT.\n",
      "\n",
      "Increase the number of iterations (max_iter) or scale the data as shown in:\n",
      "    https://scikit-learn.org/stable/modules/preprocessing.html\n",
      "Please also refer to the documentation for alternative solver options:\n",
      "    https://scikit-learn.org/stable/modules/linear_model.html#logistic-regression\n",
      "  n_iter_i = _check_optimize_result(\n",
      "/Users/yushanyang/Software/anaconda3/lib/python3.9/site-packages/sklearn/linear_model/_logistic.py:444: ConvergenceWarning: lbfgs failed to converge (status=1):\n",
      "STOP: TOTAL NO. of ITERATIONS REACHED LIMIT.\n",
      "\n",
      "Increase the number of iterations (max_iter) or scale the data as shown in:\n",
      "    https://scikit-learn.org/stable/modules/preprocessing.html\n",
      "Please also refer to the documentation for alternative solver options:\n",
      "    https://scikit-learn.org/stable/modules/linear_model.html#logistic-regression\n",
      "  n_iter_i = _check_optimize_result(\n",
      "/Users/yushanyang/Software/anaconda3/lib/python3.9/site-packages/sklearn/linear_model/_logistic.py:444: ConvergenceWarning: lbfgs failed to converge (status=1):\n",
      "STOP: TOTAL NO. of ITERATIONS REACHED LIMIT.\n",
      "\n",
      "Increase the number of iterations (max_iter) or scale the data as shown in:\n",
      "    https://scikit-learn.org/stable/modules/preprocessing.html\n",
      "Please also refer to the documentation for alternative solver options:\n",
      "    https://scikit-learn.org/stable/modules/linear_model.html#logistic-regression\n",
      "  n_iter_i = _check_optimize_result(\n",
      "/Users/yushanyang/Software/anaconda3/lib/python3.9/site-packages/sklearn/linear_model/_logistic.py:444: ConvergenceWarning: lbfgs failed to converge (status=1):\n",
      "STOP: TOTAL NO. of ITERATIONS REACHED LIMIT.\n",
      "\n",
      "Increase the number of iterations (max_iter) or scale the data as shown in:\n",
      "    https://scikit-learn.org/stable/modules/preprocessing.html\n",
      "Please also refer to the documentation for alternative solver options:\n",
      "    https://scikit-learn.org/stable/modules/linear_model.html#logistic-regression\n",
      "  n_iter_i = _check_optimize_result(\n",
      "/Users/yushanyang/Software/anaconda3/lib/python3.9/site-packages/sklearn/linear_model/_logistic.py:444: ConvergenceWarning: lbfgs failed to converge (status=1):\n",
      "STOP: TOTAL NO. of ITERATIONS REACHED LIMIT.\n",
      "\n",
      "Increase the number of iterations (max_iter) or scale the data as shown in:\n",
      "    https://scikit-learn.org/stable/modules/preprocessing.html\n",
      "Please also refer to the documentation for alternative solver options:\n",
      "    https://scikit-learn.org/stable/modules/linear_model.html#logistic-regression\n",
      "  n_iter_i = _check_optimize_result(\n",
      "/Users/yushanyang/Software/anaconda3/lib/python3.9/site-packages/sklearn/linear_model/_logistic.py:444: ConvergenceWarning: lbfgs failed to converge (status=1):\n",
      "STOP: TOTAL NO. of ITERATIONS REACHED LIMIT.\n",
      "\n",
      "Increase the number of iterations (max_iter) or scale the data as shown in:\n",
      "    https://scikit-learn.org/stable/modules/preprocessing.html\n",
      "Please also refer to the documentation for alternative solver options:\n",
      "    https://scikit-learn.org/stable/modules/linear_model.html#logistic-regression\n",
      "  n_iter_i = _check_optimize_result(\n",
      "/Users/yushanyang/Software/anaconda3/lib/python3.9/site-packages/sklearn/linear_model/_logistic.py:444: ConvergenceWarning: lbfgs failed to converge (status=1):\n",
      "STOP: TOTAL NO. of ITERATIONS REACHED LIMIT.\n",
      "\n",
      "Increase the number of iterations (max_iter) or scale the data as shown in:\n",
      "    https://scikit-learn.org/stable/modules/preprocessing.html\n",
      "Please also refer to the documentation for alternative solver options:\n",
      "    https://scikit-learn.org/stable/modules/linear_model.html#logistic-regression\n",
      "  n_iter_i = _check_optimize_result(\n",
      "/Users/yushanyang/Software/anaconda3/lib/python3.9/site-packages/sklearn/linear_model/_logistic.py:444: ConvergenceWarning: lbfgs failed to converge (status=1):\n",
      "STOP: TOTAL NO. of ITERATIONS REACHED LIMIT.\n",
      "\n",
      "Increase the number of iterations (max_iter) or scale the data as shown in:\n",
      "    https://scikit-learn.org/stable/modules/preprocessing.html\n",
      "Please also refer to the documentation for alternative solver options:\n",
      "    https://scikit-learn.org/stable/modules/linear_model.html#logistic-regression\n",
      "  n_iter_i = _check_optimize_result(\n",
      "/Users/yushanyang/Software/anaconda3/lib/python3.9/site-packages/sklearn/linear_model/_logistic.py:444: ConvergenceWarning: lbfgs failed to converge (status=1):\n",
      "STOP: TOTAL NO. of ITERATIONS REACHED LIMIT.\n",
      "\n",
      "Increase the number of iterations (max_iter) or scale the data as shown in:\n",
      "    https://scikit-learn.org/stable/modules/preprocessing.html\n",
      "Please also refer to the documentation for alternative solver options:\n",
      "    https://scikit-learn.org/stable/modules/linear_model.html#logistic-regression\n",
      "  n_iter_i = _check_optimize_result(\n",
      "/Users/yushanyang/Software/anaconda3/lib/python3.9/site-packages/sklearn/linear_model/_logistic.py:444: ConvergenceWarning: lbfgs failed to converge (status=1):\n",
      "STOP: TOTAL NO. of ITERATIONS REACHED LIMIT.\n",
      "\n",
      "Increase the number of iterations (max_iter) or scale the data as shown in:\n",
      "    https://scikit-learn.org/stable/modules/preprocessing.html\n",
      "Please also refer to the documentation for alternative solver options:\n",
      "    https://scikit-learn.org/stable/modules/linear_model.html#logistic-regression\n",
      "  n_iter_i = _check_optimize_result(\n"
     ]
    },
    {
     "name": "stderr",
     "output_type": "stream",
     "text": [
      "/Users/yushanyang/Software/anaconda3/lib/python3.9/site-packages/sklearn/linear_model/_logistic.py:444: ConvergenceWarning: lbfgs failed to converge (status=1):\n",
      "STOP: TOTAL NO. of ITERATIONS REACHED LIMIT.\n",
      "\n",
      "Increase the number of iterations (max_iter) or scale the data as shown in:\n",
      "    https://scikit-learn.org/stable/modules/preprocessing.html\n",
      "Please also refer to the documentation for alternative solver options:\n",
      "    https://scikit-learn.org/stable/modules/linear_model.html#logistic-regression\n",
      "  n_iter_i = _check_optimize_result(\n",
      "/Users/yushanyang/Software/anaconda3/lib/python3.9/site-packages/sklearn/linear_model/_logistic.py:444: ConvergenceWarning: lbfgs failed to converge (status=1):\n",
      "STOP: TOTAL NO. of ITERATIONS REACHED LIMIT.\n",
      "\n",
      "Increase the number of iterations (max_iter) or scale the data as shown in:\n",
      "    https://scikit-learn.org/stable/modules/preprocessing.html\n",
      "Please also refer to the documentation for alternative solver options:\n",
      "    https://scikit-learn.org/stable/modules/linear_model.html#logistic-regression\n",
      "  n_iter_i = _check_optimize_result(\n",
      "/Users/yushanyang/Software/anaconda3/lib/python3.9/site-packages/sklearn/linear_model/_logistic.py:444: ConvergenceWarning: lbfgs failed to converge (status=1):\n",
      "STOP: TOTAL NO. of ITERATIONS REACHED LIMIT.\n",
      "\n",
      "Increase the number of iterations (max_iter) or scale the data as shown in:\n",
      "    https://scikit-learn.org/stable/modules/preprocessing.html\n",
      "Please also refer to the documentation for alternative solver options:\n",
      "    https://scikit-learn.org/stable/modules/linear_model.html#logistic-regression\n",
      "  n_iter_i = _check_optimize_result(\n",
      "/Users/yushanyang/Software/anaconda3/lib/python3.9/site-packages/sklearn/linear_model/_logistic.py:444: ConvergenceWarning: lbfgs failed to converge (status=1):\n",
      "STOP: TOTAL NO. of ITERATIONS REACHED LIMIT.\n",
      "\n",
      "Increase the number of iterations (max_iter) or scale the data as shown in:\n",
      "    https://scikit-learn.org/stable/modules/preprocessing.html\n",
      "Please also refer to the documentation for alternative solver options:\n",
      "    https://scikit-learn.org/stable/modules/linear_model.html#logistic-regression\n",
      "  n_iter_i = _check_optimize_result(\n",
      "/Users/yushanyang/Software/anaconda3/lib/python3.9/site-packages/sklearn/linear_model/_logistic.py:444: ConvergenceWarning: lbfgs failed to converge (status=1):\n",
      "STOP: TOTAL NO. of ITERATIONS REACHED LIMIT.\n",
      "\n",
      "Increase the number of iterations (max_iter) or scale the data as shown in:\n",
      "    https://scikit-learn.org/stable/modules/preprocessing.html\n",
      "Please also refer to the documentation for alternative solver options:\n",
      "    https://scikit-learn.org/stable/modules/linear_model.html#logistic-regression\n",
      "  n_iter_i = _check_optimize_result(\n",
      "/Users/yushanyang/Software/anaconda3/lib/python3.9/site-packages/sklearn/linear_model/_logistic.py:444: ConvergenceWarning: lbfgs failed to converge (status=1):\n",
      "STOP: TOTAL NO. of ITERATIONS REACHED LIMIT.\n",
      "\n",
      "Increase the number of iterations (max_iter) or scale the data as shown in:\n",
      "    https://scikit-learn.org/stable/modules/preprocessing.html\n",
      "Please also refer to the documentation for alternative solver options:\n",
      "    https://scikit-learn.org/stable/modules/linear_model.html#logistic-regression\n",
      "  n_iter_i = _check_optimize_result(\n",
      "/Users/yushanyang/Software/anaconda3/lib/python3.9/site-packages/sklearn/linear_model/_logistic.py:444: ConvergenceWarning: lbfgs failed to converge (status=1):\n",
      "STOP: TOTAL NO. of ITERATIONS REACHED LIMIT.\n",
      "\n",
      "Increase the number of iterations (max_iter) or scale the data as shown in:\n",
      "    https://scikit-learn.org/stable/modules/preprocessing.html\n",
      "Please also refer to the documentation for alternative solver options:\n",
      "    https://scikit-learn.org/stable/modules/linear_model.html#logistic-regression\n",
      "  n_iter_i = _check_optimize_result(\n",
      "/Users/yushanyang/Software/anaconda3/lib/python3.9/site-packages/sklearn/linear_model/_logistic.py:444: ConvergenceWarning: lbfgs failed to converge (status=1):\n",
      "STOP: TOTAL NO. of ITERATIONS REACHED LIMIT.\n",
      "\n",
      "Increase the number of iterations (max_iter) or scale the data as shown in:\n",
      "    https://scikit-learn.org/stable/modules/preprocessing.html\n",
      "Please also refer to the documentation for alternative solver options:\n",
      "    https://scikit-learn.org/stable/modules/linear_model.html#logistic-regression\n",
      "  n_iter_i = _check_optimize_result(\n",
      "/Users/yushanyang/Software/anaconda3/lib/python3.9/site-packages/sklearn/linear_model/_logistic.py:444: ConvergenceWarning: lbfgs failed to converge (status=1):\n",
      "STOP: TOTAL NO. of ITERATIONS REACHED LIMIT.\n",
      "\n",
      "Increase the number of iterations (max_iter) or scale the data as shown in:\n",
      "    https://scikit-learn.org/stable/modules/preprocessing.html\n",
      "Please also refer to the documentation for alternative solver options:\n",
      "    https://scikit-learn.org/stable/modules/linear_model.html#logistic-regression\n",
      "  n_iter_i = _check_optimize_result(\n",
      "/Users/yushanyang/Software/anaconda3/lib/python3.9/site-packages/sklearn/linear_model/_logistic.py:444: ConvergenceWarning: lbfgs failed to converge (status=1):\n",
      "STOP: TOTAL NO. of ITERATIONS REACHED LIMIT.\n",
      "\n",
      "Increase the number of iterations (max_iter) or scale the data as shown in:\n",
      "    https://scikit-learn.org/stable/modules/preprocessing.html\n",
      "Please also refer to the documentation for alternative solver options:\n",
      "    https://scikit-learn.org/stable/modules/linear_model.html#logistic-regression\n",
      "  n_iter_i = _check_optimize_result(\n"
     ]
    },
    {
     "data": {
      "text/html": [
       "<style>#sk-container-id-2 {color: black;background-color: white;}#sk-container-id-2 pre{padding: 0;}#sk-container-id-2 div.sk-toggleable {background-color: white;}#sk-container-id-2 label.sk-toggleable__label {cursor: pointer;display: block;width: 100%;margin-bottom: 0;padding: 0.3em;box-sizing: border-box;text-align: center;}#sk-container-id-2 label.sk-toggleable__label-arrow:before {content: \"▸\";float: left;margin-right: 0.25em;color: #696969;}#sk-container-id-2 label.sk-toggleable__label-arrow:hover:before {color: black;}#sk-container-id-2 div.sk-estimator:hover label.sk-toggleable__label-arrow:before {color: black;}#sk-container-id-2 div.sk-toggleable__content {max-height: 0;max-width: 0;overflow: hidden;text-align: left;background-color: #f0f8ff;}#sk-container-id-2 div.sk-toggleable__content pre {margin: 0.2em;color: black;border-radius: 0.25em;background-color: #f0f8ff;}#sk-container-id-2 input.sk-toggleable__control:checked~div.sk-toggleable__content {max-height: 200px;max-width: 100%;overflow: auto;}#sk-container-id-2 input.sk-toggleable__control:checked~label.sk-toggleable__label-arrow:before {content: \"▾\";}#sk-container-id-2 div.sk-estimator input.sk-toggleable__control:checked~label.sk-toggleable__label {background-color: #d4ebff;}#sk-container-id-2 div.sk-label input.sk-toggleable__control:checked~label.sk-toggleable__label {background-color: #d4ebff;}#sk-container-id-2 input.sk-hidden--visually {border: 0;clip: rect(1px 1px 1px 1px);clip: rect(1px, 1px, 1px, 1px);height: 1px;margin: -1px;overflow: hidden;padding: 0;position: absolute;width: 1px;}#sk-container-id-2 div.sk-estimator {font-family: monospace;background-color: #f0f8ff;border: 1px dotted black;border-radius: 0.25em;box-sizing: border-box;margin-bottom: 0.5em;}#sk-container-id-2 div.sk-estimator:hover {background-color: #d4ebff;}#sk-container-id-2 div.sk-parallel-item::after {content: \"\";width: 100%;border-bottom: 1px solid gray;flex-grow: 1;}#sk-container-id-2 div.sk-label:hover label.sk-toggleable__label {background-color: #d4ebff;}#sk-container-id-2 div.sk-serial::before {content: \"\";position: absolute;border-left: 1px solid gray;box-sizing: border-box;top: 0;bottom: 0;left: 50%;z-index: 0;}#sk-container-id-2 div.sk-serial {display: flex;flex-direction: column;align-items: center;background-color: white;padding-right: 0.2em;padding-left: 0.2em;position: relative;}#sk-container-id-2 div.sk-item {position: relative;z-index: 1;}#sk-container-id-2 div.sk-parallel {display: flex;align-items: stretch;justify-content: center;background-color: white;position: relative;}#sk-container-id-2 div.sk-item::before, #sk-container-id-2 div.sk-parallel-item::before {content: \"\";position: absolute;border-left: 1px solid gray;box-sizing: border-box;top: 0;bottom: 0;left: 50%;z-index: -1;}#sk-container-id-2 div.sk-parallel-item {display: flex;flex-direction: column;z-index: 1;position: relative;background-color: white;}#sk-container-id-2 div.sk-parallel-item:first-child::after {align-self: flex-end;width: 50%;}#sk-container-id-2 div.sk-parallel-item:last-child::after {align-self: flex-start;width: 50%;}#sk-container-id-2 div.sk-parallel-item:only-child::after {width: 0;}#sk-container-id-2 div.sk-dashed-wrapped {border: 1px dashed gray;margin: 0 0.4em 0.5em 0.4em;box-sizing: border-box;padding-bottom: 0.4em;background-color: white;}#sk-container-id-2 div.sk-label label {font-family: monospace;font-weight: bold;display: inline-block;line-height: 1.2em;}#sk-container-id-2 div.sk-label-container {text-align: center;}#sk-container-id-2 div.sk-container {/* jupyter's `normalize.less` sets `[hidden] { display: none; }` but bootstrap.min.css set `[hidden] { display: none !important; }` so we also need the `!important` here to be able to override the default hidden behavior on the sphinx rendered scikit-learn.org. See: https://github.com/scikit-learn/scikit-learn/issues/21755 */display: inline-block !important;position: relative;}#sk-container-id-2 div.sk-text-repr-fallback {display: none;}</style><div id=\"sk-container-id-2\" class=\"sk-top-container\"><div class=\"sk-text-repr-fallback\"><pre>GridSearchCV(cv=5, estimator=LogisticRegression(random_state=42),\n",
       "             param_grid={&#x27;C&#x27;: array([0.001, 0.003, 0.01 , 0.03 , 0.1  ])})</pre><b>In a Jupyter environment, please rerun this cell to show the HTML representation or trust the notebook. <br />On GitHub, the HTML representation is unable to render, please try loading this page with nbviewer.org.</b></div><div class=\"sk-container\" hidden><div class=\"sk-item sk-dashed-wrapped\"><div class=\"sk-label-container\"><div class=\"sk-label sk-toggleable\"><input class=\"sk-toggleable__control sk-hidden--visually\" id=\"sk-estimator-id-4\" type=\"checkbox\" ><label for=\"sk-estimator-id-4\" class=\"sk-toggleable__label sk-toggleable__label-arrow\">GridSearchCV</label><div class=\"sk-toggleable__content\"><pre>GridSearchCV(cv=5, estimator=LogisticRegression(random_state=42),\n",
       "             param_grid={&#x27;C&#x27;: array([0.001, 0.003, 0.01 , 0.03 , 0.1  ])})</pre></div></div></div><div class=\"sk-parallel\"><div class=\"sk-parallel-item\"><div class=\"sk-item\"><div class=\"sk-label-container\"><div class=\"sk-label sk-toggleable\"><input class=\"sk-toggleable__control sk-hidden--visually\" id=\"sk-estimator-id-5\" type=\"checkbox\" ><label for=\"sk-estimator-id-5\" class=\"sk-toggleable__label sk-toggleable__label-arrow\">estimator: LogisticRegression</label><div class=\"sk-toggleable__content\"><pre>LogisticRegression(random_state=42)</pre></div></div></div><div class=\"sk-serial\"><div class=\"sk-item\"><div class=\"sk-estimator sk-toggleable\"><input class=\"sk-toggleable__control sk-hidden--visually\" id=\"sk-estimator-id-6\" type=\"checkbox\" ><label for=\"sk-estimator-id-6\" class=\"sk-toggleable__label sk-toggleable__label-arrow\">LogisticRegression</label><div class=\"sk-toggleable__content\"><pre>LogisticRegression(random_state=42)</pre></div></div></div></div></div></div></div></div></div></div>"
      ],
      "text/plain": [
       "GridSearchCV(cv=5, estimator=LogisticRegression(random_state=42),\n",
       "             param_grid={'C': array([0.001, 0.003, 0.01 , 0.03 , 0.1  ])})"
      ]
     },
     "execution_count": 45,
     "metadata": {},
     "output_type": "execute_result"
    }
   ],
   "source": [
    "# use 5-fold CV pick best C = 0.003\n",
    "from sklearn.linear_model import LogisticRegression\n",
    "from sklearn.model_selection import GridSearchCV\n",
    "param_grid = {'C': np.array([0.001,0.003,0.01,0.03,0.1])}\n",
    "classifier = LogisticRegression(random_state=42)\n",
    "lr_gscv = GridSearchCV(classifier, param_grid, cv=5)\n",
    "lr_gscv.fit(X_train, y_train)"
   ]
  },
  {
   "cell_type": "code",
   "execution_count": 46,
   "id": "8ed85b1c",
   "metadata": {},
   "outputs": [
    {
     "data": {
      "text/plain": [
       "{'C': 0.003}"
      ]
     },
     "execution_count": 46,
     "metadata": {},
     "output_type": "execute_result"
    }
   ],
   "source": [
    "lr_gscv.best_params_"
   ]
  },
  {
   "cell_type": "code",
   "execution_count": 47,
   "id": "486faa51",
   "metadata": {},
   "outputs": [],
   "source": [
    "y_pred = lr_gscv.predict(X_test)"
   ]
  },
  {
   "cell_type": "code",
   "execution_count": 48,
   "id": "92c6e370",
   "metadata": {},
   "outputs": [
    {
     "data": {
      "text/plain": [
       "0.9357545941253075"
      ]
     },
     "execution_count": 48,
     "metadata": {},
     "output_type": "execute_result"
    }
   ],
   "source": [
    "from sklearn.metrics import accuracy_score,classification_report,ConfusionMatrixDisplay\n",
    "accuracy_score(y_test,y_pred)"
   ]
  },
  {
   "cell_type": "code",
   "execution_count": 49,
   "id": "8696f38b",
   "metadata": {},
   "outputs": [
    {
     "name": "stdout",
     "output_type": "stream",
     "text": [
      "              precision    recall  f1-score   support\n",
      "\n",
      "         CL1       0.83      0.86      0.85        58\n",
      "       CL112       0.67      0.46      0.55        13\n",
      "        CL12       0.61      0.38      0.47        58\n",
      "       CL146       0.93      0.98      0.95       790\n",
      "       CL147       0.00      0.00      0.00         9\n",
      "       CL153       0.66      0.58      0.61        33\n",
      "       CL167       1.00      0.25      0.40        12\n",
      "       CL168       0.95      0.95      0.95       130\n",
      "       CL187       0.59      0.67      0.63        73\n",
      "         CL2       0.86      0.80      0.83       171\n",
      "       CL200       0.68      0.82      0.75        57\n",
      "       CL208       0.98      0.85      0.91        53\n",
      "       CL233       0.00      0.00      0.00         7\n",
      "       CL244       0.63      0.63      0.63        43\n",
      "       CL266       1.00      0.44      0.62         9\n",
      "        CL29       0.78      0.85      0.82       127\n",
      "       CL327       0.82      0.72      0.77        43\n",
      "        CL36       0.86      0.83      0.84        58\n",
      "        CL37       0.86      0.57      0.68        53\n",
      "       CL376       0.87      0.95      0.91       380\n",
      "         CL4       0.41      0.33      0.37        45\n",
      "         CL5       0.83      0.76      0.79        33\n",
      "         CL6       0.99      1.00      0.99      4411\n",
      "         CL7       1.00      0.89      0.94        38\n",
      "         CL8       0.00      0.00      0.00         3\n",
      "      CL8612       0.72      0.81      0.76        84\n",
      "         CL9       0.72      0.46      0.56        46\n",
      "        CL92       0.00      0.00      0.00         1\n",
      "        CL94       0.67      0.58      0.62        31\n",
      "        CL95       0.74      0.33      0.46        42\n",
      "\n",
      "    accuracy                           0.94      6911\n",
      "   macro avg       0.69      0.59      0.62      6911\n",
      "weighted avg       0.93      0.94      0.93      6911\n",
      "\n"
     ]
    },
    {
     "name": "stderr",
     "output_type": "stream",
     "text": [
      "/Users/yushanyang/Software/anaconda3/lib/python3.9/site-packages/sklearn/metrics/_classification.py:1327: UndefinedMetricWarning: Precision and F-score are ill-defined and being set to 0.0 in labels with no predicted samples. Use `zero_division` parameter to control this behavior.\n",
      "  _warn_prf(average, modifier, msg_start, len(result))\n",
      "/Users/yushanyang/Software/anaconda3/lib/python3.9/site-packages/sklearn/metrics/_classification.py:1327: UndefinedMetricWarning: Precision and F-score are ill-defined and being set to 0.0 in labels with no predicted samples. Use `zero_division` parameter to control this behavior.\n",
      "  _warn_prf(average, modifier, msg_start, len(result))\n",
      "/Users/yushanyang/Software/anaconda3/lib/python3.9/site-packages/sklearn/metrics/_classification.py:1327: UndefinedMetricWarning: Precision and F-score are ill-defined and being set to 0.0 in labels with no predicted samples. Use `zero_division` parameter to control this behavior.\n",
      "  _warn_prf(average, modifier, msg_start, len(result))\n"
     ]
    }
   ],
   "source": [
    "print(classification_report(y_test,y_pred))"
   ]
  },
  {
   "cell_type": "code",
   "execution_count": 50,
   "id": "22f273c2",
   "metadata": {},
   "outputs": [
    {
     "data": {
      "image/png": "[encoded data removed]",
      "text/plain": [
       "<Figure size 1440x1440 with 2 Axes>"
      ]
     },
     "metadata": {
      "needs_background": "light"
     },
     "output_type": "display_data"
    }
   ],
   "source": [
    "fig, ax = plt.subplots(figsize=(20, 20))\n",
    "ConfusionMatrixDisplay.from_estimator(lr_gscv, X_test, y_test,ax=ax)\n",
    "plt.show()"
   ]
  },
  {
   "cell_type": "code",
   "execution_count": 51,
   "id": "decc9c3d",
   "metadata": {},
   "outputs": [
    {
     "data": {
      "text/plain": [
       "0.957600752478113"
      ]
     },
     "execution_count": 51,
     "metadata": {},
     "output_type": "execute_result"
    }
   ],
   "source": [
    "y_pred_train = lr_gscv.predict(X_train)\n",
    "accuracy_score(y_train,y_pred_train)"
   ]
  },
  {
   "cell_type": "code",
   "execution_count": 52,
   "id": "3440c026",
   "metadata": {},
   "outputs": [
    {
     "name": "stdout",
     "output_type": "stream",
     "text": [
      "              precision    recall  f1-score   support\n",
      "\n",
      "         CL1       0.98      0.95      0.97       217\n",
      "       CL112       0.91      0.79      0.85        53\n",
      "        CL12       0.72      0.52      0.60       223\n",
      "       CL146       0.95      0.98      0.96      3330\n",
      "       CL147       0.69      0.25      0.37        36\n",
      "       CL153       0.76      0.61      0.67        92\n",
      "       CL167       1.00      0.24      0.39        29\n",
      "       CL168       0.99      0.97      0.98       463\n",
      "       CL187       0.74      0.64      0.68       410\n",
      "         CL2       0.92      0.85      0.88       732\n",
      "       CL200       0.79      0.80      0.79       252\n",
      "       CL208       0.95      0.90      0.92       258\n",
      "       CL233       1.00      0.44      0.61        16\n",
      "       CL244       0.85      0.77      0.81       200\n",
      "       CL266       0.83      0.60      0.69        42\n",
      "        CL29       0.90      0.92      0.91       519\n",
      "       CL327       0.92      0.84      0.88       162\n",
      "        CL36       0.97      0.95      0.96       204\n",
      "        CL37       0.91      0.85      0.88       156\n",
      "       CL376       0.89      0.94      0.92      1462\n",
      "         CL4       0.93      0.68      0.78       174\n",
      "         CL5       0.80      0.78      0.79       148\n",
      "         CL6       0.99      1.00      0.99     17433\n",
      "         CL7       1.00      0.99      1.00       174\n",
      "         CL8       1.00      0.12      0.22         8\n",
      "      CL8612       0.89      0.96      0.92       408\n",
      "         CL9       0.83      0.78      0.81       171\n",
      "        CL94       0.95      0.90      0.93       126\n",
      "        CL95       0.78      0.56      0.65       144\n",
      "\n",
      "    accuracy                           0.96     27642\n",
      "   macro avg       0.89      0.74      0.79     27642\n",
      "weighted avg       0.96      0.96      0.96     27642\n",
      "\n"
     ]
    }
   ],
   "source": [
    "print(classification_report(y_train,y_pred_train))"
   ]
  },
  {
   "cell_type": "markdown",
   "id": "ce67f414",
   "metadata": {},
   "source": [
    "## Weighted LR"
   ]
  },
  {
   "cell_type": "code",
   "execution_count": 55,
   "id": "08ebed7a",
   "metadata": {},
   "outputs": [
    {
     "name": "stderr",
     "output_type": "stream",
     "text": [
      "/Users/yushanyang/Software/anaconda3/lib/python3.9/site-packages/sklearn/linear_model/_logistic.py:444: ConvergenceWarning: lbfgs failed to converge (status=1):\n",
      "STOP: TOTAL NO. of ITERATIONS REACHED LIMIT.\n",
      "\n",
      "Increase the number of iterations (max_iter) or scale the data as shown in:\n",
      "    https://scikit-learn.org/stable/modules/preprocessing.html\n",
      "Please also refer to the documentation for alternative solver options:\n",
      "    https://scikit-learn.org/stable/modules/linear_model.html#logistic-regression\n",
      "  n_iter_i = _check_optimize_result(\n",
      "/Users/yushanyang/Software/anaconda3/lib/python3.9/site-packages/sklearn/linear_model/_logistic.py:444: ConvergenceWarning: lbfgs failed to converge (status=1):\n",
      "STOP: TOTAL NO. of ITERATIONS REACHED LIMIT.\n",
      "\n",
      "Increase the number of iterations (max_iter) or scale the data as shown in:\n",
      "    https://scikit-learn.org/stable/modules/preprocessing.html\n",
      "Please also refer to the documentation for alternative solver options:\n",
      "    https://scikit-learn.org/stable/modules/linear_model.html#logistic-regression\n",
      "  n_iter_i = _check_optimize_result(\n",
      "/Users/yushanyang/Software/anaconda3/lib/python3.9/site-packages/sklearn/linear_model/_logistic.py:444: ConvergenceWarning: lbfgs failed to converge (status=1):\n",
      "STOP: TOTAL NO. of ITERATIONS REACHED LIMIT.\n",
      "\n",
      "Increase the number of iterations (max_iter) or scale the data as shown in:\n",
      "    https://scikit-learn.org/stable/modules/preprocessing.html\n",
      "Please also refer to the documentation for alternative solver options:\n",
      "    https://scikit-learn.org/stable/modules/linear_model.html#logistic-regression\n",
      "  n_iter_i = _check_optimize_result(\n",
      "/Users/yushanyang/Software/anaconda3/lib/python3.9/site-packages/sklearn/linear_model/_logistic.py:444: ConvergenceWarning: lbfgs failed to converge (status=1):\n",
      "STOP: TOTAL NO. of ITERATIONS REACHED LIMIT.\n",
      "\n",
      "Increase the number of iterations (max_iter) or scale the data as shown in:\n",
      "    https://scikit-learn.org/stable/modules/preprocessing.html\n",
      "Please also refer to the documentation for alternative solver options:\n",
      "    https://scikit-learn.org/stable/modules/linear_model.html#logistic-regression\n",
      "  n_iter_i = _check_optimize_result(\n",
      "/Users/yushanyang/Software/anaconda3/lib/python3.9/site-packages/sklearn/linear_model/_logistic.py:444: ConvergenceWarning: lbfgs failed to converge (status=1):\n",
      "STOP: TOTAL NO. of ITERATIONS REACHED LIMIT.\n",
      "\n",
      "Increase the number of iterations (max_iter) or scale the data as shown in:\n",
      "    https://scikit-learn.org/stable/modules/preprocessing.html\n",
      "Please also refer to the documentation for alternative solver options:\n",
      "    https://scikit-learn.org/stable/modules/linear_model.html#logistic-regression\n",
      "  n_iter_i = _check_optimize_result(\n",
      "/Users/yushanyang/Software/anaconda3/lib/python3.9/site-packages/sklearn/linear_model/_logistic.py:444: ConvergenceWarning: lbfgs failed to converge (status=1):\n",
      "STOP: TOTAL NO. of ITERATIONS REACHED LIMIT.\n",
      "\n",
      "Increase the number of iterations (max_iter) or scale the data as shown in:\n",
      "    https://scikit-learn.org/stable/modules/preprocessing.html\n",
      "Please also refer to the documentation for alternative solver options:\n",
      "    https://scikit-learn.org/stable/modules/linear_model.html#logistic-regression\n",
      "  n_iter_i = _check_optimize_result(\n",
      "/Users/yushanyang/Software/anaconda3/lib/python3.9/site-packages/sklearn/linear_model/_logistic.py:444: ConvergenceWarning: lbfgs failed to converge (status=1):\n",
      "STOP: TOTAL NO. of ITERATIONS REACHED LIMIT.\n",
      "\n",
      "Increase the number of iterations (max_iter) or scale the data as shown in:\n",
      "    https://scikit-learn.org/stable/modules/preprocessing.html\n",
      "Please also refer to the documentation for alternative solver options:\n",
      "    https://scikit-learn.org/stable/modules/linear_model.html#logistic-regression\n",
      "  n_iter_i = _check_optimize_result(\n",
      "/Users/yushanyang/Software/anaconda3/lib/python3.9/site-packages/sklearn/linear_model/_logistic.py:444: ConvergenceWarning: lbfgs failed to converge (status=1):\n",
      "STOP: TOTAL NO. of ITERATIONS REACHED LIMIT.\n",
      "\n",
      "Increase the number of iterations (max_iter) or scale the data as shown in:\n",
      "    https://scikit-learn.org/stable/modules/preprocessing.html\n",
      "Please also refer to the documentation for alternative solver options:\n",
      "    https://scikit-learn.org/stable/modules/linear_model.html#logistic-regression\n",
      "  n_iter_i = _check_optimize_result(\n",
      "/Users/yushanyang/Software/anaconda3/lib/python3.9/site-packages/sklearn/linear_model/_logistic.py:444: ConvergenceWarning: lbfgs failed to converge (status=1):\n",
      "STOP: TOTAL NO. of ITERATIONS REACHED LIMIT.\n",
      "\n",
      "Increase the number of iterations (max_iter) or scale the data as shown in:\n",
      "    https://scikit-learn.org/stable/modules/preprocessing.html\n",
      "Please also refer to the documentation for alternative solver options:\n",
      "    https://scikit-learn.org/stable/modules/linear_model.html#logistic-regression\n",
      "  n_iter_i = _check_optimize_result(\n",
      "/Users/yushanyang/Software/anaconda3/lib/python3.9/site-packages/sklearn/linear_model/_logistic.py:444: ConvergenceWarning: lbfgs failed to converge (status=1):\n",
      "STOP: TOTAL NO. of ITERATIONS REACHED LIMIT.\n",
      "\n",
      "Increase the number of iterations (max_iter) or scale the data as shown in:\n",
      "    https://scikit-learn.org/stable/modules/preprocessing.html\n",
      "Please also refer to the documentation for alternative solver options:\n",
      "    https://scikit-learn.org/stable/modules/linear_model.html#logistic-regression\n",
      "  n_iter_i = _check_optimize_result(\n",
      "/Users/yushanyang/Software/anaconda3/lib/python3.9/site-packages/sklearn/linear_model/_logistic.py:444: ConvergenceWarning: lbfgs failed to converge (status=1):\n",
      "STOP: TOTAL NO. of ITERATIONS REACHED LIMIT.\n",
      "\n",
      "Increase the number of iterations (max_iter) or scale the data as shown in:\n",
      "    https://scikit-learn.org/stable/modules/preprocessing.html\n",
      "Please also refer to the documentation for alternative solver options:\n",
      "    https://scikit-learn.org/stable/modules/linear_model.html#logistic-regression\n",
      "  n_iter_i = _check_optimize_result(\n",
      "/Users/yushanyang/Software/anaconda3/lib/python3.9/site-packages/sklearn/linear_model/_logistic.py:444: ConvergenceWarning: lbfgs failed to converge (status=1):\n",
      "STOP: TOTAL NO. of ITERATIONS REACHED LIMIT.\n",
      "\n",
      "Increase the number of iterations (max_iter) or scale the data as shown in:\n",
      "    https://scikit-learn.org/stable/modules/preprocessing.html\n",
      "Please also refer to the documentation for alternative solver options:\n",
      "    https://scikit-learn.org/stable/modules/linear_model.html#logistic-regression\n",
      "  n_iter_i = _check_optimize_result(\n",
      "/Users/yushanyang/Software/anaconda3/lib/python3.9/site-packages/sklearn/linear_model/_logistic.py:444: ConvergenceWarning: lbfgs failed to converge (status=1):\n",
      "STOP: TOTAL NO. of ITERATIONS REACHED LIMIT.\n",
      "\n",
      "Increase the number of iterations (max_iter) or scale the data as shown in:\n",
      "    https://scikit-learn.org/stable/modules/preprocessing.html\n",
      "Please also refer to the documentation for alternative solver options:\n",
      "    https://scikit-learn.org/stable/modules/linear_model.html#logistic-regression\n",
      "  n_iter_i = _check_optimize_result(\n",
      "/Users/yushanyang/Software/anaconda3/lib/python3.9/site-packages/sklearn/linear_model/_logistic.py:444: ConvergenceWarning: lbfgs failed to converge (status=1):\n",
      "STOP: TOTAL NO. of ITERATIONS REACHED LIMIT.\n",
      "\n",
      "Increase the number of iterations (max_iter) or scale the data as shown in:\n",
      "    https://scikit-learn.org/stable/modules/preprocessing.html\n",
      "Please also refer to the documentation for alternative solver options:\n",
      "    https://scikit-learn.org/stable/modules/linear_model.html#logistic-regression\n",
      "  n_iter_i = _check_optimize_result(\n",
      "/Users/yushanyang/Software/anaconda3/lib/python3.9/site-packages/sklearn/linear_model/_logistic.py:444: ConvergenceWarning: lbfgs failed to converge (status=1):\n",
      "STOP: TOTAL NO. of ITERATIONS REACHED LIMIT.\n",
      "\n",
      "Increase the number of iterations (max_iter) or scale the data as shown in:\n",
      "    https://scikit-learn.org/stable/modules/preprocessing.html\n",
      "Please also refer to the documentation for alternative solver options:\n",
      "    https://scikit-learn.org/stable/modules/linear_model.html#logistic-regression\n",
      "  n_iter_i = _check_optimize_result(\n",
      "/Users/yushanyang/Software/anaconda3/lib/python3.9/site-packages/sklearn/linear_model/_logistic.py:444: ConvergenceWarning: lbfgs failed to converge (status=1):\n",
      "STOP: TOTAL NO. of ITERATIONS REACHED LIMIT.\n",
      "\n",
      "Increase the number of iterations (max_iter) or scale the data as shown in:\n",
      "    https://scikit-learn.org/stable/modules/preprocessing.html\n",
      "Please also refer to the documentation for alternative solver options:\n",
      "    https://scikit-learn.org/stable/modules/linear_model.html#logistic-regression\n",
      "  n_iter_i = _check_optimize_result(\n"
     ]
    },
    {
     "name": "stderr",
     "output_type": "stream",
     "text": [
      "/Users/yushanyang/Software/anaconda3/lib/python3.9/site-packages/sklearn/linear_model/_logistic.py:444: ConvergenceWarning: lbfgs failed to converge (status=1):\n",
      "STOP: TOTAL NO. of ITERATIONS REACHED LIMIT.\n",
      "\n",
      "Increase the number of iterations (max_iter) or scale the data as shown in:\n",
      "    https://scikit-learn.org/stable/modules/preprocessing.html\n",
      "Please also refer to the documentation for alternative solver options:\n",
      "    https://scikit-learn.org/stable/modules/linear_model.html#logistic-regression\n",
      "  n_iter_i = _check_optimize_result(\n",
      "/Users/yushanyang/Software/anaconda3/lib/python3.9/site-packages/sklearn/linear_model/_logistic.py:444: ConvergenceWarning: lbfgs failed to converge (status=1):\n",
      "STOP: TOTAL NO. of ITERATIONS REACHED LIMIT.\n",
      "\n",
      "Increase the number of iterations (max_iter) or scale the data as shown in:\n",
      "    https://scikit-learn.org/stable/modules/preprocessing.html\n",
      "Please also refer to the documentation for alternative solver options:\n",
      "    https://scikit-learn.org/stable/modules/linear_model.html#logistic-regression\n",
      "  n_iter_i = _check_optimize_result(\n",
      "/Users/yushanyang/Software/anaconda3/lib/python3.9/site-packages/sklearn/linear_model/_logistic.py:444: ConvergenceWarning: lbfgs failed to converge (status=1):\n",
      "STOP: TOTAL NO. of ITERATIONS REACHED LIMIT.\n",
      "\n",
      "Increase the number of iterations (max_iter) or scale the data as shown in:\n",
      "    https://scikit-learn.org/stable/modules/preprocessing.html\n",
      "Please also refer to the documentation for alternative solver options:\n",
      "    https://scikit-learn.org/stable/modules/linear_model.html#logistic-regression\n",
      "  n_iter_i = _check_optimize_result(\n",
      "/Users/yushanyang/Software/anaconda3/lib/python3.9/site-packages/sklearn/linear_model/_logistic.py:444: ConvergenceWarning: lbfgs failed to converge (status=1):\n",
      "STOP: TOTAL NO. of ITERATIONS REACHED LIMIT.\n",
      "\n",
      "Increase the number of iterations (max_iter) or scale the data as shown in:\n",
      "    https://scikit-learn.org/stable/modules/preprocessing.html\n",
      "Please also refer to the documentation for alternative solver options:\n",
      "    https://scikit-learn.org/stable/modules/linear_model.html#logistic-regression\n",
      "  n_iter_i = _check_optimize_result(\n",
      "/Users/yushanyang/Software/anaconda3/lib/python3.9/site-packages/sklearn/linear_model/_logistic.py:444: ConvergenceWarning: lbfgs failed to converge (status=1):\n",
      "STOP: TOTAL NO. of ITERATIONS REACHED LIMIT.\n",
      "\n",
      "Increase the number of iterations (max_iter) or scale the data as shown in:\n",
      "    https://scikit-learn.org/stable/modules/preprocessing.html\n",
      "Please also refer to the documentation for alternative solver options:\n",
      "    https://scikit-learn.org/stable/modules/linear_model.html#logistic-regression\n",
      "  n_iter_i = _check_optimize_result(\n",
      "/Users/yushanyang/Software/anaconda3/lib/python3.9/site-packages/sklearn/linear_model/_logistic.py:444: ConvergenceWarning: lbfgs failed to converge (status=1):\n",
      "STOP: TOTAL NO. of ITERATIONS REACHED LIMIT.\n",
      "\n",
      "Increase the number of iterations (max_iter) or scale the data as shown in:\n",
      "    https://scikit-learn.org/stable/modules/preprocessing.html\n",
      "Please also refer to the documentation for alternative solver options:\n",
      "    https://scikit-learn.org/stable/modules/linear_model.html#logistic-regression\n",
      "  n_iter_i = _check_optimize_result(\n",
      "/Users/yushanyang/Software/anaconda3/lib/python3.9/site-packages/sklearn/linear_model/_logistic.py:444: ConvergenceWarning: lbfgs failed to converge (status=1):\n",
      "STOP: TOTAL NO. of ITERATIONS REACHED LIMIT.\n",
      "\n",
      "Increase the number of iterations (max_iter) or scale the data as shown in:\n",
      "    https://scikit-learn.org/stable/modules/preprocessing.html\n",
      "Please also refer to the documentation for alternative solver options:\n",
      "    https://scikit-learn.org/stable/modules/linear_model.html#logistic-regression\n",
      "  n_iter_i = _check_optimize_result(\n",
      "/Users/yushanyang/Software/anaconda3/lib/python3.9/site-packages/sklearn/linear_model/_logistic.py:444: ConvergenceWarning: lbfgs failed to converge (status=1):\n",
      "STOP: TOTAL NO. of ITERATIONS REACHED LIMIT.\n",
      "\n",
      "Increase the number of iterations (max_iter) or scale the data as shown in:\n",
      "    https://scikit-learn.org/stable/modules/preprocessing.html\n",
      "Please also refer to the documentation for alternative solver options:\n",
      "    https://scikit-learn.org/stable/modules/linear_model.html#logistic-regression\n",
      "  n_iter_i = _check_optimize_result(\n",
      "/Users/yushanyang/Software/anaconda3/lib/python3.9/site-packages/sklearn/linear_model/_logistic.py:444: ConvergenceWarning: lbfgs failed to converge (status=1):\n",
      "STOP: TOTAL NO. of ITERATIONS REACHED LIMIT.\n",
      "\n",
      "Increase the number of iterations (max_iter) or scale the data as shown in:\n",
      "    https://scikit-learn.org/stable/modules/preprocessing.html\n",
      "Please also refer to the documentation for alternative solver options:\n",
      "    https://scikit-learn.org/stable/modules/linear_model.html#logistic-regression\n",
      "  n_iter_i = _check_optimize_result(\n",
      "/Users/yushanyang/Software/anaconda3/lib/python3.9/site-packages/sklearn/linear_model/_logistic.py:444: ConvergenceWarning: lbfgs failed to converge (status=1):\n",
      "STOP: TOTAL NO. of ITERATIONS REACHED LIMIT.\n",
      "\n",
      "Increase the number of iterations (max_iter) or scale the data as shown in:\n",
      "    https://scikit-learn.org/stable/modules/preprocessing.html\n",
      "Please also refer to the documentation for alternative solver options:\n",
      "    https://scikit-learn.org/stable/modules/linear_model.html#logistic-regression\n",
      "  n_iter_i = _check_optimize_result(\n",
      "/Users/yushanyang/Software/anaconda3/lib/python3.9/site-packages/sklearn/linear_model/_logistic.py:444: ConvergenceWarning: lbfgs failed to converge (status=1):\n",
      "STOP: TOTAL NO. of ITERATIONS REACHED LIMIT.\n",
      "\n",
      "Increase the number of iterations (max_iter) or scale the data as shown in:\n",
      "    https://scikit-learn.org/stable/modules/preprocessing.html\n",
      "Please also refer to the documentation for alternative solver options:\n",
      "    https://scikit-learn.org/stable/modules/linear_model.html#logistic-regression\n",
      "  n_iter_i = _check_optimize_result(\n",
      "/Users/yushanyang/Software/anaconda3/lib/python3.9/site-packages/sklearn/linear_model/_logistic.py:444: ConvergenceWarning: lbfgs failed to converge (status=1):\n",
      "STOP: TOTAL NO. of ITERATIONS REACHED LIMIT.\n",
      "\n",
      "Increase the number of iterations (max_iter) or scale the data as shown in:\n",
      "    https://scikit-learn.org/stable/modules/preprocessing.html\n",
      "Please also refer to the documentation for alternative solver options:\n",
      "    https://scikit-learn.org/stable/modules/linear_model.html#logistic-regression\n",
      "  n_iter_i = _check_optimize_result(\n",
      "/Users/yushanyang/Software/anaconda3/lib/python3.9/site-packages/sklearn/linear_model/_logistic.py:444: ConvergenceWarning: lbfgs failed to converge (status=1):\n",
      "STOP: TOTAL NO. of ITERATIONS REACHED LIMIT.\n",
      "\n",
      "Increase the number of iterations (max_iter) or scale the data as shown in:\n",
      "    https://scikit-learn.org/stable/modules/preprocessing.html\n",
      "Please also refer to the documentation for alternative solver options:\n",
      "    https://scikit-learn.org/stable/modules/linear_model.html#logistic-regression\n",
      "  n_iter_i = _check_optimize_result(\n",
      "/Users/yushanyang/Software/anaconda3/lib/python3.9/site-packages/sklearn/linear_model/_logistic.py:444: ConvergenceWarning: lbfgs failed to converge (status=1):\n",
      "STOP: TOTAL NO. of ITERATIONS REACHED LIMIT.\n",
      "\n",
      "Increase the number of iterations (max_iter) or scale the data as shown in:\n",
      "    https://scikit-learn.org/stable/modules/preprocessing.html\n",
      "Please also refer to the documentation for alternative solver options:\n",
      "    https://scikit-learn.org/stable/modules/linear_model.html#logistic-regression\n",
      "  n_iter_i = _check_optimize_result(\n",
      "/Users/yushanyang/Software/anaconda3/lib/python3.9/site-packages/sklearn/linear_model/_logistic.py:444: ConvergenceWarning: lbfgs failed to converge (status=1):\n",
      "STOP: TOTAL NO. of ITERATIONS REACHED LIMIT.\n",
      "\n",
      "Increase the number of iterations (max_iter) or scale the data as shown in:\n",
      "    https://scikit-learn.org/stable/modules/preprocessing.html\n",
      "Please also refer to the documentation for alternative solver options:\n",
      "    https://scikit-learn.org/stable/modules/linear_model.html#logistic-regression\n",
      "  n_iter_i = _check_optimize_result(\n",
      "/Users/yushanyang/Software/anaconda3/lib/python3.9/site-packages/sklearn/linear_model/_logistic.py:444: ConvergenceWarning: lbfgs failed to converge (status=1):\n",
      "STOP: TOTAL NO. of ITERATIONS REACHED LIMIT.\n",
      "\n",
      "Increase the number of iterations (max_iter) or scale the data as shown in:\n",
      "    https://scikit-learn.org/stable/modules/preprocessing.html\n",
      "Please also refer to the documentation for alternative solver options:\n",
      "    https://scikit-learn.org/stable/modules/linear_model.html#logistic-regression\n",
      "  n_iter_i = _check_optimize_result(\n"
     ]
    },
    {
     "name": "stderr",
     "output_type": "stream",
     "text": [
      "/Users/yushanyang/Software/anaconda3/lib/python3.9/site-packages/sklearn/linear_model/_logistic.py:444: ConvergenceWarning: lbfgs failed to converge (status=1):\n",
      "STOP: TOTAL NO. of ITERATIONS REACHED LIMIT.\n",
      "\n",
      "Increase the number of iterations (max_iter) or scale the data as shown in:\n",
      "    https://scikit-learn.org/stable/modules/preprocessing.html\n",
      "Please also refer to the documentation for alternative solver options:\n",
      "    https://scikit-learn.org/stable/modules/linear_model.html#logistic-regression\n",
      "  n_iter_i = _check_optimize_result(\n",
      "/Users/yushanyang/Software/anaconda3/lib/python3.9/site-packages/sklearn/linear_model/_logistic.py:444: ConvergenceWarning: lbfgs failed to converge (status=1):\n",
      "STOP: TOTAL NO. of ITERATIONS REACHED LIMIT.\n",
      "\n",
      "Increase the number of iterations (max_iter) or scale the data as shown in:\n",
      "    https://scikit-learn.org/stable/modules/preprocessing.html\n",
      "Please also refer to the documentation for alternative solver options:\n",
      "    https://scikit-learn.org/stable/modules/linear_model.html#logistic-regression\n",
      "  n_iter_i = _check_optimize_result(\n",
      "/Users/yushanyang/Software/anaconda3/lib/python3.9/site-packages/sklearn/linear_model/_logistic.py:444: ConvergenceWarning: lbfgs failed to converge (status=1):\n",
      "STOP: TOTAL NO. of ITERATIONS REACHED LIMIT.\n",
      "\n",
      "Increase the number of iterations (max_iter) or scale the data as shown in:\n",
      "    https://scikit-learn.org/stable/modules/preprocessing.html\n",
      "Please also refer to the documentation for alternative solver options:\n",
      "    https://scikit-learn.org/stable/modules/linear_model.html#logistic-regression\n",
      "  n_iter_i = _check_optimize_result(\n",
      "/Users/yushanyang/Software/anaconda3/lib/python3.9/site-packages/sklearn/linear_model/_logistic.py:444: ConvergenceWarning: lbfgs failed to converge (status=1):\n",
      "STOP: TOTAL NO. of ITERATIONS REACHED LIMIT.\n",
      "\n",
      "Increase the number of iterations (max_iter) or scale the data as shown in:\n",
      "    https://scikit-learn.org/stable/modules/preprocessing.html\n",
      "Please also refer to the documentation for alternative solver options:\n",
      "    https://scikit-learn.org/stable/modules/linear_model.html#logistic-regression\n",
      "  n_iter_i = _check_optimize_result(\n"
     ]
    },
    {
     "data": {
      "text/html": [
       "<style>#sk-container-id-4 {color: black;background-color: white;}#sk-container-id-4 pre{padding: 0;}#sk-container-id-4 div.sk-toggleable {background-color: white;}#sk-container-id-4 label.sk-toggleable__label {cursor: pointer;display: block;width: 100%;margin-bottom: 0;padding: 0.3em;box-sizing: border-box;text-align: center;}#sk-container-id-4 label.sk-toggleable__label-arrow:before {content: \"▸\";float: left;margin-right: 0.25em;color: #696969;}#sk-container-id-4 label.sk-toggleable__label-arrow:hover:before {color: black;}#sk-container-id-4 div.sk-estimator:hover label.sk-toggleable__label-arrow:before {color: black;}#sk-container-id-4 div.sk-toggleable__content {max-height: 0;max-width: 0;overflow: hidden;text-align: left;background-color: #f0f8ff;}#sk-container-id-4 div.sk-toggleable__content pre {margin: 0.2em;color: black;border-radius: 0.25em;background-color: #f0f8ff;}#sk-container-id-4 input.sk-toggleable__control:checked~div.sk-toggleable__content {max-height: 200px;max-width: 100%;overflow: auto;}#sk-container-id-4 input.sk-toggleable__control:checked~label.sk-toggleable__label-arrow:before {content: \"▾\";}#sk-container-id-4 div.sk-estimator input.sk-toggleable__control:checked~label.sk-toggleable__label {background-color: #d4ebff;}#sk-container-id-4 div.sk-label input.sk-toggleable__control:checked~label.sk-toggleable__label {background-color: #d4ebff;}#sk-container-id-4 input.sk-hidden--visually {border: 0;clip: rect(1px 1px 1px 1px);clip: rect(1px, 1px, 1px, 1px);height: 1px;margin: -1px;overflow: hidden;padding: 0;position: absolute;width: 1px;}#sk-container-id-4 div.sk-estimator {font-family: monospace;background-color: #f0f8ff;border: 1px dotted black;border-radius: 0.25em;box-sizing: border-box;margin-bottom: 0.5em;}#sk-container-id-4 div.sk-estimator:hover {background-color: #d4ebff;}#sk-container-id-4 div.sk-parallel-item::after {content: \"\";width: 100%;border-bottom: 1px solid gray;flex-grow: 1;}#sk-container-id-4 div.sk-label:hover label.sk-toggleable__label {background-color: #d4ebff;}#sk-container-id-4 div.sk-serial::before {content: \"\";position: absolute;border-left: 1px solid gray;box-sizing: border-box;top: 0;bottom: 0;left: 50%;z-index: 0;}#sk-container-id-4 div.sk-serial {display: flex;flex-direction: column;align-items: center;background-color: white;padding-right: 0.2em;padding-left: 0.2em;position: relative;}#sk-container-id-4 div.sk-item {position: relative;z-index: 1;}#sk-container-id-4 div.sk-parallel {display: flex;align-items: stretch;justify-content: center;background-color: white;position: relative;}#sk-container-id-4 div.sk-item::before, #sk-container-id-4 div.sk-parallel-item::before {content: \"\";position: absolute;border-left: 1px solid gray;box-sizing: border-box;top: 0;bottom: 0;left: 50%;z-index: -1;}#sk-container-id-4 div.sk-parallel-item {display: flex;flex-direction: column;z-index: 1;position: relative;background-color: white;}#sk-container-id-4 div.sk-parallel-item:first-child::after {align-self: flex-end;width: 50%;}#sk-container-id-4 div.sk-parallel-item:last-child::after {align-self: flex-start;width: 50%;}#sk-container-id-4 div.sk-parallel-item:only-child::after {width: 0;}#sk-container-id-4 div.sk-dashed-wrapped {border: 1px dashed gray;margin: 0 0.4em 0.5em 0.4em;box-sizing: border-box;padding-bottom: 0.4em;background-color: white;}#sk-container-id-4 div.sk-label label {font-family: monospace;font-weight: bold;display: inline-block;line-height: 1.2em;}#sk-container-id-4 div.sk-label-container {text-align: center;}#sk-container-id-4 div.sk-container {/* jupyter's `normalize.less` sets `[hidden] { display: none; }` but bootstrap.min.css set `[hidden] { display: none !important; }` so we also need the `!important` here to be able to override the default hidden behavior on the sphinx rendered scikit-learn.org. See: https://github.com/scikit-learn/scikit-learn/issues/21755 */display: inline-block !important;position: relative;}#sk-container-id-4 div.sk-text-repr-fallback {display: none;}</style><div id=\"sk-container-id-4\" class=\"sk-top-container\"><div class=\"sk-text-repr-fallback\"><pre>GridSearchCV(cv=5,\n",
       "             estimator=LogisticRegression(class_weight=&#x27;balanced&#x27;,\n",
       "                                          random_state=42),\n",
       "             param_grid={&#x27;C&#x27;: array([ 0.01,  0.03,  0.1 ,  0.3 ,  1.  ,  3.  , 10.  ])})</pre><b>In a Jupyter environment, please rerun this cell to show the HTML representation or trust the notebook. <br />On GitHub, the HTML representation is unable to render, please try loading this page with nbviewer.org.</b></div><div class=\"sk-container\" hidden><div class=\"sk-item sk-dashed-wrapped\"><div class=\"sk-label-container\"><div class=\"sk-label sk-toggleable\"><input class=\"sk-toggleable__control sk-hidden--visually\" id=\"sk-estimator-id-10\" type=\"checkbox\" ><label for=\"sk-estimator-id-10\" class=\"sk-toggleable__label sk-toggleable__label-arrow\">GridSearchCV</label><div class=\"sk-toggleable__content\"><pre>GridSearchCV(cv=5,\n",
       "             estimator=LogisticRegression(class_weight=&#x27;balanced&#x27;,\n",
       "                                          random_state=42),\n",
       "             param_grid={&#x27;C&#x27;: array([ 0.01,  0.03,  0.1 ,  0.3 ,  1.  ,  3.  , 10.  ])})</pre></div></div></div><div class=\"sk-parallel\"><div class=\"sk-parallel-item\"><div class=\"sk-item\"><div class=\"sk-label-container\"><div class=\"sk-label sk-toggleable\"><input class=\"sk-toggleable__control sk-hidden--visually\" id=\"sk-estimator-id-11\" type=\"checkbox\" ><label for=\"sk-estimator-id-11\" class=\"sk-toggleable__label sk-toggleable__label-arrow\">estimator: LogisticRegression</label><div class=\"sk-toggleable__content\"><pre>LogisticRegression(class_weight=&#x27;balanced&#x27;, random_state=42)</pre></div></div></div><div class=\"sk-serial\"><div class=\"sk-item\"><div class=\"sk-estimator sk-toggleable\"><input class=\"sk-toggleable__control sk-hidden--visually\" id=\"sk-estimator-id-12\" type=\"checkbox\" ><label for=\"sk-estimator-id-12\" class=\"sk-toggleable__label sk-toggleable__label-arrow\">LogisticRegression</label><div class=\"sk-toggleable__content\"><pre>LogisticRegression(class_weight=&#x27;balanced&#x27;, random_state=42)</pre></div></div></div></div></div></div></div></div></div></div>"
      ],
      "text/plain": [
       "GridSearchCV(cv=5,\n",
       "             estimator=LogisticRegression(class_weight='balanced',\n",
       "                                          random_state=42),\n",
       "             param_grid={'C': array([ 0.01,  0.03,  0.1 ,  0.3 ,  1.  ,  3.  , 10.  ])})"
      ]
     },
     "execution_count": 55,
     "metadata": {},
     "output_type": "execute_result"
    }
   ],
   "source": [
    "param_grid = {'C': np.array([0.01,0.03,0.1,0.3,1,3,10])}\n",
    "classifier = LogisticRegression(random_state=42,class_weight='balanced')\n",
    "lr_gscv = GridSearchCV(classifier, param_grid, cv=5)\n",
    "lr_gscv.fit(X_train, y_train)"
   ]
  },
  {
   "cell_type": "code",
   "execution_count": 56,
   "id": "1a96468b",
   "metadata": {},
   "outputs": [
    {
     "data": {
      "text/plain": [
       "{'C': 3.0}"
      ]
     },
     "execution_count": 56,
     "metadata": {},
     "output_type": "execute_result"
    }
   ],
   "source": [
    "lr_gscv.best_params_"
   ]
  },
  {
   "cell_type": "code",
   "execution_count": 57,
   "id": "a0e300c4",
   "metadata": {},
   "outputs": [
    {
     "data": {
      "text/plain": [
       "0.8865576616987412"
      ]
     },
     "execution_count": 57,
     "metadata": {},
     "output_type": "execute_result"
    }
   ],
   "source": [
    "y_pred = lr_gscv.predict(X_test)\n",
    "accuracy_score(y_test,y_pred)"
   ]
  },
  {
   "cell_type": "code",
   "execution_count": 58,
   "id": "a417d5ba",
   "metadata": {},
   "outputs": [
    {
     "name": "stdout",
     "output_type": "stream",
     "text": [
      "              precision    recall  f1-score   support\n",
      "\n",
      "         CL1       0.75      0.84      0.80        58\n",
      "       CL112       0.35      0.54      0.42        13\n",
      "        CL12       0.32      0.62      0.42        58\n",
      "       CL146       0.96      0.87      0.92       790\n",
      "       CL147       0.03      0.11      0.05         9\n",
      "       CL153       0.47      0.48      0.48        33\n",
      "       CL167       0.17      0.42      0.24        12\n",
      "       CL168       0.91      0.93      0.92       130\n",
      "       CL187       0.38      0.66      0.48        73\n",
      "         CL2       0.71      0.78      0.74       171\n",
      "       CL200       0.59      0.82      0.69        57\n",
      "       CL208       0.64      0.89      0.74        53\n",
      "       CL233       0.00      0.00      0.00         7\n",
      "       CL244       0.47      0.67      0.55        43\n",
      "       CL266       0.29      0.56      0.38         9\n",
      "        CL29       0.74      0.77      0.76       127\n",
      "       CL327       0.74      0.65      0.69        43\n",
      "        CL36       0.77      0.81      0.79        58\n",
      "        CL37       0.74      0.60      0.67        53\n",
      "       CL376       0.88      0.86      0.87       380\n",
      "         CL4       0.32      0.53      0.40        45\n",
      "         CL5       0.47      0.91      0.62        33\n",
      "         CL6       1.00      0.94      0.97      4411\n",
      "         CL7       1.00      0.87      0.93        38\n",
      "         CL8       0.00      0.00      0.00         3\n",
      "      CL8612       0.74      0.70      0.72        84\n",
      "         CL9       0.42      0.59      0.49        46\n",
      "        CL92       0.00      0.00      0.00         1\n",
      "        CL94       0.38      0.48      0.43        31\n",
      "        CL95       0.29      0.31      0.30        42\n",
      "\n",
      "    accuracy                           0.89      6911\n",
      "   macro avg       0.52      0.61      0.55      6911\n",
      "weighted avg       0.91      0.89      0.90      6911\n",
      "\n"
     ]
    },
    {
     "name": "stderr",
     "output_type": "stream",
     "text": [
      "/Users/yushanyang/Software/anaconda3/lib/python3.9/site-packages/sklearn/metrics/_classification.py:1327: UndefinedMetricWarning: Precision and F-score are ill-defined and being set to 0.0 in labels with no predicted samples. Use `zero_division` parameter to control this behavior.\n",
      "  _warn_prf(average, modifier, msg_start, len(result))\n",
      "/Users/yushanyang/Software/anaconda3/lib/python3.9/site-packages/sklearn/metrics/_classification.py:1327: UndefinedMetricWarning: Precision and F-score are ill-defined and being set to 0.0 in labels with no predicted samples. Use `zero_division` parameter to control this behavior.\n",
      "  _warn_prf(average, modifier, msg_start, len(result))\n",
      "/Users/yushanyang/Software/anaconda3/lib/python3.9/site-packages/sklearn/metrics/_classification.py:1327: UndefinedMetricWarning: Precision and F-score are ill-defined and being set to 0.0 in labels with no predicted samples. Use `zero_division` parameter to control this behavior.\n",
      "  _warn_prf(average, modifier, msg_start, len(result))\n"
     ]
    }
   ],
   "source": [
    "print(classification_report(y_test,y_pred))"
   ]
  },
  {
   "cell_type": "markdown",
   "id": "b459d740",
   "metadata": {},
   "source": [
    "## K-nearest neighbors"
   ]
  },
  {
   "cell_type": "code",
   "execution_count": 59,
   "id": "2e493926",
   "metadata": {},
   "outputs": [
    {
     "data": {
      "text/html": [
       "<style>#sk-container-id-5 {color: black;background-color: white;}#sk-container-id-5 pre{padding: 0;}#sk-container-id-5 div.sk-toggleable {background-color: white;}#sk-container-id-5 label.sk-toggleable__label {cursor: pointer;display: block;width: 100%;margin-bottom: 0;padding: 0.3em;box-sizing: border-box;text-align: center;}#sk-container-id-5 label.sk-toggleable__label-arrow:before {content: \"▸\";float: left;margin-right: 0.25em;color: #696969;}#sk-container-id-5 label.sk-toggleable__label-arrow:hover:before {color: black;}#sk-container-id-5 div.sk-estimator:hover label.sk-toggleable__label-arrow:before {color: black;}#sk-container-id-5 div.sk-toggleable__content {max-height: 0;max-width: 0;overflow: hidden;text-align: left;background-color: #f0f8ff;}#sk-container-id-5 div.sk-toggleable__content pre {margin: 0.2em;color: black;border-radius: 0.25em;background-color: #f0f8ff;}#sk-container-id-5 input.sk-toggleable__control:checked~div.sk-toggleable__content {max-height: 200px;max-width: 100%;overflow: auto;}#sk-container-id-5 input.sk-toggleable__control:checked~label.sk-toggleable__label-arrow:before {content: \"▾\";}#sk-container-id-5 div.sk-estimator input.sk-toggleable__control:checked~label.sk-toggleable__label {background-color: #d4ebff;}#sk-container-id-5 div.sk-label input.sk-toggleable__control:checked~label.sk-toggleable__label {background-color: #d4ebff;}#sk-container-id-5 input.sk-hidden--visually {border: 0;clip: rect(1px 1px 1px 1px);clip: rect(1px, 1px, 1px, 1px);height: 1px;margin: -1px;overflow: hidden;padding: 0;position: absolute;width: 1px;}#sk-container-id-5 div.sk-estimator {font-family: monospace;background-color: #f0f8ff;border: 1px dotted black;border-radius: 0.25em;box-sizing: border-box;margin-bottom: 0.5em;}#sk-container-id-5 div.sk-estimator:hover {background-color: #d4ebff;}#sk-container-id-5 div.sk-parallel-item::after {content: \"\";width: 100%;border-bottom: 1px solid gray;flex-grow: 1;}#sk-container-id-5 div.sk-label:hover label.sk-toggleable__label {background-color: #d4ebff;}#sk-container-id-5 div.sk-serial::before {content: \"\";position: absolute;border-left: 1px solid gray;box-sizing: border-box;top: 0;bottom: 0;left: 50%;z-index: 0;}#sk-container-id-5 div.sk-serial {display: flex;flex-direction: column;align-items: center;background-color: white;padding-right: 0.2em;padding-left: 0.2em;position: relative;}#sk-container-id-5 div.sk-item {position: relative;z-index: 1;}#sk-container-id-5 div.sk-parallel {display: flex;align-items: stretch;justify-content: center;background-color: white;position: relative;}#sk-container-id-5 div.sk-item::before, #sk-container-id-5 div.sk-parallel-item::before {content: \"\";position: absolute;border-left: 1px solid gray;box-sizing: border-box;top: 0;bottom: 0;left: 50%;z-index: -1;}#sk-container-id-5 div.sk-parallel-item {display: flex;flex-direction: column;z-index: 1;position: relative;background-color: white;}#sk-container-id-5 div.sk-parallel-item:first-child::after {align-self: flex-end;width: 50%;}#sk-container-id-5 div.sk-parallel-item:last-child::after {align-self: flex-start;width: 50%;}#sk-container-id-5 div.sk-parallel-item:only-child::after {width: 0;}#sk-container-id-5 div.sk-dashed-wrapped {border: 1px dashed gray;margin: 0 0.4em 0.5em 0.4em;box-sizing: border-box;padding-bottom: 0.4em;background-color: white;}#sk-container-id-5 div.sk-label label {font-family: monospace;font-weight: bold;display: inline-block;line-height: 1.2em;}#sk-container-id-5 div.sk-label-container {text-align: center;}#sk-container-id-5 div.sk-container {/* jupyter's `normalize.less` sets `[hidden] { display: none; }` but bootstrap.min.css set `[hidden] { display: none !important; }` so we also need the `!important` here to be able to override the default hidden behavior on the sphinx rendered scikit-learn.org. See: https://github.com/scikit-learn/scikit-learn/issues/21755 */display: inline-block !important;position: relative;}#sk-container-id-5 div.sk-text-repr-fallback {display: none;}</style><div id=\"sk-container-id-5\" class=\"sk-top-container\"><div class=\"sk-text-repr-fallback\"><pre>GridSearchCV(cv=5, estimator=KNeighborsClassifier(),\n",
       "             param_grid={&#x27;n_neighbors&#x27;: array([ 1,  2,  3,  4,  5,  6,  7,  8,  9, 10, 11, 12, 13, 14, 15, 16, 17,\n",
       "       18, 19, 20, 21, 22, 23, 24])})</pre><b>In a Jupyter environment, please rerun this cell to show the HTML representation or trust the notebook. <br />On GitHub, the HTML representation is unable to render, please try loading this page with nbviewer.org.</b></div><div class=\"sk-container\" hidden><div class=\"sk-item sk-dashed-wrapped\"><div class=\"sk-label-container\"><div class=\"sk-label sk-toggleable\"><input class=\"sk-toggleable__control sk-hidden--visually\" id=\"sk-estimator-id-13\" type=\"checkbox\" ><label for=\"sk-estimator-id-13\" class=\"sk-toggleable__label sk-toggleable__label-arrow\">GridSearchCV</label><div class=\"sk-toggleable__content\"><pre>GridSearchCV(cv=5, estimator=KNeighborsClassifier(),\n",
       "             param_grid={&#x27;n_neighbors&#x27;: array([ 1,  2,  3,  4,  5,  6,  7,  8,  9, 10, 11, 12, 13, 14, 15, 16, 17,\n",
       "       18, 19, 20, 21, 22, 23, 24])})</pre></div></div></div><div class=\"sk-parallel\"><div class=\"sk-parallel-item\"><div class=\"sk-item\"><div class=\"sk-label-container\"><div class=\"sk-label sk-toggleable\"><input class=\"sk-toggleable__control sk-hidden--visually\" id=\"sk-estimator-id-14\" type=\"checkbox\" ><label for=\"sk-estimator-id-14\" class=\"sk-toggleable__label sk-toggleable__label-arrow\">estimator: KNeighborsClassifier</label><div class=\"sk-toggleable__content\"><pre>KNeighborsClassifier()</pre></div></div></div><div class=\"sk-serial\"><div class=\"sk-item\"><div class=\"sk-estimator sk-toggleable\"><input class=\"sk-toggleable__control sk-hidden--visually\" id=\"sk-estimator-id-15\" type=\"checkbox\" ><label for=\"sk-estimator-id-15\" class=\"sk-toggleable__label sk-toggleable__label-arrow\">KNeighborsClassifier</label><div class=\"sk-toggleable__content\"><pre>KNeighborsClassifier()</pre></div></div></div></div></div></div></div></div></div></div>"
      ],
      "text/plain": [
       "GridSearchCV(cv=5, estimator=KNeighborsClassifier(),\n",
       "             param_grid={'n_neighbors': array([ 1,  2,  3,  4,  5,  6,  7,  8,  9, 10, 11, 12, 13, 14, 15, 16, 17,\n",
       "       18, 19, 20, 21, 22, 23, 24])})"
      ]
     },
     "execution_count": 59,
     "metadata": {},
     "output_type": "execute_result"
    }
   ],
   "source": [
    "# use 5-fold CV to pick the best K=5\n",
    "from sklearn.neighbors import KNeighborsClassifier\n",
    "classifier = KNeighborsClassifier()\n",
    "param_grid = {'n_neighbors': np.arange(1,25)}\n",
    "knn_gscv = GridSearchCV(classifier, param_grid, cv=5)\n",
    "knn_gscv.fit(X_train, y_train)"
   ]
  },
  {
   "cell_type": "code",
   "execution_count": 60,
   "id": "29207f1c",
   "metadata": {},
   "outputs": [
    {
     "data": {
      "text/plain": [
       "{'n_neighbors': 5}"
      ]
     },
     "execution_count": 60,
     "metadata": {},
     "output_type": "execute_result"
    }
   ],
   "source": [
    "knn_gscv.best_params_"
   ]
  },
  {
   "cell_type": "code",
   "execution_count": 61,
   "id": "8c4eb835",
   "metadata": {},
   "outputs": [
    {
     "data": {
      "text/plain": [
       "0.8988568948053828"
      ]
     },
     "execution_count": 61,
     "metadata": {},
     "output_type": "execute_result"
    }
   ],
   "source": [
    "y_pred = knn_gscv.predict(X_test)\n",
    "accuracy_score(y_test,y_pred)"
   ]
  },
  {
   "cell_type": "code",
   "execution_count": 62,
   "id": "67a5ef48",
   "metadata": {},
   "outputs": [
    {
     "name": "stdout",
     "output_type": "stream",
     "text": [
      "              precision    recall  f1-score   support\n",
      "\n",
      "         CL1       0.94      0.81      0.87        58\n",
      "       CL112       0.67      0.31      0.42        13\n",
      "        CL12       0.42      0.28      0.33        58\n",
      "       CL146       0.80      0.97      0.88       790\n",
      "       CL147       0.00      0.00      0.00         9\n",
      "       CL153       0.42      0.39      0.41        33\n",
      "       CL167       0.50      0.17      0.25        12\n",
      "       CL168       0.92      0.94      0.93       130\n",
      "       CL187       0.38      0.32      0.35        73\n",
      "         CL2       0.77      0.51      0.61       171\n",
      "       CL200       0.57      0.54      0.56        57\n",
      "       CL208       0.75      0.75      0.75        53\n",
      "       CL233       0.00      0.00      0.00         7\n",
      "       CL244       0.57      0.47      0.51        43\n",
      "       CL266       0.75      0.33      0.46         9\n",
      "        CL29       0.70      0.69      0.70       127\n",
      "       CL327       0.82      0.74      0.78        43\n",
      "        CL36       0.82      0.79      0.81        58\n",
      "        CL37       0.79      0.51      0.62        53\n",
      "       CL376       0.77      0.81      0.79       380\n",
      "         CL4       0.50      0.18      0.26        45\n",
      "         CL5       0.77      0.52      0.62        33\n",
      "         CL6       0.97      0.99      0.98      4411\n",
      "         CL7       0.97      0.87      0.92        38\n",
      "         CL8       0.00      0.00      0.00         3\n",
      "      CL8612       0.65      0.73      0.69        84\n",
      "         CL9       0.89      0.35      0.50        46\n",
      "        CL92       0.00      0.00      0.00         1\n",
      "        CL94       0.83      0.61      0.70        31\n",
      "        CL95       0.50      0.07      0.12        42\n",
      "\n",
      "    accuracy                           0.90      6911\n",
      "   macro avg       0.62      0.49      0.53      6911\n",
      "weighted avg       0.89      0.90      0.89      6911\n",
      "\n"
     ]
    },
    {
     "name": "stderr",
     "output_type": "stream",
     "text": [
      "/Users/yushanyang/Software/anaconda3/lib/python3.9/site-packages/sklearn/metrics/_classification.py:1327: UndefinedMetricWarning: Precision and F-score are ill-defined and being set to 0.0 in labels with no predicted samples. Use `zero_division` parameter to control this behavior.\n",
      "  _warn_prf(average, modifier, msg_start, len(result))\n",
      "/Users/yushanyang/Software/anaconda3/lib/python3.9/site-packages/sklearn/metrics/_classification.py:1327: UndefinedMetricWarning: Precision and F-score are ill-defined and being set to 0.0 in labels with no predicted samples. Use `zero_division` parameter to control this behavior.\n",
      "  _warn_prf(average, modifier, msg_start, len(result))\n",
      "/Users/yushanyang/Software/anaconda3/lib/python3.9/site-packages/sklearn/metrics/_classification.py:1327: UndefinedMetricWarning: Precision and F-score are ill-defined and being set to 0.0 in labels with no predicted samples. Use `zero_division` parameter to control this behavior.\n",
      "  _warn_prf(average, modifier, msg_start, len(result))\n"
     ]
    }
   ],
   "source": [
    "print(classification_report(y_test,y_pred))"
   ]
  },
  {
   "cell_type": "code",
   "execution_count": 64,
   "id": "1b15534e",
   "metadata": {},
   "outputs": [
    {
     "data": {
      "image/png": "[encoded data removed]",
      "text/plain": [
       "<Figure size 1440x1440 with 2 Axes>"
      ]
     },
     "metadata": {
      "needs_background": "light"
     },
     "output_type": "display_data"
    }
   ],
   "source": [
    "fig, ax = plt.subplots(figsize=(20, 20))\n",
    "ConfusionMatrixDisplay.from_estimator(knn_gscv, X_test, y_test,ax=ax)\n",
    "plt.show()"
   ]
  },
  {
   "cell_type": "code",
   "execution_count": 65,
   "id": "33942f4b",
   "metadata": {},
   "outputs": [
    {
     "data": {
      "text/plain": [
       "0.9228709934158165"
      ]
     },
     "execution_count": 65,
     "metadata": {},
     "output_type": "execute_result"
    }
   ],
   "source": [
    "y_pred_train = knn_gscv.predict(X_train)\n",
    "accuracy_score(y_train,y_pred_train)"
   ]
  },
  {
   "cell_type": "code",
   "execution_count": 66,
   "id": "577be95a",
   "metadata": {},
   "outputs": [
    {
     "name": "stderr",
     "output_type": "stream",
     "text": [
      "/Users/yushanyang/Software/anaconda3/lib/python3.9/site-packages/sklearn/metrics/_classification.py:1327: UndefinedMetricWarning: Precision and F-score are ill-defined and being set to 0.0 in labels with no predicted samples. Use `zero_division` parameter to control this behavior.\n",
      "  _warn_prf(average, modifier, msg_start, len(result))\n"
     ]
    },
    {
     "name": "stdout",
     "output_type": "stream",
     "text": [
      "              precision    recall  f1-score   support\n",
      "\n",
      "         CL1       0.89      0.80      0.84       217\n",
      "       CL112       0.88      0.40      0.55        53\n",
      "        CL12       0.62      0.51      0.56       223\n",
      "       CL146       0.84      0.99      0.91      3330\n",
      "       CL147       0.33      0.11      0.17        36\n",
      "       CL153       0.49      0.58      0.53        92\n",
      "       CL167       0.20      0.10      0.14        29\n",
      "       CL168       0.89      0.97      0.93       463\n",
      "       CL187       0.64      0.47      0.54       410\n",
      "         CL2       0.89      0.62      0.73       732\n",
      "       CL200       0.72      0.62      0.67       252\n",
      "       CL208       0.85      0.84      0.84       258\n",
      "       CL233       0.80      0.25      0.38        16\n",
      "       CL244       0.78      0.62      0.69       200\n",
      "       CL266       0.72      0.43      0.54        42\n",
      "        CL29       0.82      0.78      0.80       519\n",
      "       CL327       0.79      0.75      0.77       162\n",
      "        CL36       0.86      0.81      0.84       204\n",
      "        CL37       0.88      0.63      0.74       156\n",
      "       CL376       0.85      0.85      0.85      1462\n",
      "         CL4       0.85      0.30      0.44       174\n",
      "         CL5       0.74      0.64      0.69       148\n",
      "         CL6       0.97      0.99      0.98     17433\n",
      "         CL7       1.00      0.97      0.98       174\n",
      "         CL8       0.00      0.00      0.00         8\n",
      "      CL8612       0.82      0.85      0.83       408\n",
      "         CL9       0.92      0.49      0.64       171\n",
      "        CL94       0.88      0.67      0.76       126\n",
      "        CL95       0.77      0.28      0.42       144\n",
      "\n",
      "    accuracy                           0.92     27642\n",
      "   macro avg       0.75      0.60      0.65     27642\n",
      "weighted avg       0.92      0.92      0.92     27642\n",
      "\n"
     ]
    },
    {
     "name": "stderr",
     "output_type": "stream",
     "text": [
      "/Users/yushanyang/Software/anaconda3/lib/python3.9/site-packages/sklearn/metrics/_classification.py:1327: UndefinedMetricWarning: Precision and F-score are ill-defined and being set to 0.0 in labels with no predicted samples. Use `zero_division` parameter to control this behavior.\n",
      "  _warn_prf(average, modifier, msg_start, len(result))\n",
      "/Users/yushanyang/Software/anaconda3/lib/python3.9/site-packages/sklearn/metrics/_classification.py:1327: UndefinedMetricWarning: Precision and F-score are ill-defined and being set to 0.0 in labels with no predicted samples. Use `zero_division` parameter to control this behavior.\n",
      "  _warn_prf(average, modifier, msg_start, len(result))\n"
     ]
    }
   ],
   "source": [
    "print(classification_report(y_train,y_pred_train))"
   ]
  },
  {
   "cell_type": "markdown",
   "id": "d04051ab",
   "metadata": {},
   "source": [
    "## weighted KNN"
   ]
  },
  {
   "cell_type": "code",
   "execution_count": 67,
   "id": "1f30a9f7",
   "metadata": {},
   "outputs": [
    {
     "data": {
      "text/html": [
       "<style>#sk-container-id-6 {color: black;background-color: white;}#sk-container-id-6 pre{padding: 0;}#sk-container-id-6 div.sk-toggleable {background-color: white;}#sk-container-id-6 label.sk-toggleable__label {cursor: pointer;display: block;width: 100%;margin-bottom: 0;padding: 0.3em;box-sizing: border-box;text-align: center;}#sk-container-id-6 label.sk-toggleable__label-arrow:before {content: \"▸\";float: left;margin-right: 0.25em;color: #696969;}#sk-container-id-6 label.sk-toggleable__label-arrow:hover:before {color: black;}#sk-container-id-6 div.sk-estimator:hover label.sk-toggleable__label-arrow:before {color: black;}#sk-container-id-6 div.sk-toggleable__content {max-height: 0;max-width: 0;overflow: hidden;text-align: left;background-color: #f0f8ff;}#sk-container-id-6 div.sk-toggleable__content pre {margin: 0.2em;color: black;border-radius: 0.25em;background-color: #f0f8ff;}#sk-container-id-6 input.sk-toggleable__control:checked~div.sk-toggleable__content {max-height: 200px;max-width: 100%;overflow: auto;}#sk-container-id-6 input.sk-toggleable__control:checked~label.sk-toggleable__label-arrow:before {content: \"▾\";}#sk-container-id-6 div.sk-estimator input.sk-toggleable__control:checked~label.sk-toggleable__label {background-color: #d4ebff;}#sk-container-id-6 div.sk-label input.sk-toggleable__control:checked~label.sk-toggleable__label {background-color: #d4ebff;}#sk-container-id-6 input.sk-hidden--visually {border: 0;clip: rect(1px 1px 1px 1px);clip: rect(1px, 1px, 1px, 1px);height: 1px;margin: -1px;overflow: hidden;padding: 0;position: absolute;width: 1px;}#sk-container-id-6 div.sk-estimator {font-family: monospace;background-color: #f0f8ff;border: 1px dotted black;border-radius: 0.25em;box-sizing: border-box;margin-bottom: 0.5em;}#sk-container-id-6 div.sk-estimator:hover {background-color: #d4ebff;}#sk-container-id-6 div.sk-parallel-item::after {content: \"\";width: 100%;border-bottom: 1px solid gray;flex-grow: 1;}#sk-container-id-6 div.sk-label:hover label.sk-toggleable__label {background-color: #d4ebff;}#sk-container-id-6 div.sk-serial::before {content: \"\";position: absolute;border-left: 1px solid gray;box-sizing: border-box;top: 0;bottom: 0;left: 50%;z-index: 0;}#sk-container-id-6 div.sk-serial {display: flex;flex-direction: column;align-items: center;background-color: white;padding-right: 0.2em;padding-left: 0.2em;position: relative;}#sk-container-id-6 div.sk-item {position: relative;z-index: 1;}#sk-container-id-6 div.sk-parallel {display: flex;align-items: stretch;justify-content: center;background-color: white;position: relative;}#sk-container-id-6 div.sk-item::before, #sk-container-id-6 div.sk-parallel-item::before {content: \"\";position: absolute;border-left: 1px solid gray;box-sizing: border-box;top: 0;bottom: 0;left: 50%;z-index: -1;}#sk-container-id-6 div.sk-parallel-item {display: flex;flex-direction: column;z-index: 1;position: relative;background-color: white;}#sk-container-id-6 div.sk-parallel-item:first-child::after {align-self: flex-end;width: 50%;}#sk-container-id-6 div.sk-parallel-item:last-child::after {align-self: flex-start;width: 50%;}#sk-container-id-6 div.sk-parallel-item:only-child::after {width: 0;}#sk-container-id-6 div.sk-dashed-wrapped {border: 1px dashed gray;margin: 0 0.4em 0.5em 0.4em;box-sizing: border-box;padding-bottom: 0.4em;background-color: white;}#sk-container-id-6 div.sk-label label {font-family: monospace;font-weight: bold;display: inline-block;line-height: 1.2em;}#sk-container-id-6 div.sk-label-container {text-align: center;}#sk-container-id-6 div.sk-container {/* jupyter's `normalize.less` sets `[hidden] { display: none; }` but bootstrap.min.css set `[hidden] { display: none !important; }` so we also need the `!important` here to be able to override the default hidden behavior on the sphinx rendered scikit-learn.org. See: https://github.com/scikit-learn/scikit-learn/issues/21755 */display: inline-block !important;position: relative;}#sk-container-id-6 div.sk-text-repr-fallback {display: none;}</style><div id=\"sk-container-id-6\" class=\"sk-top-container\"><div class=\"sk-text-repr-fallback\"><pre>GridSearchCV(cv=5, estimator=KNeighborsClassifier(weights=&#x27;distance&#x27;),\n",
       "             param_grid={&#x27;n_neighbors&#x27;: array([ 1,  2,  3,  4,  5,  6,  7,  8,  9, 10, 11, 12, 13, 14, 15, 16, 17,\n",
       "       18, 19, 20, 21, 22, 23, 24])})</pre><b>In a Jupyter environment, please rerun this cell to show the HTML representation or trust the notebook. <br />On GitHub, the HTML representation is unable to render, please try loading this page with nbviewer.org.</b></div><div class=\"sk-container\" hidden><div class=\"sk-item sk-dashed-wrapped\"><div class=\"sk-label-container\"><div class=\"sk-label sk-toggleable\"><input class=\"sk-toggleable__control sk-hidden--visually\" id=\"sk-estimator-id-16\" type=\"checkbox\" ><label for=\"sk-estimator-id-16\" class=\"sk-toggleable__label sk-toggleable__label-arrow\">GridSearchCV</label><div class=\"sk-toggleable__content\"><pre>GridSearchCV(cv=5, estimator=KNeighborsClassifier(weights=&#x27;distance&#x27;),\n",
       "             param_grid={&#x27;n_neighbors&#x27;: array([ 1,  2,  3,  4,  5,  6,  7,  8,  9, 10, 11, 12, 13, 14, 15, 16, 17,\n",
       "       18, 19, 20, 21, 22, 23, 24])})</pre></div></div></div><div class=\"sk-parallel\"><div class=\"sk-parallel-item\"><div class=\"sk-item\"><div class=\"sk-label-container\"><div class=\"sk-label sk-toggleable\"><input class=\"sk-toggleable__control sk-hidden--visually\" id=\"sk-estimator-id-17\" type=\"checkbox\" ><label for=\"sk-estimator-id-17\" class=\"sk-toggleable__label sk-toggleable__label-arrow\">estimator: KNeighborsClassifier</label><div class=\"sk-toggleable__content\"><pre>KNeighborsClassifier(weights=&#x27;distance&#x27;)</pre></div></div></div><div class=\"sk-serial\"><div class=\"sk-item\"><div class=\"sk-estimator sk-toggleable\"><input class=\"sk-toggleable__control sk-hidden--visually\" id=\"sk-estimator-id-18\" type=\"checkbox\" ><label for=\"sk-estimator-id-18\" class=\"sk-toggleable__label sk-toggleable__label-arrow\">KNeighborsClassifier</label><div class=\"sk-toggleable__content\"><pre>KNeighborsClassifier(weights=&#x27;distance&#x27;)</pre></div></div></div></div></div></div></div></div></div></div>"
      ],
      "text/plain": [
       "GridSearchCV(cv=5, estimator=KNeighborsClassifier(weights='distance'),\n",
       "             param_grid={'n_neighbors': array([ 1,  2,  3,  4,  5,  6,  7,  8,  9, 10, 11, 12, 13, 14, 15, 16, 17,\n",
       "       18, 19, 20, 21, 22, 23, 24])})"
      ]
     },
     "execution_count": 67,
     "metadata": {},
     "output_type": "execute_result"
    }
   ],
   "source": [
    "classifier = KNeighborsClassifier(weights='distance')\n",
    "param_grid = {'n_neighbors': np.arange(1,25)}\n",
    "knn_gscv = GridSearchCV(classifier, param_grid, cv=5)\n",
    "knn_gscv.fit(X_train, y_train)"
   ]
  },
  {
   "cell_type": "code",
   "execution_count": 68,
   "id": "7efed40e",
   "metadata": {},
   "outputs": [
    {
     "data": {
      "text/plain": [
       "{'n_neighbors': 4}"
      ]
     },
     "execution_count": 68,
     "metadata": {},
     "output_type": "execute_result"
    }
   ],
   "source": [
    "knn_gscv.best_params_"
   ]
  },
  {
   "cell_type": "code",
   "execution_count": 69,
   "id": "2bfa9712",
   "metadata": {},
   "outputs": [
    {
     "data": {
      "text/plain": [
       "0.9004485602662422"
      ]
     },
     "execution_count": 69,
     "metadata": {},
     "output_type": "execute_result"
    }
   ],
   "source": [
    "y_pred = knn_gscv.predict(X_test)\n",
    "accuracy_score(y_test,y_pred)"
   ]
  },
  {
   "cell_type": "code",
   "execution_count": 70,
   "id": "ee9a1b89",
   "metadata": {},
   "outputs": [
    {
     "name": "stdout",
     "output_type": "stream",
     "text": [
      "              precision    recall  f1-score   support\n",
      "\n",
      "         CL1       0.96      0.78      0.86        58\n",
      "       CL112       1.00      0.23      0.38        13\n",
      "        CL12       0.57      0.34      0.43        58\n",
      "       CL146       0.82      0.96      0.88       790\n",
      "       CL147       0.00      0.00      0.00         9\n",
      "       CL153       0.43      0.30      0.36        33\n",
      "       CL167       0.40      0.17      0.24        12\n",
      "       CL168       0.94      0.90      0.92       130\n",
      "       CL187       0.31      0.25      0.27        73\n",
      "         CL2       0.78      0.54      0.64       171\n",
      "       CL200       0.54      0.54      0.54        57\n",
      "       CL208       0.82      0.77      0.80        53\n",
      "       CL233       1.00      0.14      0.25         7\n",
      "       CL244       0.58      0.51      0.54        43\n",
      "       CL266       0.67      0.44      0.53         9\n",
      "        CL29       0.70      0.71      0.71       127\n",
      "       CL327       0.82      0.77      0.80        43\n",
      "        CL36       0.82      0.81      0.82        58\n",
      "        CL37       0.81      0.57      0.67        53\n",
      "       CL376       0.74      0.82      0.78       380\n",
      "         CL4       0.50      0.22      0.31        45\n",
      "         CL5       0.70      0.48      0.57        33\n",
      "         CL6       0.97      0.99      0.98      4411\n",
      "         CL7       1.00      0.87      0.93        38\n",
      "         CL8       0.00      0.00      0.00         3\n",
      "      CL8612       0.63      0.77      0.70        84\n",
      "         CL9       0.86      0.41      0.56        46\n",
      "        CL92       0.00      0.00      0.00         1\n",
      "        CL94       0.75      0.68      0.71        31\n",
      "        CL95       0.40      0.10      0.15        42\n",
      "\n",
      "    accuracy                           0.90      6911\n",
      "   macro avg       0.65      0.50      0.54      6911\n",
      "weighted avg       0.89      0.90      0.89      6911\n",
      "\n"
     ]
    },
    {
     "name": "stderr",
     "output_type": "stream",
     "text": [
      "/Users/yushanyang/Software/anaconda3/lib/python3.9/site-packages/sklearn/metrics/_classification.py:1327: UndefinedMetricWarning: Precision and F-score are ill-defined and being set to 0.0 in labels with no predicted samples. Use `zero_division` parameter to control this behavior.\n",
      "  _warn_prf(average, modifier, msg_start, len(result))\n",
      "/Users/yushanyang/Software/anaconda3/lib/python3.9/site-packages/sklearn/metrics/_classification.py:1327: UndefinedMetricWarning: Precision and F-score are ill-defined and being set to 0.0 in labels with no predicted samples. Use `zero_division` parameter to control this behavior.\n",
      "  _warn_prf(average, modifier, msg_start, len(result))\n",
      "/Users/yushanyang/Software/anaconda3/lib/python3.9/site-packages/sklearn/metrics/_classification.py:1327: UndefinedMetricWarning: Precision and F-score are ill-defined and being set to 0.0 in labels with no predicted samples. Use `zero_division` parameter to control this behavior.\n",
      "  _warn_prf(average, modifier, msg_start, len(result))\n"
     ]
    }
   ],
   "source": [
    "print(classification_report(y_test,y_pred))"
   ]
  },
  {
   "cell_type": "code",
   "execution_count": 71,
   "id": "8f3ff6e1",
   "metadata": {},
   "outputs": [
    {
     "data": {
      "image/png": "[encoded data removed]",
      "text/plain": [
       "<Figure size 1440x1440 with 2 Axes>"
      ]
     },
     "metadata": {
      "needs_background": "light"
     },
     "output_type": "display_data"
    }
   ],
   "source": [
    "fig, ax = plt.subplots(figsize=(20, 20))\n",
    "ConfusionMatrixDisplay.from_estimator(knn_gscv, X_test, y_test,ax=ax)\n",
    "plt.show()"
   ]
  },
  {
   "cell_type": "code",
   "execution_count": 72,
   "id": "d156a201",
   "metadata": {},
   "outputs": [
    {
     "data": {
      "text/plain": [
       "1.0"
      ]
     },
     "execution_count": 72,
     "metadata": {},
     "output_type": "execute_result"
    }
   ],
   "source": [
    "y_pred_train = knn_gscv.predict(X_train)\n",
    "accuracy_score(y_train,y_pred_train)"
   ]
  },
  {
   "cell_type": "code",
   "execution_count": 73,
   "id": "d6173571",
   "metadata": {},
   "outputs": [
    {
     "name": "stdout",
     "output_type": "stream",
     "text": [
      "              precision    recall  f1-score   support\n",
      "\n",
      "         CL1       1.00      1.00      1.00       217\n",
      "       CL112       1.00      1.00      1.00        53\n",
      "        CL12       1.00      1.00      1.00       223\n",
      "       CL146       1.00      1.00      1.00      3330\n",
      "       CL147       1.00      1.00      1.00        36\n",
      "       CL153       1.00      1.00      1.00        92\n",
      "       CL167       1.00      1.00      1.00        29\n",
      "       CL168       1.00      1.00      1.00       463\n",
      "       CL187       1.00      1.00      1.00       410\n",
      "         CL2       1.00      1.00      1.00       732\n",
      "       CL200       1.00      1.00      1.00       252\n",
      "       CL208       1.00      1.00      1.00       258\n",
      "       CL233       1.00      1.00      1.00        16\n",
      "       CL244       1.00      1.00      1.00       200\n",
      "       CL266       1.00      1.00      1.00        42\n",
      "        CL29       1.00      1.00      1.00       519\n",
      "       CL327       1.00      1.00      1.00       162\n",
      "        CL36       1.00      1.00      1.00       204\n",
      "        CL37       1.00      1.00      1.00       156\n",
      "       CL376       1.00      1.00      1.00      1462\n",
      "         CL4       1.00      1.00      1.00       174\n",
      "         CL5       1.00      1.00      1.00       148\n",
      "         CL6       1.00      1.00      1.00     17433\n",
      "         CL7       1.00      1.00      1.00       174\n",
      "         CL8       1.00      1.00      1.00         8\n",
      "      CL8612       1.00      1.00      1.00       408\n",
      "         CL9       1.00      1.00      1.00       171\n",
      "        CL94       1.00      1.00      1.00       126\n",
      "        CL95       1.00      1.00      1.00       144\n",
      "\n",
      "    accuracy                           1.00     27642\n",
      "   macro avg       1.00      1.00      1.00     27642\n",
      "weighted avg       1.00      1.00      1.00     27642\n",
      "\n"
     ]
    }
   ],
   "source": [
    "print(classification_report(y_train,y_pred_train))"
   ]
  },
  {
   "cell_type": "markdown",
   "id": "44dede5c",
   "metadata": {},
   "source": [
    "## SVM"
   ]
  },
  {
   "cell_type": "code",
   "execution_count": 74,
   "id": "87371daa",
   "metadata": {},
   "outputs": [
    {
     "data": {
      "text/html": [
       "<style>#sk-container-id-7 {color: black;background-color: white;}#sk-container-id-7 pre{padding: 0;}#sk-container-id-7 div.sk-toggleable {background-color: white;}#sk-container-id-7 label.sk-toggleable__label {cursor: pointer;display: block;width: 100%;margin-bottom: 0;padding: 0.3em;box-sizing: border-box;text-align: center;}#sk-container-id-7 label.sk-toggleable__label-arrow:before {content: \"▸\";float: left;margin-right: 0.25em;color: #696969;}#sk-container-id-7 label.sk-toggleable__label-arrow:hover:before {color: black;}#sk-container-id-7 div.sk-estimator:hover label.sk-toggleable__label-arrow:before {color: black;}#sk-container-id-7 div.sk-toggleable__content {max-height: 0;max-width: 0;overflow: hidden;text-align: left;background-color: #f0f8ff;}#sk-container-id-7 div.sk-toggleable__content pre {margin: 0.2em;color: black;border-radius: 0.25em;background-color: #f0f8ff;}#sk-container-id-7 input.sk-toggleable__control:checked~div.sk-toggleable__content {max-height: 200px;max-width: 100%;overflow: auto;}#sk-container-id-7 input.sk-toggleable__control:checked~label.sk-toggleable__label-arrow:before {content: \"▾\";}#sk-container-id-7 div.sk-estimator input.sk-toggleable__control:checked~label.sk-toggleable__label {background-color: #d4ebff;}#sk-container-id-7 div.sk-label input.sk-toggleable__control:checked~label.sk-toggleable__label {background-color: #d4ebff;}#sk-container-id-7 input.sk-hidden--visually {border: 0;clip: rect(1px 1px 1px 1px);clip: rect(1px, 1px, 1px, 1px);height: 1px;margin: -1px;overflow: hidden;padding: 0;position: absolute;width: 1px;}#sk-container-id-7 div.sk-estimator {font-family: monospace;background-color: #f0f8ff;border: 1px dotted black;border-radius: 0.25em;box-sizing: border-box;margin-bottom: 0.5em;}#sk-container-id-7 div.sk-estimator:hover {background-color: #d4ebff;}#sk-container-id-7 div.sk-parallel-item::after {content: \"\";width: 100%;border-bottom: 1px solid gray;flex-grow: 1;}#sk-container-id-7 div.sk-label:hover label.sk-toggleable__label {background-color: #d4ebff;}#sk-container-id-7 div.sk-serial::before {content: \"\";position: absolute;border-left: 1px solid gray;box-sizing: border-box;top: 0;bottom: 0;left: 50%;z-index: 0;}#sk-container-id-7 div.sk-serial {display: flex;flex-direction: column;align-items: center;background-color: white;padding-right: 0.2em;padding-left: 0.2em;position: relative;}#sk-container-id-7 div.sk-item {position: relative;z-index: 1;}#sk-container-id-7 div.sk-parallel {display: flex;align-items: stretch;justify-content: center;background-color: white;position: relative;}#sk-container-id-7 div.sk-item::before, #sk-container-id-7 div.sk-parallel-item::before {content: \"\";position: absolute;border-left: 1px solid gray;box-sizing: border-box;top: 0;bottom: 0;left: 50%;z-index: -1;}#sk-container-id-7 div.sk-parallel-item {display: flex;flex-direction: column;z-index: 1;position: relative;background-color: white;}#sk-container-id-7 div.sk-parallel-item:first-child::after {align-self: flex-end;width: 50%;}#sk-container-id-7 div.sk-parallel-item:last-child::after {align-self: flex-start;width: 50%;}#sk-container-id-7 div.sk-parallel-item:only-child::after {width: 0;}#sk-container-id-7 div.sk-dashed-wrapped {border: 1px dashed gray;margin: 0 0.4em 0.5em 0.4em;box-sizing: border-box;padding-bottom: 0.4em;background-color: white;}#sk-container-id-7 div.sk-label label {font-family: monospace;font-weight: bold;display: inline-block;line-height: 1.2em;}#sk-container-id-7 div.sk-label-container {text-align: center;}#sk-container-id-7 div.sk-container {/* jupyter's `normalize.less` sets `[hidden] { display: none; }` but bootstrap.min.css set `[hidden] { display: none !important; }` so we also need the `!important` here to be able to override the default hidden behavior on the sphinx rendered scikit-learn.org. See: https://github.com/scikit-learn/scikit-learn/issues/21755 */display: inline-block !important;position: relative;}#sk-container-id-7 div.sk-text-repr-fallback {display: none;}</style><div id=\"sk-container-id-7\" class=\"sk-top-container\"><div class=\"sk-text-repr-fallback\"><pre>GridSearchCV(cv=5, estimator=SVC(random_state=42),\n",
       "             param_grid={&#x27;C&#x27;: array([1.e-03, 3.e-03, 1.e-02, 1.e-01, 3.e-01, 1.e+00, 3.e+00, 1.e+01])})</pre><b>In a Jupyter environment, please rerun this cell to show the HTML representation or trust the notebook. <br />On GitHub, the HTML representation is unable to render, please try loading this page with nbviewer.org.</b></div><div class=\"sk-container\" hidden><div class=\"sk-item sk-dashed-wrapped\"><div class=\"sk-label-container\"><div class=\"sk-label sk-toggleable\"><input class=\"sk-toggleable__control sk-hidden--visually\" id=\"sk-estimator-id-19\" type=\"checkbox\" ><label for=\"sk-estimator-id-19\" class=\"sk-toggleable__label sk-toggleable__label-arrow\">GridSearchCV</label><div class=\"sk-toggleable__content\"><pre>GridSearchCV(cv=5, estimator=SVC(random_state=42),\n",
       "             param_grid={&#x27;C&#x27;: array([1.e-03, 3.e-03, 1.e-02, 1.e-01, 3.e-01, 1.e+00, 3.e+00, 1.e+01])})</pre></div></div></div><div class=\"sk-parallel\"><div class=\"sk-parallel-item\"><div class=\"sk-item\"><div class=\"sk-label-container\"><div class=\"sk-label sk-toggleable\"><input class=\"sk-toggleable__control sk-hidden--visually\" id=\"sk-estimator-id-20\" type=\"checkbox\" ><label for=\"sk-estimator-id-20\" class=\"sk-toggleable__label sk-toggleable__label-arrow\">estimator: SVC</label><div class=\"sk-toggleable__content\"><pre>SVC(random_state=42)</pre></div></div></div><div class=\"sk-serial\"><div class=\"sk-item\"><div class=\"sk-estimator sk-toggleable\"><input class=\"sk-toggleable__control sk-hidden--visually\" id=\"sk-estimator-id-21\" type=\"checkbox\" ><label for=\"sk-estimator-id-21\" class=\"sk-toggleable__label sk-toggleable__label-arrow\">SVC</label><div class=\"sk-toggleable__content\"><pre>SVC(random_state=42)</pre></div></div></div></div></div></div></div></div></div></div>"
      ],
      "text/plain": [
       "GridSearchCV(cv=5, estimator=SVC(random_state=42),\n",
       "             param_grid={'C': array([1.e-03, 3.e-03, 1.e-02, 1.e-01, 3.e-01, 1.e+00, 3.e+00, 1.e+01])})"
      ]
     },
     "execution_count": 74,
     "metadata": {},
     "output_type": "execute_result"
    }
   ],
   "source": [
    "from sklearn.svm import SVC\n",
    "classifier = SVC(random_state=42)\n",
    "param_grid = {'C': np.array([0.001,0.003,0.01,0.1,0.3,1,3,10])}\n",
    "svm_gscv = GridSearchCV(classifier, param_grid, cv=5)\n",
    "svm_gscv.fit(X_train, y_train)"
   ]
  },
  {
   "cell_type": "code",
   "execution_count": 75,
   "id": "7f3b229c",
   "metadata": {},
   "outputs": [
    {
     "data": {
      "text/plain": [
       "{'C': 10.0}"
      ]
     },
     "execution_count": 75,
     "metadata": {},
     "output_type": "execute_result"
    }
   ],
   "source": [
    "svm_gscv.best_params_"
   ]
  },
  {
   "cell_type": "code",
   "execution_count": 77,
   "id": "f63cb1fc",
   "metadata": {},
   "outputs": [
    {
     "data": {
      "text/html": [
       "<style>#sk-container-id-8 {color: black;background-color: white;}#sk-container-id-8 pre{padding: 0;}#sk-container-id-8 div.sk-toggleable {background-color: white;}#sk-container-id-8 label.sk-toggleable__label {cursor: pointer;display: block;width: 100%;margin-bottom: 0;padding: 0.3em;box-sizing: border-box;text-align: center;}#sk-container-id-8 label.sk-toggleable__label-arrow:before {content: \"▸\";float: left;margin-right: 0.25em;color: #696969;}#sk-container-id-8 label.sk-toggleable__label-arrow:hover:before {color: black;}#sk-container-id-8 div.sk-estimator:hover label.sk-toggleable__label-arrow:before {color: black;}#sk-container-id-8 div.sk-toggleable__content {max-height: 0;max-width: 0;overflow: hidden;text-align: left;background-color: #f0f8ff;}#sk-container-id-8 div.sk-toggleable__content pre {margin: 0.2em;color: black;border-radius: 0.25em;background-color: #f0f8ff;}#sk-container-id-8 input.sk-toggleable__control:checked~div.sk-toggleable__content {max-height: 200px;max-width: 100%;overflow: auto;}#sk-container-id-8 input.sk-toggleable__control:checked~label.sk-toggleable__label-arrow:before {content: \"▾\";}#sk-container-id-8 div.sk-estimator input.sk-toggleable__control:checked~label.sk-toggleable__label {background-color: #d4ebff;}#sk-container-id-8 div.sk-label input.sk-toggleable__control:checked~label.sk-toggleable__label {background-color: #d4ebff;}#sk-container-id-8 input.sk-hidden--visually {border: 0;clip: rect(1px 1px 1px 1px);clip: rect(1px, 1px, 1px, 1px);height: 1px;margin: -1px;overflow: hidden;padding: 0;position: absolute;width: 1px;}#sk-container-id-8 div.sk-estimator {font-family: monospace;background-color: #f0f8ff;border: 1px dotted black;border-radius: 0.25em;box-sizing: border-box;margin-bottom: 0.5em;}#sk-container-id-8 div.sk-estimator:hover {background-color: #d4ebff;}#sk-container-id-8 div.sk-parallel-item::after {content: \"\";width: 100%;border-bottom: 1px solid gray;flex-grow: 1;}#sk-container-id-8 div.sk-label:hover label.sk-toggleable__label {background-color: #d4ebff;}#sk-container-id-8 div.sk-serial::before {content: \"\";position: absolute;border-left: 1px solid gray;box-sizing: border-box;top: 0;bottom: 0;left: 50%;z-index: 0;}#sk-container-id-8 div.sk-serial {display: flex;flex-direction: column;align-items: center;background-color: white;padding-right: 0.2em;padding-left: 0.2em;position: relative;}#sk-container-id-8 div.sk-item {position: relative;z-index: 1;}#sk-container-id-8 div.sk-parallel {display: flex;align-items: stretch;justify-content: center;background-color: white;position: relative;}#sk-container-id-8 div.sk-item::before, #sk-container-id-8 div.sk-parallel-item::before {content: \"\";position: absolute;border-left: 1px solid gray;box-sizing: border-box;top: 0;bottom: 0;left: 50%;z-index: -1;}#sk-container-id-8 div.sk-parallel-item {display: flex;flex-direction: column;z-index: 1;position: relative;background-color: white;}#sk-container-id-8 div.sk-parallel-item:first-child::after {align-self: flex-end;width: 50%;}#sk-container-id-8 div.sk-parallel-item:last-child::after {align-self: flex-start;width: 50%;}#sk-container-id-8 div.sk-parallel-item:only-child::after {width: 0;}#sk-container-id-8 div.sk-dashed-wrapped {border: 1px dashed gray;margin: 0 0.4em 0.5em 0.4em;box-sizing: border-box;padding-bottom: 0.4em;background-color: white;}#sk-container-id-8 div.sk-label label {font-family: monospace;font-weight: bold;display: inline-block;line-height: 1.2em;}#sk-container-id-8 div.sk-label-container {text-align: center;}#sk-container-id-8 div.sk-container {/* jupyter's `normalize.less` sets `[hidden] { display: none; }` but bootstrap.min.css set `[hidden] { display: none !important; }` so we also need the `!important` here to be able to override the default hidden behavior on the sphinx rendered scikit-learn.org. See: https://github.com/scikit-learn/scikit-learn/issues/21755 */display: inline-block !important;position: relative;}#sk-container-id-8 div.sk-text-repr-fallback {display: none;}</style><div id=\"sk-container-id-8\" class=\"sk-top-container\"><div class=\"sk-text-repr-fallback\"><pre>GridSearchCV(cv=5, estimator=SVC(random_state=42),\n",
       "             param_grid={&#x27;C&#x27;: array([10, 20, 30])})</pre><b>In a Jupyter environment, please rerun this cell to show the HTML representation or trust the notebook. <br />On GitHub, the HTML representation is unable to render, please try loading this page with nbviewer.org.</b></div><div class=\"sk-container\" hidden><div class=\"sk-item sk-dashed-wrapped\"><div class=\"sk-label-container\"><div class=\"sk-label sk-toggleable\"><input class=\"sk-toggleable__control sk-hidden--visually\" id=\"sk-estimator-id-22\" type=\"checkbox\" ><label for=\"sk-estimator-id-22\" class=\"sk-toggleable__label sk-toggleable__label-arrow\">GridSearchCV</label><div class=\"sk-toggleable__content\"><pre>GridSearchCV(cv=5, estimator=SVC(random_state=42),\n",
       "             param_grid={&#x27;C&#x27;: array([10, 20, 30])})</pre></div></div></div><div class=\"sk-parallel\"><div class=\"sk-parallel-item\"><div class=\"sk-item\"><div class=\"sk-label-container\"><div class=\"sk-label sk-toggleable\"><input class=\"sk-toggleable__control sk-hidden--visually\" id=\"sk-estimator-id-23\" type=\"checkbox\" ><label for=\"sk-estimator-id-23\" class=\"sk-toggleable__label sk-toggleable__label-arrow\">estimator: SVC</label><div class=\"sk-toggleable__content\"><pre>SVC(random_state=42)</pre></div></div></div><div class=\"sk-serial\"><div class=\"sk-item\"><div class=\"sk-estimator sk-toggleable\"><input class=\"sk-toggleable__control sk-hidden--visually\" id=\"sk-estimator-id-24\" type=\"checkbox\" ><label for=\"sk-estimator-id-24\" class=\"sk-toggleable__label sk-toggleable__label-arrow\">SVC</label><div class=\"sk-toggleable__content\"><pre>SVC(random_state=42)</pre></div></div></div></div></div></div></div></div></div></div>"
      ],
      "text/plain": [
       "GridSearchCV(cv=5, estimator=SVC(random_state=42),\n",
       "             param_grid={'C': array([10, 20, 30])})"
      ]
     },
     "execution_count": 77,
     "metadata": {},
     "output_type": "execute_result"
    }
   ],
   "source": [
    "param_grid = {'C': np.array([10,20,30])}\n",
    "svm_gscv = GridSearchCV(classifier, param_grid, cv=5)\n",
    "svm_gscv.fit(X_train, y_train)"
   ]
  },
  {
   "cell_type": "code",
   "execution_count": 78,
   "id": "9c446cfc",
   "metadata": {},
   "outputs": [
    {
     "data": {
      "text/plain": [
       "{'C': 10}"
      ]
     },
     "execution_count": 78,
     "metadata": {},
     "output_type": "execute_result"
    }
   ],
   "source": [
    "svm_gscv.best_params_"
   ]
  },
  {
   "cell_type": "code",
   "execution_count": 79,
   "id": "2efea321",
   "metadata": {},
   "outputs": [
    {
     "data": {
      "text/plain": [
       "0.9357545941253075"
      ]
     },
     "execution_count": 79,
     "metadata": {},
     "output_type": "execute_result"
    }
   ],
   "source": [
    "y_pred = svm_gscv.predict(X_test)\n",
    "accuracy_score(y_test,y_pred)"
   ]
  },
  {
   "cell_type": "code",
   "execution_count": 80,
   "id": "15cd3540",
   "metadata": {},
   "outputs": [
    {
     "name": "stdout",
     "output_type": "stream",
     "text": [
      "              precision    recall  f1-score   support\n",
      "\n",
      "         CL1       0.86      0.76      0.81        58\n",
      "       CL112       0.71      0.38      0.50        13\n",
      "        CL12       0.74      0.55      0.63        58\n",
      "       CL146       0.93      0.96      0.95       790\n",
      "       CL147       0.00      0.00      0.00         9\n",
      "       CL153       0.62      0.48      0.54        33\n",
      "       CL167       1.00      0.33      0.50        12\n",
      "       CL168       0.95      0.95      0.95       130\n",
      "       CL187       0.71      0.71      0.71        73\n",
      "         CL2       0.80      0.80      0.80       171\n",
      "       CL200       0.65      0.75      0.70        57\n",
      "       CL208       0.96      0.92      0.94        53\n",
      "       CL233       0.50      0.14      0.22         7\n",
      "       CL244       0.77      0.56      0.65        43\n",
      "       CL266       0.71      0.56      0.63         9\n",
      "        CL29       0.75      0.80      0.78       127\n",
      "       CL327       0.84      0.74      0.79        43\n",
      "        CL36       0.52      0.91      0.66        58\n",
      "        CL37       0.94      0.57      0.71        53\n",
      "       CL376       0.89      0.95      0.92       380\n",
      "         CL4       0.65      0.44      0.53        45\n",
      "         CL5       0.79      0.67      0.72        33\n",
      "         CL6       0.99      1.00      0.99      4411\n",
      "         CL7       1.00      0.84      0.91        38\n",
      "         CL8       0.00      0.00      0.00         3\n",
      "      CL8612       0.65      0.85      0.74        84\n",
      "         CL9       0.86      0.54      0.67        46\n",
      "        CL92       0.00      0.00      0.00         1\n",
      "        CL94       0.91      0.65      0.75        31\n",
      "        CL95       0.71      0.29      0.41        42\n",
      "\n",
      "    accuracy                           0.94      6911\n",
      "   macro avg       0.71      0.60      0.64      6911\n",
      "weighted avg       0.94      0.94      0.93      6911\n",
      "\n"
     ]
    },
    {
     "name": "stderr",
     "output_type": "stream",
     "text": [
      "/Users/yushanyang/Software/anaconda3/lib/python3.9/site-packages/sklearn/metrics/_classification.py:1327: UndefinedMetricWarning: Precision and F-score are ill-defined and being set to 0.0 in labels with no predicted samples. Use `zero_division` parameter to control this behavior.\n",
      "  _warn_prf(average, modifier, msg_start, len(result))\n",
      "/Users/yushanyang/Software/anaconda3/lib/python3.9/site-packages/sklearn/metrics/_classification.py:1327: UndefinedMetricWarning: Precision and F-score are ill-defined and being set to 0.0 in labels with no predicted samples. Use `zero_division` parameter to control this behavior.\n",
      "  _warn_prf(average, modifier, msg_start, len(result))\n",
      "/Users/yushanyang/Software/anaconda3/lib/python3.9/site-packages/sklearn/metrics/_classification.py:1327: UndefinedMetricWarning: Precision and F-score are ill-defined and being set to 0.0 in labels with no predicted samples. Use `zero_division` parameter to control this behavior.\n",
      "  _warn_prf(average, modifier, msg_start, len(result))\n"
     ]
    }
   ],
   "source": [
    "print(classification_report(y_test,y_pred))"
   ]
  },
  {
   "cell_type": "code",
   "execution_count": 81,
   "id": "7968485b",
   "metadata": {},
   "outputs": [
    {
     "data": {
      "image/png": "[encoded data removed]",
      "text/plain": [
       "<Figure size 1440x1440 with 2 Axes>"
      ]
     },
     "metadata": {
      "needs_background": "light"
     },
     "output_type": "display_data"
    }
   ],
   "source": [
    "fig, ax = plt.subplots(figsize=(20, 20))\n",
    "ConfusionMatrixDisplay.from_estimator(svm_gscv, X_test, y_test,ax=ax)\n",
    "plt.show()"
   ]
  },
  {
   "cell_type": "code",
   "execution_count": 82,
   "id": "2df2f642",
   "metadata": {},
   "outputs": [
    {
     "data": {
      "text/plain": [
       "0.9981549815498155"
      ]
     },
     "execution_count": 82,
     "metadata": {},
     "output_type": "execute_result"
    }
   ],
   "source": [
    "y_pred_train = svm_gscv.predict(X_train)\n",
    "accuracy_score(y_train,y_pred_train)"
   ]
  },
  {
   "cell_type": "code",
   "execution_count": 83,
   "id": "81b96a02",
   "metadata": {},
   "outputs": [
    {
     "name": "stdout",
     "output_type": "stream",
     "text": [
      "              precision    recall  f1-score   support\n",
      "\n",
      "         CL1       1.00      1.00      1.00       217\n",
      "       CL112       1.00      1.00      1.00        53\n",
      "        CL12       0.99      0.96      0.97       223\n",
      "       CL146       1.00      1.00      1.00      3330\n",
      "       CL147       1.00      0.94      0.97        36\n",
      "       CL153       0.99      1.00      0.99        92\n",
      "       CL167       1.00      0.83      0.91        29\n",
      "       CL168       1.00      1.00      1.00       463\n",
      "       CL187       1.00      0.97      0.98       410\n",
      "         CL2       1.00      0.99      0.99       732\n",
      "       CL200       1.00      1.00      1.00       252\n",
      "       CL208       1.00      0.98      0.99       258\n",
      "       CL233       1.00      0.94      0.97        16\n",
      "       CL244       1.00      1.00      1.00       200\n",
      "       CL266       1.00      1.00      1.00        42\n",
      "        CL29       1.00      1.00      1.00       519\n",
      "       CL327       1.00      1.00      1.00       162\n",
      "        CL36       1.00      1.00      1.00       204\n",
      "        CL37       1.00      1.00      1.00       156\n",
      "       CL376       1.00      1.00      1.00      1462\n",
      "         CL4       1.00      0.99      1.00       174\n",
      "         CL5       1.00      0.99      1.00       148\n",
      "         CL6       1.00      1.00      1.00     17433\n",
      "         CL7       1.00      1.00      1.00       174\n",
      "         CL8       1.00      1.00      1.00         8\n",
      "      CL8612       1.00      1.00      1.00       408\n",
      "         CL9       1.00      0.99      1.00       171\n",
      "        CL94       1.00      1.00      1.00       126\n",
      "        CL95       1.00      0.98      0.99       144\n",
      "\n",
      "    accuracy                           1.00     27642\n",
      "   macro avg       1.00      0.99      0.99     27642\n",
      "weighted avg       1.00      1.00      1.00     27642\n",
      "\n"
     ]
    }
   ],
   "source": [
    "print(classification_report(y_train,y_pred_train))"
   ]
  },
  {
   "cell_type": "markdown",
   "id": "52085a7a",
   "metadata": {},
   "source": [
    "## weighted SVM"
   ]
  },
  {
   "cell_type": "code",
   "execution_count": 94,
   "id": "1157b305",
   "metadata": {},
   "outputs": [
    {
     "data": {
      "text/html": [
       "<style>#sk-container-id-10 {color: black;background-color: white;}#sk-container-id-10 pre{padding: 0;}#sk-container-id-10 div.sk-toggleable {background-color: white;}#sk-container-id-10 label.sk-toggleable__label {cursor: pointer;display: block;width: 100%;margin-bottom: 0;padding: 0.3em;box-sizing: border-box;text-align: center;}#sk-container-id-10 label.sk-toggleable__label-arrow:before {content: \"▸\";float: left;margin-right: 0.25em;color: #696969;}#sk-container-id-10 label.sk-toggleable__label-arrow:hover:before {color: black;}#sk-container-id-10 div.sk-estimator:hover label.sk-toggleable__label-arrow:before {color: black;}#sk-container-id-10 div.sk-toggleable__content {max-height: 0;max-width: 0;overflow: hidden;text-align: left;background-color: #f0f8ff;}#sk-container-id-10 div.sk-toggleable__content pre {margin: 0.2em;color: black;border-radius: 0.25em;background-color: #f0f8ff;}#sk-container-id-10 input.sk-toggleable__control:checked~div.sk-toggleable__content {max-height: 200px;max-width: 100%;overflow: auto;}#sk-container-id-10 input.sk-toggleable__control:checked~label.sk-toggleable__label-arrow:before {content: \"▾\";}#sk-container-id-10 div.sk-estimator input.sk-toggleable__control:checked~label.sk-toggleable__label {background-color: #d4ebff;}#sk-container-id-10 div.sk-label input.sk-toggleable__control:checked~label.sk-toggleable__label {background-color: #d4ebff;}#sk-container-id-10 input.sk-hidden--visually {border: 0;clip: rect(1px 1px 1px 1px);clip: rect(1px, 1px, 1px, 1px);height: 1px;margin: -1px;overflow: hidden;padding: 0;position: absolute;width: 1px;}#sk-container-id-10 div.sk-estimator {font-family: monospace;background-color: #f0f8ff;border: 1px dotted black;border-radius: 0.25em;box-sizing: border-box;margin-bottom: 0.5em;}#sk-container-id-10 div.sk-estimator:hover {background-color: #d4ebff;}#sk-container-id-10 div.sk-parallel-item::after {content: \"\";width: 100%;border-bottom: 1px solid gray;flex-grow: 1;}#sk-container-id-10 div.sk-label:hover label.sk-toggleable__label {background-color: #d4ebff;}#sk-container-id-10 div.sk-serial::before {content: \"\";position: absolute;border-left: 1px solid gray;box-sizing: border-box;top: 0;bottom: 0;left: 50%;z-index: 0;}#sk-container-id-10 div.sk-serial {display: flex;flex-direction: column;align-items: center;background-color: white;padding-right: 0.2em;padding-left: 0.2em;position: relative;}#sk-container-id-10 div.sk-item {position: relative;z-index: 1;}#sk-container-id-10 div.sk-parallel {display: flex;align-items: stretch;justify-content: center;background-color: white;position: relative;}#sk-container-id-10 div.sk-item::before, #sk-container-id-10 div.sk-parallel-item::before {content: \"\";position: absolute;border-left: 1px solid gray;box-sizing: border-box;top: 0;bottom: 0;left: 50%;z-index: -1;}#sk-container-id-10 div.sk-parallel-item {display: flex;flex-direction: column;z-index: 1;position: relative;background-color: white;}#sk-container-id-10 div.sk-parallel-item:first-child::after {align-self: flex-end;width: 50%;}#sk-container-id-10 div.sk-parallel-item:last-child::after {align-self: flex-start;width: 50%;}#sk-container-id-10 div.sk-parallel-item:only-child::after {width: 0;}#sk-container-id-10 div.sk-dashed-wrapped {border: 1px dashed gray;margin: 0 0.4em 0.5em 0.4em;box-sizing: border-box;padding-bottom: 0.4em;background-color: white;}#sk-container-id-10 div.sk-label label {font-family: monospace;font-weight: bold;display: inline-block;line-height: 1.2em;}#sk-container-id-10 div.sk-label-container {text-align: center;}#sk-container-id-10 div.sk-container {/* jupyter's `normalize.less` sets `[hidden] { display: none; }` but bootstrap.min.css set `[hidden] { display: none !important; }` so we also need the `!important` here to be able to override the default hidden behavior on the sphinx rendered scikit-learn.org. See: https://github.com/scikit-learn/scikit-learn/issues/21755 */display: inline-block !important;position: relative;}#sk-container-id-10 div.sk-text-repr-fallback {display: none;}</style><div id=\"sk-container-id-10\" class=\"sk-top-container\"><div class=\"sk-text-repr-fallback\"><pre>GridSearchCV(cv=5, estimator=SVC(class_weight=&#x27;balanced&#x27;, random_state=42),\n",
       "             param_grid={&#x27;C&#x27;: array([ 0.1,  1. , 10. ])})</pre><b>In a Jupyter environment, please rerun this cell to show the HTML representation or trust the notebook. <br />On GitHub, the HTML representation is unable to render, please try loading this page with nbviewer.org.</b></div><div class=\"sk-container\" hidden><div class=\"sk-item sk-dashed-wrapped\"><div class=\"sk-label-container\"><div class=\"sk-label sk-toggleable\"><input class=\"sk-toggleable__control sk-hidden--visually\" id=\"sk-estimator-id-28\" type=\"checkbox\" ><label for=\"sk-estimator-id-28\" class=\"sk-toggleable__label sk-toggleable__label-arrow\">GridSearchCV</label><div class=\"sk-toggleable__content\"><pre>GridSearchCV(cv=5, estimator=SVC(class_weight=&#x27;balanced&#x27;, random_state=42),\n",
       "             param_grid={&#x27;C&#x27;: array([ 0.1,  1. , 10. ])})</pre></div></div></div><div class=\"sk-parallel\"><div class=\"sk-parallel-item\"><div class=\"sk-item\"><div class=\"sk-label-container\"><div class=\"sk-label sk-toggleable\"><input class=\"sk-toggleable__control sk-hidden--visually\" id=\"sk-estimator-id-29\" type=\"checkbox\" ><label for=\"sk-estimator-id-29\" class=\"sk-toggleable__label sk-toggleable__label-arrow\">estimator: SVC</label><div class=\"sk-toggleable__content\"><pre>SVC(class_weight=&#x27;balanced&#x27;, random_state=42)</pre></div></div></div><div class=\"sk-serial\"><div class=\"sk-item\"><div class=\"sk-estimator sk-toggleable\"><input class=\"sk-toggleable__control sk-hidden--visually\" id=\"sk-estimator-id-30\" type=\"checkbox\" ><label for=\"sk-estimator-id-30\" class=\"sk-toggleable__label sk-toggleable__label-arrow\">SVC</label><div class=\"sk-toggleable__content\"><pre>SVC(class_weight=&#x27;balanced&#x27;, random_state=42)</pre></div></div></div></div></div></div></div></div></div></div>"
      ],
      "text/plain": [
       "GridSearchCV(cv=5, estimator=SVC(class_weight='balanced', random_state=42),\n",
       "             param_grid={'C': array([ 0.1,  1. , 10. ])})"
      ]
     },
     "execution_count": 94,
     "metadata": {},
     "output_type": "execute_result"
    }
   ],
   "source": [
    "classifier = SVC(random_state=42,class_weight='balanced')\n",
    "param_grid = {'C': np.array([0.1,1,10])}\n",
    "svm_gscv = GridSearchCV(classifier, param_grid, cv=5)\n",
    "svm_gscv.fit(X_train, y_train)"
   ]
  },
  {
   "cell_type": "code",
   "execution_count": 95,
   "id": "def7629c",
   "metadata": {},
   "outputs": [
    {
     "data": {
      "text/plain": [
       "{'C': 10.0}"
      ]
     },
     "execution_count": 95,
     "metadata": {},
     "output_type": "execute_result"
    }
   ],
   "source": [
    "svm_gscv.best_params_"
   ]
  },
  {
   "cell_type": "code",
   "execution_count": 96,
   "id": "a990e56d",
   "metadata": {},
   "outputs": [
    {
     "data": {
      "text/plain": [
       "0.9266386919403848"
      ]
     },
     "execution_count": 96,
     "metadata": {},
     "output_type": "execute_result"
    }
   ],
   "source": [
    "y_pred = svm_gscv.predict(X_test)\n",
    "accuracy_score(y_test,y_pred)"
   ]
  },
  {
   "cell_type": "code",
   "execution_count": 97,
   "id": "1a8c0ad7",
   "metadata": {},
   "outputs": [
    {
     "name": "stdout",
     "output_type": "stream",
     "text": [
      "              precision    recall  f1-score   support\n",
      "\n",
      "         CL1       0.86      0.76      0.81        58\n",
      "       CL112       0.71      0.38      0.50        13\n",
      "        CL12       0.46      0.62      0.53        58\n",
      "       CL146       0.94      0.96      0.95       790\n",
      "       CL147       0.00      0.00      0.00         9\n",
      "       CL153       0.52      0.45      0.48        33\n",
      "       CL167       0.40      0.33      0.36        12\n",
      "       CL168       0.95      0.95      0.95       130\n",
      "       CL187       0.54      0.71      0.61        73\n",
      "         CL2       0.78      0.82      0.80       171\n",
      "       CL200       0.62      0.74      0.67        57\n",
      "       CL208       0.80      0.91      0.85        53\n",
      "       CL233       0.50      0.14      0.22         7\n",
      "       CL244       0.76      0.60      0.68        43\n",
      "       CL266       0.71      0.56      0.63         9\n",
      "        CL29       0.75      0.80      0.77       127\n",
      "       CL327       0.84      0.74      0.79        43\n",
      "        CL36       0.51      0.91      0.65        58\n",
      "        CL37       0.94      0.57      0.71        53\n",
      "       CL376       0.89      0.94      0.91       380\n",
      "         CL4       0.65      0.44      0.53        45\n",
      "         CL5       0.65      0.85      0.74        33\n",
      "         CL6       0.99      0.98      0.99      4411\n",
      "         CL7       1.00      0.84      0.91        38\n",
      "         CL8       0.00      0.00      0.00         3\n",
      "      CL8612       0.66      0.85      0.74        84\n",
      "         CL9       0.77      0.59      0.67        46\n",
      "        CL92       0.00      0.00      0.00         1\n",
      "        CL94       0.91      0.65      0.75        31\n",
      "        CL95       0.65      0.31      0.42        42\n",
      "\n",
      "    accuracy                           0.93      6911\n",
      "   macro avg       0.66      0.61      0.62      6911\n",
      "weighted avg       0.93      0.93      0.93      6911\n",
      "\n"
     ]
    },
    {
     "name": "stderr",
     "output_type": "stream",
     "text": [
      "/Users/yushanyang/Software/anaconda3/lib/python3.9/site-packages/sklearn/metrics/_classification.py:1327: UndefinedMetricWarning: Precision and F-score are ill-defined and being set to 0.0 in labels with no predicted samples. Use `zero_division` parameter to control this behavior.\n",
      "  _warn_prf(average, modifier, msg_start, len(result))\n",
      "/Users/yushanyang/Software/anaconda3/lib/python3.9/site-packages/sklearn/metrics/_classification.py:1327: UndefinedMetricWarning: Precision and F-score are ill-defined and being set to 0.0 in labels with no predicted samples. Use `zero_division` parameter to control this behavior.\n",
      "  _warn_prf(average, modifier, msg_start, len(result))\n",
      "/Users/yushanyang/Software/anaconda3/lib/python3.9/site-packages/sklearn/metrics/_classification.py:1327: UndefinedMetricWarning: Precision and F-score are ill-defined and being set to 0.0 in labels with no predicted samples. Use `zero_division` parameter to control this behavior.\n",
      "  _warn_prf(average, modifier, msg_start, len(result))\n"
     ]
    }
   ],
   "source": [
    "print(classification_report(y_test,y_pred))"
   ]
  },
  {
   "cell_type": "code",
   "execution_count": 98,
   "id": "3bcaa8a5",
   "metadata": {},
   "outputs": [
    {
     "data": {
      "image/png": "[encoded data removed]",
      "text/plain": [
       "<Figure size 1440x1440 with 2 Axes>"
      ]
     },
     "metadata": {
      "needs_background": "light"
     },
     "output_type": "display_data"
    }
   ],
   "source": [
    "fig, ax = plt.subplots(figsize=(20, 20))\n",
    "ConfusionMatrixDisplay.from_estimator(svm_gscv, X_test, y_test,ax=ax)\n",
    "plt.show()"
   ]
  },
  {
   "cell_type": "code",
   "execution_count": 99,
   "id": "c3707087",
   "metadata": {},
   "outputs": [
    {
     "data": {
      "text/plain": [
       "0.9883148831488315"
      ]
     },
     "execution_count": 99,
     "metadata": {},
     "output_type": "execute_result"
    }
   ],
   "source": [
    "y_pred_train = svm_gscv.predict(X_train)\n",
    "accuracy_score(y_train,y_pred_train)"
   ]
  },
  {
   "cell_type": "code",
   "execution_count": 100,
   "id": "0f0277c5",
   "metadata": {},
   "outputs": [
    {
     "name": "stdout",
     "output_type": "stream",
     "text": [
      "              precision    recall  f1-score   support\n",
      "\n",
      "         CL1       1.00      1.00      1.00       217\n",
      "       CL112       1.00      1.00      1.00        53\n",
      "        CL12       0.70      1.00      0.82       223\n",
      "       CL146       1.00      0.99      1.00      3330\n",
      "       CL147       0.86      1.00      0.92        36\n",
      "       CL153       0.99      1.00      0.99        92\n",
      "       CL167       0.64      1.00      0.78        29\n",
      "       CL168       0.99      1.00      0.99       463\n",
      "       CL187       0.91      1.00      0.95       410\n",
      "         CL2       0.98      1.00      0.99       732\n",
      "       CL200       1.00      1.00      1.00       252\n",
      "       CL208       0.89      1.00      0.94       258\n",
      "       CL233       0.94      1.00      0.97        16\n",
      "       CL244       0.98      1.00      0.99       200\n",
      "       CL266       0.91      1.00      0.95        42\n",
      "        CL29       1.00      1.00      1.00       519\n",
      "       CL327       0.98      1.00      0.99       162\n",
      "        CL36       1.00      1.00      1.00       204\n",
      "        CL37       1.00      1.00      1.00       156\n",
      "       CL376       0.98      1.00      0.99      1462\n",
      "         CL4       1.00      1.00      1.00       174\n",
      "         CL5       0.73      1.00      0.84       148\n",
      "         CL6       1.00      0.98      0.99     17433\n",
      "         CL7       1.00      1.00      1.00       174\n",
      "         CL8       1.00      1.00      1.00         8\n",
      "      CL8612       1.00      1.00      1.00       408\n",
      "         CL9       0.94      1.00      0.97       171\n",
      "        CL94       0.98      1.00      0.99       126\n",
      "        CL95       0.99      1.00      0.99       144\n",
      "\n",
      "    accuracy                           0.99     27642\n",
      "   macro avg       0.94      1.00      0.97     27642\n",
      "weighted avg       0.99      0.99      0.99     27642\n",
      "\n"
     ]
    }
   ],
   "source": [
    "print(classification_report(y_train,y_pred_train))"
   ]
  },
  {
   "cell_type": "markdown",
   "id": "381921dc",
   "metadata": {},
   "source": [
    "## Random Forest"
   ]
  },
  {
   "cell_type": "code",
   "execution_count": 86,
   "id": "4e3df63e",
   "metadata": {},
   "outputs": [
    {
     "data": {
      "text/html": [
       "<style>#sk-container-id-9 {color: black;background-color: white;}#sk-container-id-9 pre{padding: 0;}#sk-container-id-9 div.sk-toggleable {background-color: white;}#sk-container-id-9 label.sk-toggleable__label {cursor: pointer;display: block;width: 100%;margin-bottom: 0;padding: 0.3em;box-sizing: border-box;text-align: center;}#sk-container-id-9 label.sk-toggleable__label-arrow:before {content: \"▸\";float: left;margin-right: 0.25em;color: #696969;}#sk-container-id-9 label.sk-toggleable__label-arrow:hover:before {color: black;}#sk-container-id-9 div.sk-estimator:hover label.sk-toggleable__label-arrow:before {color: black;}#sk-container-id-9 div.sk-toggleable__content {max-height: 0;max-width: 0;overflow: hidden;text-align: left;background-color: #f0f8ff;}#sk-container-id-9 div.sk-toggleable__content pre {margin: 0.2em;color: black;border-radius: 0.25em;background-color: #f0f8ff;}#sk-container-id-9 input.sk-toggleable__control:checked~div.sk-toggleable__content {max-height: 200px;max-width: 100%;overflow: auto;}#sk-container-id-9 input.sk-toggleable__control:checked~label.sk-toggleable__label-arrow:before {content: \"▾\";}#sk-container-id-9 div.sk-estimator input.sk-toggleable__control:checked~label.sk-toggleable__label {background-color: #d4ebff;}#sk-container-id-9 div.sk-label input.sk-toggleable__control:checked~label.sk-toggleable__label {background-color: #d4ebff;}#sk-container-id-9 input.sk-hidden--visually {border: 0;clip: rect(1px 1px 1px 1px);clip: rect(1px, 1px, 1px, 1px);height: 1px;margin: -1px;overflow: hidden;padding: 0;position: absolute;width: 1px;}#sk-container-id-9 div.sk-estimator {font-family: monospace;background-color: #f0f8ff;border: 1px dotted black;border-radius: 0.25em;box-sizing: border-box;margin-bottom: 0.5em;}#sk-container-id-9 div.sk-estimator:hover {background-color: #d4ebff;}#sk-container-id-9 div.sk-parallel-item::after {content: \"\";width: 100%;border-bottom: 1px solid gray;flex-grow: 1;}#sk-container-id-9 div.sk-label:hover label.sk-toggleable__label {background-color: #d4ebff;}#sk-container-id-9 div.sk-serial::before {content: \"\";position: absolute;border-left: 1px solid gray;box-sizing: border-box;top: 0;bottom: 0;left: 50%;z-index: 0;}#sk-container-id-9 div.sk-serial {display: flex;flex-direction: column;align-items: center;background-color: white;padding-right: 0.2em;padding-left: 0.2em;position: relative;}#sk-container-id-9 div.sk-item {position: relative;z-index: 1;}#sk-container-id-9 div.sk-parallel {display: flex;align-items: stretch;justify-content: center;background-color: white;position: relative;}#sk-container-id-9 div.sk-item::before, #sk-container-id-9 div.sk-parallel-item::before {content: \"\";position: absolute;border-left: 1px solid gray;box-sizing: border-box;top: 0;bottom: 0;left: 50%;z-index: -1;}#sk-container-id-9 div.sk-parallel-item {display: flex;flex-direction: column;z-index: 1;position: relative;background-color: white;}#sk-container-id-9 div.sk-parallel-item:first-child::after {align-self: flex-end;width: 50%;}#sk-container-id-9 div.sk-parallel-item:last-child::after {align-self: flex-start;width: 50%;}#sk-container-id-9 div.sk-parallel-item:only-child::after {width: 0;}#sk-container-id-9 div.sk-dashed-wrapped {border: 1px dashed gray;margin: 0 0.4em 0.5em 0.4em;box-sizing: border-box;padding-bottom: 0.4em;background-color: white;}#sk-container-id-9 div.sk-label label {font-family: monospace;font-weight: bold;display: inline-block;line-height: 1.2em;}#sk-container-id-9 div.sk-label-container {text-align: center;}#sk-container-id-9 div.sk-container {/* jupyter's `normalize.less` sets `[hidden] { display: none; }` but bootstrap.min.css set `[hidden] { display: none !important; }` so we also need the `!important` here to be able to override the default hidden behavior on the sphinx rendered scikit-learn.org. See: https://github.com/scikit-learn/scikit-learn/issues/21755 */display: inline-block !important;position: relative;}#sk-container-id-9 div.sk-text-repr-fallback {display: none;}</style><div id=\"sk-container-id-9\" class=\"sk-top-container\"><div class=\"sk-text-repr-fallback\"><pre>GridSearchCV(cv=5, estimator=RandomForestClassifier(random_state=42),\n",
       "             param_grid={&#x27;max_depth&#x27;: array([3, 6, 9]),\n",
       "                         &#x27;max_samples&#x27;: array([0.3, 0.5, 0.7]),\n",
       "                         &#x27;n_estimators&#x27;: array([100, 300, 500])})</pre><b>In a Jupyter environment, please rerun this cell to show the HTML representation or trust the notebook. <br />On GitHub, the HTML representation is unable to render, please try loading this page with nbviewer.org.</b></div><div class=\"sk-container\" hidden><div class=\"sk-item sk-dashed-wrapped\"><div class=\"sk-label-container\"><div class=\"sk-label sk-toggleable\"><input class=\"sk-toggleable__control sk-hidden--visually\" id=\"sk-estimator-id-25\" type=\"checkbox\" ><label for=\"sk-estimator-id-25\" class=\"sk-toggleable__label sk-toggleable__label-arrow\">GridSearchCV</label><div class=\"sk-toggleable__content\"><pre>GridSearchCV(cv=5, estimator=RandomForestClassifier(random_state=42),\n",
       "             param_grid={&#x27;max_depth&#x27;: array([3, 6, 9]),\n",
       "                         &#x27;max_samples&#x27;: array([0.3, 0.5, 0.7]),\n",
       "                         &#x27;n_estimators&#x27;: array([100, 300, 500])})</pre></div></div></div><div class=\"sk-parallel\"><div class=\"sk-parallel-item\"><div class=\"sk-item\"><div class=\"sk-label-container\"><div class=\"sk-label sk-toggleable\"><input class=\"sk-toggleable__control sk-hidden--visually\" id=\"sk-estimator-id-26\" type=\"checkbox\" ><label for=\"sk-estimator-id-26\" class=\"sk-toggleable__label sk-toggleable__label-arrow\">estimator: RandomForestClassifier</label><div class=\"sk-toggleable__content\"><pre>RandomForestClassifier(random_state=42)</pre></div></div></div><div class=\"sk-serial\"><div class=\"sk-item\"><div class=\"sk-estimator sk-toggleable\"><input class=\"sk-toggleable__control sk-hidden--visually\" id=\"sk-estimator-id-27\" type=\"checkbox\" ><label for=\"sk-estimator-id-27\" class=\"sk-toggleable__label sk-toggleable__label-arrow\">RandomForestClassifier</label><div class=\"sk-toggleable__content\"><pre>RandomForestClassifier(random_state=42)</pre></div></div></div></div></div></div></div></div></div></div>"
      ],
      "text/plain": [
       "GridSearchCV(cv=5, estimator=RandomForestClassifier(random_state=42),\n",
       "             param_grid={'max_depth': array([3, 6, 9]),\n",
       "                         'max_samples': array([0.3, 0.5, 0.7]),\n",
       "                         'n_estimators': array([100, 300, 500])})"
      ]
     },
     "execution_count": 86,
     "metadata": {},
     "output_type": "execute_result"
    }
   ],
   "source": [
    "from sklearn.ensemble import RandomForestClassifier\n",
    "classifier = RandomForestClassifier(random_state=42)\n",
    "param_grid = {'n_estimators': np.array([100,300,500]),'max_depth':np.array([3,6,9]),'max_samples':np.array([0.3,0.5,0.7])}\n",
    "rf_gscv = GridSearchCV(classifier, param_grid, cv=5)\n",
    "rf_gscv.fit(X_train, y_train)"
   ]
  },
  {
   "cell_type": "code",
   "execution_count": 87,
   "id": "95f4347b",
   "metadata": {},
   "outputs": [
    {
     "data": {
      "text/plain": [
       "{'max_depth': 9, 'max_samples': 0.7, 'n_estimators': 500}"
      ]
     },
     "execution_count": 87,
     "metadata": {},
     "output_type": "execute_result"
    }
   ],
   "source": [
    "rf_gscv.best_params_"
   ]
  },
  {
   "cell_type": "code",
   "execution_count": 88,
   "id": "979d72af",
   "metadata": {},
   "outputs": [
    {
     "data": {
      "text/plain": [
       "0.8476342063377225"
      ]
     },
     "execution_count": 88,
     "metadata": {},
     "output_type": "execute_result"
    }
   ],
   "source": [
    "y_pred = rf_gscv.predict(X_test)\n",
    "accuracy_score(y_test,y_pred)"
   ]
  },
  {
   "cell_type": "code",
   "execution_count": 89,
   "id": "b9efd4d8",
   "metadata": {},
   "outputs": [
    {
     "name": "stdout",
     "output_type": "stream",
     "text": [
      "              precision    recall  f1-score   support\n",
      "\n",
      "         CL1       0.95      0.64      0.76        58\n",
      "       CL112       0.00      0.00      0.00        13\n",
      "        CL12       0.00      0.00      0.00        58\n",
      "       CL146       0.70      0.97      0.81       790\n",
      "       CL147       0.00      0.00      0.00         9\n",
      "       CL153       0.00      0.00      0.00        33\n",
      "       CL167       0.00      0.00      0.00        12\n",
      "       CL168       0.88      0.82      0.85       130\n",
      "       CL187       0.00      0.00      0.00        73\n",
      "         CL2       0.93      0.37      0.53       171\n",
      "       CL200       0.82      0.16      0.26        57\n",
      "       CL208       0.00      0.00      0.00        53\n",
      "       CL233       0.00      0.00      0.00         7\n",
      "       CL244       0.00      0.00      0.00        43\n",
      "       CL266       0.00      0.00      0.00         9\n",
      "        CL29       0.76      0.46      0.58       127\n",
      "       CL327       0.73      0.26      0.38        43\n",
      "        CL36       0.74      0.74      0.74        58\n",
      "        CL37       1.00      0.09      0.17        53\n",
      "       CL376       0.76      0.67      0.71       380\n",
      "         CL4       1.00      0.02      0.04        45\n",
      "         CL5       0.00      0.00      0.00        33\n",
      "         CL6       0.89      1.00      0.94      4411\n",
      "         CL7       1.00      0.82      0.90        38\n",
      "         CL8       0.00      0.00      0.00         3\n",
      "      CL8612       0.58      0.61      0.59        84\n",
      "         CL9       1.00      0.02      0.04        46\n",
      "        CL92       0.00      0.00      0.00         1\n",
      "        CL94       0.90      0.29      0.44        31\n",
      "        CL95       0.00      0.00      0.00        42\n",
      "\n",
      "    accuracy                           0.85      6911\n",
      "   macro avg       0.45      0.26      0.29      6911\n",
      "weighted avg       0.81      0.85      0.81      6911\n",
      "\n"
     ]
    },
    {
     "name": "stderr",
     "output_type": "stream",
     "text": [
      "/Users/yushanyang/Software/anaconda3/lib/python3.9/site-packages/sklearn/metrics/_classification.py:1327: UndefinedMetricWarning: Precision and F-score are ill-defined and being set to 0.0 in labels with no predicted samples. Use `zero_division` parameter to control this behavior.\n",
      "  _warn_prf(average, modifier, msg_start, len(result))\n",
      "/Users/yushanyang/Software/anaconda3/lib/python3.9/site-packages/sklearn/metrics/_classification.py:1327: UndefinedMetricWarning: Precision and F-score are ill-defined and being set to 0.0 in labels with no predicted samples. Use `zero_division` parameter to control this behavior.\n",
      "  _warn_prf(average, modifier, msg_start, len(result))\n",
      "/Users/yushanyang/Software/anaconda3/lib/python3.9/site-packages/sklearn/metrics/_classification.py:1327: UndefinedMetricWarning: Precision and F-score are ill-defined and being set to 0.0 in labels with no predicted samples. Use `zero_division` parameter to control this behavior.\n",
      "  _warn_prf(average, modifier, msg_start, len(result))\n"
     ]
    }
   ],
   "source": [
    "print(classification_report(y_test,y_pred))"
   ]
  },
  {
   "cell_type": "code",
   "execution_count": 91,
   "id": "379fdb0d",
   "metadata": {},
   "outputs": [
    {
     "data": {
      "image/png": "[encoded data removed]",
      "text/plain": [
       "<Figure size 1440x1440 with 2 Axes>"
      ]
     },
     "metadata": {
      "needs_background": "light"
     },
     "output_type": "display_data"
    }
   ],
   "source": [
    "fig, ax = plt.subplots(figsize=(20, 20))\n",
    "ConfusionMatrixDisplay.from_estimator(rf_gscv, X_test, y_test,ax=ax)\n",
    "plt.show()"
   ]
  },
  {
   "cell_type": "code",
   "execution_count": 92,
   "id": "509bcb31",
   "metadata": {},
   "outputs": [
    {
     "data": {
      "text/plain": [
       "0.8814846971999132"
      ]
     },
     "execution_count": 92,
     "metadata": {},
     "output_type": "execute_result"
    }
   ],
   "source": [
    "y_pred_train = rf_gscv.predict(X_train)\n",
    "accuracy_score(y_train,y_pred_train)"
   ]
  },
  {
   "cell_type": "code",
   "execution_count": 93,
   "id": "f8d00703",
   "metadata": {},
   "outputs": [
    {
     "name": "stderr",
     "output_type": "stream",
     "text": [
      "/Users/yushanyang/Software/anaconda3/lib/python3.9/site-packages/sklearn/metrics/_classification.py:1327: UndefinedMetricWarning: Precision and F-score are ill-defined and being set to 0.0 in labels with no predicted samples. Use `zero_division` parameter to control this behavior.\n",
      "  _warn_prf(average, modifier, msg_start, len(result))\n"
     ]
    },
    {
     "name": "stdout",
     "output_type": "stream",
     "text": [
      "              precision    recall  f1-score   support\n",
      "\n",
      "         CL1       1.00      0.86      0.92       217\n",
      "       CL112       1.00      0.13      0.23        53\n",
      "        CL12       1.00      0.07      0.13       223\n",
      "       CL146       0.79      0.98      0.88      3330\n",
      "       CL147       0.00      0.00      0.00        36\n",
      "       CL153       1.00      0.01      0.02        92\n",
      "       CL167       0.00      0.00      0.00        29\n",
      "       CL168       0.96      0.86      0.90       463\n",
      "       CL187       1.00      0.02      0.03       410\n",
      "         CL2       0.98      0.56      0.71       732\n",
      "       CL200       0.95      0.40      0.57       252\n",
      "       CL208       0.00      0.00      0.00       258\n",
      "       CL233       1.00      0.25      0.40        16\n",
      "       CL244       1.00      0.18      0.31       200\n",
      "       CL266       0.00      0.00      0.00        42\n",
      "        CL29       0.94      0.72      0.82       519\n",
      "       CL327       0.98      0.62      0.76       162\n",
      "        CL36       0.99      0.95      0.97       204\n",
      "        CL37       1.00      0.52      0.68       156\n",
      "       CL376       0.84      0.73      0.78      1462\n",
      "         CL4       1.00      0.33      0.49       174\n",
      "         CL5       1.00      0.02      0.04       148\n",
      "         CL6       0.89      1.00      0.94     17433\n",
      "         CL7       1.00      0.99      1.00       174\n",
      "         CL8       0.00      0.00      0.00         8\n",
      "      CL8612       0.90      0.80      0.85       408\n",
      "         CL9       1.00      0.13      0.23       171\n",
      "        CL94       0.99      0.62      0.76       126\n",
      "        CL95       1.00      0.12      0.22       144\n",
      "\n",
      "    accuracy                           0.88     27642\n",
      "   macro avg       0.80      0.41      0.47     27642\n",
      "weighted avg       0.88      0.88      0.85     27642\n",
      "\n"
     ]
    },
    {
     "name": "stderr",
     "output_type": "stream",
     "text": [
      "/Users/yushanyang/Software/anaconda3/lib/python3.9/site-packages/sklearn/metrics/_classification.py:1327: UndefinedMetricWarning: Precision and F-score are ill-defined and being set to 0.0 in labels with no predicted samples. Use `zero_division` parameter to control this behavior.\n",
      "  _warn_prf(average, modifier, msg_start, len(result))\n",
      "/Users/yushanyang/Software/anaconda3/lib/python3.9/site-packages/sklearn/metrics/_classification.py:1327: UndefinedMetricWarning: Precision and F-score are ill-defined and being set to 0.0 in labels with no predicted samples. Use `zero_division` parameter to control this behavior.\n",
      "  _warn_prf(average, modifier, msg_start, len(result))\n"
     ]
    }
   ],
   "source": [
    "print(classification_report(y_train,y_pred_train))"
   ]
  },
  {
   "cell_type": "markdown",
   "id": "a05accd1",
   "metadata": {},
   "source": [
    "## Neural network"
   ]
  },
  {
   "cell_type": "markdown",
   "id": "d0ab130a",
   "metadata": {},
   "source": [
    "### 10 by 10 hidden layers"
   ]
  },
  {
   "cell_type": "code",
   "execution_count": 101,
   "id": "10306e7b",
   "metadata": {},
   "outputs": [],
   "source": [
    "import tensorflow as tf\n",
    "from sklearn.compose import ColumnTransformer\n",
    "from sklearn.preprocessing import OneHotEncoder\n",
    "ct = ColumnTransformer(transformers=[('encoder',OneHotEncoder(),[0])])\n",
    "ct.fit(np.array(np.array(y).reshape(-1,1)))\n",
    "y_new = ct.transform(np.array(np.array(y).reshape(-1,1))).toarray()"
   ]
  },
  {
   "cell_type": "code",
   "execution_count": 102,
   "id": "4fb969da",
   "metadata": {},
   "outputs": [],
   "source": [
    "y_train_new, y_test_new = train_test_split(y_new, test_size=0.2, random_state=42)"
   ]
  },
  {
   "cell_type": "code",
   "execution_count": 103,
   "id": "59747bac",
   "metadata": {},
   "outputs": [
    {
     "name": "stdout",
     "output_type": "stream",
     "text": [
      "Epoch 1/100\n"
     ]
    },
    {
     "name": "stderr",
     "output_type": "stream",
     "text": [
      "2022-07-24 22:22:01.418303: I tensorflow/core/platform/cpu_feature_guard.cc:193] This TensorFlow binary is optimized with oneAPI Deep Neural Network Library (oneDNN) to use the following CPU instructions in performance-critical operations:  AVX2 FMA\n",
      "To enable them in other operations, rebuild TensorFlow with the appropriate compiler flags.\n"
     ]
    },
    {
     "name": "stdout",
     "output_type": "stream",
     "text": [
      "864/864 [==============================] - 1s 863us/step - loss: 1.1733 - accuracy: 0.7318\n",
      "Epoch 2/100\n",
      "864/864 [==============================] - 1s 848us/step - loss: 0.5063 - accuracy: 0.8668\n",
      "Epoch 3/100\n",
      "864/864 [==============================] - 1s 848us/step - loss: 0.3899 - accuracy: 0.8909\n",
      "Epoch 4/100\n",
      "864/864 [==============================] - 1s 858us/step - loss: 0.3399 - accuracy: 0.9013\n",
      "Epoch 5/100\n",
      "864/864 [==============================] - 1s 847us/step - loss: 0.3103 - accuracy: 0.9094\n",
      "Epoch 6/100\n",
      "864/864 [==============================] - 1s 850us/step - loss: 0.2899 - accuracy: 0.9152\n",
      "Epoch 7/100\n",
      "864/864 [==============================] - 1s 847us/step - loss: 0.2755 - accuracy: 0.9184\n",
      "Epoch 8/100\n",
      "864/864 [==============================] - 1s 849us/step - loss: 0.2653 - accuracy: 0.9205\n",
      "Epoch 9/100\n",
      "864/864 [==============================] - 1s 849us/step - loss: 0.2570 - accuracy: 0.9227\n",
      "Epoch 10/100\n",
      "864/864 [==============================] - 1s 856us/step - loss: 0.2524 - accuracy: 0.9241\n",
      "Epoch 11/100\n",
      "864/864 [==============================] - 1s 860us/step - loss: 0.2463 - accuracy: 0.9254\n",
      "Epoch 12/100\n",
      "864/864 [==============================] - 1s 860us/step - loss: 0.2436 - accuracy: 0.9261\n",
      "Epoch 13/100\n",
      "864/864 [==============================] - 1s 856us/step - loss: 0.2400 - accuracy: 0.9269\n",
      "Epoch 14/100\n",
      "864/864 [==============================] - 1s 850us/step - loss: 0.2350 - accuracy: 0.9295\n",
      "Epoch 15/100\n",
      "864/864 [==============================] - 1s 853us/step - loss: 0.2334 - accuracy: 0.9300\n",
      "Epoch 16/100\n",
      "864/864 [==============================] - 1s 860us/step - loss: 0.2308 - accuracy: 0.9306\n",
      "Epoch 17/100\n",
      "864/864 [==============================] - 1s 846us/step - loss: 0.2287 - accuracy: 0.9320\n",
      "Epoch 18/100\n",
      "864/864 [==============================] - 1s 854us/step - loss: 0.2260 - accuracy: 0.9321\n",
      "Epoch 19/100\n",
      "864/864 [==============================] - 1s 846us/step - loss: 0.2247 - accuracy: 0.9325\n",
      "Epoch 20/100\n",
      "864/864 [==============================] - 1s 837us/step - loss: 0.2218 - accuracy: 0.9333\n",
      "Epoch 21/100\n",
      "864/864 [==============================] - 1s 848us/step - loss: 0.2212 - accuracy: 0.9324\n",
      "Epoch 22/100\n",
      "864/864 [==============================] - 1s 848us/step - loss: 0.2186 - accuracy: 0.9330\n",
      "Epoch 23/100\n",
      "864/864 [==============================] - 1s 847us/step - loss: 0.2176 - accuracy: 0.9344\n",
      "Epoch 24/100\n",
      "864/864 [==============================] - 1s 840us/step - loss: 0.2161 - accuracy: 0.9351\n",
      "Epoch 25/100\n",
      "864/864 [==============================] - 1s 845us/step - loss: 0.2144 - accuracy: 0.9350\n",
      "Epoch 26/100\n",
      "864/864 [==============================] - 1s 874us/step - loss: 0.2130 - accuracy: 0.9356\n",
      "Epoch 27/100\n",
      "864/864 [==============================] - 1s 842us/step - loss: 0.2125 - accuracy: 0.9351\n",
      "Epoch 28/100\n",
      "864/864 [==============================] - 1s 842us/step - loss: 0.2113 - accuracy: 0.9351\n",
      "Epoch 29/100\n",
      "864/864 [==============================] - 1s 862us/step - loss: 0.2106 - accuracy: 0.9364\n",
      "Epoch 30/100\n",
      "864/864 [==============================] - 1s 849us/step - loss: 0.2098 - accuracy: 0.9359\n",
      "Epoch 31/100\n",
      "864/864 [==============================] - 1s 840us/step - loss: 0.2079 - accuracy: 0.9374\n",
      "Epoch 32/100\n",
      "864/864 [==============================] - 1s 848us/step - loss: 0.2081 - accuracy: 0.9372\n",
      "Epoch 33/100\n",
      "864/864 [==============================] - 1s 845us/step - loss: 0.2068 - accuracy: 0.9371\n",
      "Epoch 34/100\n",
      "864/864 [==============================] - 1s 848us/step - loss: 0.2059 - accuracy: 0.9372\n",
      "Epoch 35/100\n",
      "864/864 [==============================] - 1s 850us/step - loss: 0.2056 - accuracy: 0.9370\n",
      "Epoch 36/100\n",
      "864/864 [==============================] - 1s 854us/step - loss: 0.2052 - accuracy: 0.9376\n",
      "Epoch 37/100\n",
      "864/864 [==============================] - 1s 852us/step - loss: 0.2028 - accuracy: 0.9379\n",
      "Epoch 38/100\n",
      "864/864 [==============================] - 1s 857us/step - loss: 0.2043 - accuracy: 0.9377\n",
      "Epoch 39/100\n",
      "864/864 [==============================] - 1s 860us/step - loss: 0.2024 - accuracy: 0.9380\n",
      "Epoch 40/100\n",
      "864/864 [==============================] - 1s 856us/step - loss: 0.2030 - accuracy: 0.9376\n",
      "Epoch 41/100\n",
      "864/864 [==============================] - 1s 858us/step - loss: 0.2016 - accuracy: 0.9386\n",
      "Epoch 42/100\n",
      "864/864 [==============================] - 1s 862us/step - loss: 0.2006 - accuracy: 0.9386\n",
      "Epoch 43/100\n",
      "864/864 [==============================] - 1s 858us/step - loss: 0.2016 - accuracy: 0.9378\n",
      "Epoch 44/100\n",
      "864/864 [==============================] - 1s 849us/step - loss: 0.1991 - accuracy: 0.9388\n",
      "Epoch 45/100\n",
      "864/864 [==============================] - 1s 859us/step - loss: 0.1997 - accuracy: 0.9393\n",
      "Epoch 46/100\n",
      "864/864 [==============================] - 1s 866us/step - loss: 0.2002 - accuracy: 0.9394\n",
      "Epoch 47/100\n",
      "864/864 [==============================] - 1s 856us/step - loss: 0.2004 - accuracy: 0.9382\n",
      "Epoch 48/100\n",
      "864/864 [==============================] - 1s 856us/step - loss: 0.1971 - accuracy: 0.9401\n",
      "Epoch 49/100\n",
      "864/864 [==============================] - 1s 867us/step - loss: 0.1982 - accuracy: 0.9388\n",
      "Epoch 50/100\n",
      "864/864 [==============================] - 1s 863us/step - loss: 0.1974 - accuracy: 0.9390\n",
      "Epoch 51/100\n",
      "864/864 [==============================] - 1s 873us/step - loss: 0.1981 - accuracy: 0.9389\n",
      "Epoch 52/100\n",
      "864/864 [==============================] - 1s 888us/step - loss: 0.1969 - accuracy: 0.9391\n",
      "Epoch 53/100\n",
      "864/864 [==============================] - 1s 873us/step - loss: 0.1978 - accuracy: 0.9392\n",
      "Epoch 54/100\n",
      "864/864 [==============================] - 1s 870us/step - loss: 0.1966 - accuracy: 0.9403\n",
      "Epoch 55/100\n",
      "864/864 [==============================] - 1s 870us/step - loss: 0.1958 - accuracy: 0.9394\n",
      "Epoch 56/100\n",
      "864/864 [==============================] - 1s 867us/step - loss: 0.1957 - accuracy: 0.9394\n",
      "Epoch 57/100\n",
      "864/864 [==============================] - 1s 870us/step - loss: 0.1951 - accuracy: 0.9405\n",
      "Epoch 58/100\n",
      "864/864 [==============================] - 1s 868us/step - loss: 0.1963 - accuracy: 0.9395\n",
      "Epoch 59/100\n",
      "864/864 [==============================] - 1s 870us/step - loss: 0.1956 - accuracy: 0.9398\n",
      "Epoch 60/100\n",
      "864/864 [==============================] - 1s 860us/step - loss: 0.1935 - accuracy: 0.9411\n",
      "Epoch 61/100\n",
      "864/864 [==============================] - 1s 875us/step - loss: 0.1943 - accuracy: 0.9400\n",
      "Epoch 62/100\n",
      "864/864 [==============================] - 1s 873us/step - loss: 0.1933 - accuracy: 0.9406\n",
      "Epoch 63/100\n",
      "864/864 [==============================] - 1s 873us/step - loss: 0.1937 - accuracy: 0.9397\n",
      "Epoch 64/100\n",
      "864/864 [==============================] - 1s 868us/step - loss: 0.1937 - accuracy: 0.9406\n",
      "Epoch 65/100\n",
      "864/864 [==============================] - 1s 870us/step - loss: 0.1924 - accuracy: 0.9408\n",
      "Epoch 66/100\n",
      "864/864 [==============================] - 1s 865us/step - loss: 0.1927 - accuracy: 0.9406\n",
      "Epoch 67/100\n",
      "864/864 [==============================] - 1s 875us/step - loss: 0.1918 - accuracy: 0.9406\n",
      "Epoch 68/100\n",
      "864/864 [==============================] - 1s 868us/step - loss: 0.1934 - accuracy: 0.9407\n",
      "Epoch 69/100\n",
      "864/864 [==============================] - 1s 871us/step - loss: 0.1934 - accuracy: 0.9401\n",
      "Epoch 70/100\n",
      "864/864 [==============================] - 1s 869us/step - loss: 0.1913 - accuracy: 0.9415\n",
      "Epoch 71/100\n",
      "864/864 [==============================] - 1s 871us/step - loss: 0.1911 - accuracy: 0.9407\n",
      "Epoch 72/100\n",
      "864/864 [==============================] - 1s 865us/step - loss: 0.1905 - accuracy: 0.9423\n",
      "Epoch 73/100\n",
      "864/864 [==============================] - 1s 871us/step - loss: 0.1917 - accuracy: 0.9400\n",
      "Epoch 74/100\n",
      "864/864 [==============================] - 1s 863us/step - loss: 0.1916 - accuracy: 0.9404\n",
      "Epoch 75/100\n",
      "864/864 [==============================] - 1s 872us/step - loss: 0.1904 - accuracy: 0.9412\n",
      "Epoch 76/100\n",
      "864/864 [==============================] - 1s 870us/step - loss: 0.1921 - accuracy: 0.9391\n",
      "Epoch 77/100\n",
      "864/864 [==============================] - 1s 865us/step - loss: 0.1906 - accuracy: 0.9415\n",
      "Epoch 78/100\n",
      "864/864 [==============================] - 1s 878us/step - loss: 0.1902 - accuracy: 0.9415\n",
      "Epoch 79/100\n",
      "864/864 [==============================] - 1s 891us/step - loss: 0.1905 - accuracy: 0.9405\n"
     ]
    },
    {
     "name": "stdout",
     "output_type": "stream",
     "text": [
      "Epoch 80/100\n",
      "864/864 [==============================] - 1s 859us/step - loss: 0.1896 - accuracy: 0.9417\n",
      "Epoch 81/100\n",
      "864/864 [==============================] - 1s 864us/step - loss: 0.1889 - accuracy: 0.9416\n",
      "Epoch 82/100\n",
      "864/864 [==============================] - 1s 864us/step - loss: 0.1898 - accuracy: 0.9413\n",
      "Epoch 83/100\n",
      "864/864 [==============================] - 1s 865us/step - loss: 0.1901 - accuracy: 0.9416\n",
      "Epoch 84/100\n",
      "864/864 [==============================] - 1s 865us/step - loss: 0.1894 - accuracy: 0.9417\n",
      "Epoch 85/100\n",
      "864/864 [==============================] - 1s 862us/step - loss: 0.1895 - accuracy: 0.9414\n",
      "Epoch 86/100\n",
      "864/864 [==============================] - 1s 863us/step - loss: 0.1897 - accuracy: 0.9414\n",
      "Epoch 87/100\n",
      "864/864 [==============================] - 1s 862us/step - loss: 0.1891 - accuracy: 0.9418\n",
      "Epoch 88/100\n",
      "864/864 [==============================] - 1s 861us/step - loss: 0.1878 - accuracy: 0.9420\n",
      "Epoch 89/100\n",
      "864/864 [==============================] - 1s 867us/step - loss: 0.1888 - accuracy: 0.9412\n",
      "Epoch 90/100\n",
      "864/864 [==============================] - 1s 865us/step - loss: 0.1872 - accuracy: 0.9422\n",
      "Epoch 91/100\n",
      "864/864 [==============================] - 1s 860us/step - loss: 0.1875 - accuracy: 0.9426\n",
      "Epoch 92/100\n",
      "864/864 [==============================] - 1s 859us/step - loss: 0.1867 - accuracy: 0.9415\n",
      "Epoch 93/100\n",
      "864/864 [==============================] - 1s 866us/step - loss: 0.1858 - accuracy: 0.9416\n",
      "Epoch 94/100\n",
      "864/864 [==============================] - 1s 862us/step - loss: 0.1864 - accuracy: 0.9419\n",
      "Epoch 95/100\n",
      "864/864 [==============================] - 1s 868us/step - loss: 0.1865 - accuracy: 0.9422\n",
      "Epoch 96/100\n",
      "864/864 [==============================] - 1s 864us/step - loss: 0.1864 - accuracy: 0.9418\n",
      "Epoch 97/100\n",
      "864/864 [==============================] - 1s 864us/step - loss: 0.1874 - accuracy: 0.9422\n",
      "Epoch 98/100\n",
      "864/864 [==============================] - 1s 863us/step - loss: 0.1873 - accuracy: 0.9424\n",
      "Epoch 99/100\n",
      "864/864 [==============================] - 1s 863us/step - loss: 0.1862 - accuracy: 0.9425\n",
      "Epoch 100/100\n",
      "864/864 [==============================] - 1s 854us/step - loss: 0.1855 - accuracy: 0.9418\n"
     ]
    },
    {
     "data": {
      "text/plain": [
       "<keras.callbacks.History at 0x7faa0c5fbbb0>"
      ]
     },
     "execution_count": 103,
     "metadata": {},
     "output_type": "execute_result"
    }
   ],
   "source": [
    "ann = tf.keras.models.Sequential()\n",
    "ann.add(tf.keras.layers.Dense(units=10,activation=\"relu\"))\n",
    "ann.add(tf.keras.layers.Dense(units=10,activation=\"relu\"))\n",
    "ann.add(tf.keras.layers.Dense(units=30,activation=\"softmax\"))\n",
    "ann.compile(optimizer=\"adam\",loss=\"categorical_crossentropy\",metrics=['accuracy'])\n",
    "ann.fit(X_train,y_train_new,batch_size=32,epochs=100)"
   ]
  },
  {
   "cell_type": "code",
   "execution_count": 104,
   "id": "0a3e5e7c",
   "metadata": {},
   "outputs": [
    {
     "name": "stdout",
     "output_type": "stream",
     "text": [
      "216/216 [==============================] - 0s 536us/step\n"
     ]
    }
   ],
   "source": [
    "y_pred=ann.predict(X_test)"
   ]
  },
  {
   "cell_type": "code",
   "execution_count": 105,
   "id": "5ae49916",
   "metadata": {},
   "outputs": [],
   "source": [
    "y_pred = y_pred.argmax(axis=1)\n",
    "y_test_new = y_test_new.argmax(axis=1)\n",
    "class_name = ct.transformers_[0][1].categories_[0]\n",
    "y_pred = [class_name[i] for i in y_pred]\n",
    "y_test_new = [class_name[i] for i in y_test_new]"
   ]
  },
  {
   "cell_type": "code",
   "execution_count": 106,
   "id": "e21186d0",
   "metadata": {},
   "outputs": [
    {
     "data": {
      "text/plain": [
       "0.9101432498914773"
      ]
     },
     "execution_count": 106,
     "metadata": {},
     "output_type": "execute_result"
    }
   ],
   "source": [
    "accuracy_score(y_test_new,y_pred)"
   ]
  },
  {
   "cell_type": "code",
   "execution_count": 107,
   "id": "dbea9303",
   "metadata": {},
   "outputs": [
    {
     "name": "stdout",
     "output_type": "stream",
     "text": [
      "              precision    recall  f1-score   support\n",
      "\n",
      "         CL1       0.68      0.78      0.73        58\n",
      "       CL112       0.26      0.38      0.31        13\n",
      "        CL12       0.35      0.16      0.21        58\n",
      "       CL146       0.92      0.95      0.94       790\n",
      "       CL147       0.00      0.00      0.00         9\n",
      "       CL153       0.50      0.27      0.35        33\n",
      "       CL167       0.00      0.00      0.00        12\n",
      "       CL168       0.92      0.94      0.93       130\n",
      "       CL187       0.47      0.53      0.50        73\n",
      "         CL2       0.82      0.82      0.82       171\n",
      "       CL200       0.42      0.68      0.52        57\n",
      "       CL208       0.81      0.81      0.81        53\n",
      "       CL233       0.00      0.00      0.00         7\n",
      "       CL244       0.44      0.47      0.45        43\n",
      "       CL266       0.20      0.11      0.14         9\n",
      "        CL29       0.72      0.67      0.69       127\n",
      "       CL327       0.62      0.72      0.67        43\n",
      "        CL36       0.62      0.74      0.68        58\n",
      "        CL37       0.72      0.49      0.58        53\n",
      "       CL376       0.84      0.92      0.88       380\n",
      "         CL4       0.33      0.22      0.27        45\n",
      "         CL5       0.70      0.70      0.70        33\n",
      "         CL6       0.98      0.99      0.99      4411\n",
      "         CL7       0.97      0.87      0.92        38\n",
      "         CL8       0.00      0.00      0.00         3\n",
      "      CL8612       0.67      0.63      0.65        84\n",
      "         CL9       0.67      0.43      0.53        46\n",
      "        CL92       0.00      0.00      0.00         1\n",
      "        CL94       0.57      0.68      0.62        31\n",
      "        CL95       0.41      0.17      0.24        42\n",
      "\n",
      "    accuracy                           0.91      6911\n",
      "   macro avg       0.52      0.50      0.50      6911\n",
      "weighted avg       0.90      0.91      0.90      6911\n",
      "\n"
     ]
    },
    {
     "name": "stderr",
     "output_type": "stream",
     "text": [
      "/Users/yushanyang/Software/anaconda3/lib/python3.9/site-packages/sklearn/metrics/_classification.py:1327: UndefinedMetricWarning: Precision and F-score are ill-defined and being set to 0.0 in labels with no predicted samples. Use `zero_division` parameter to control this behavior.\n",
      "  _warn_prf(average, modifier, msg_start, len(result))\n",
      "/Users/yushanyang/Software/anaconda3/lib/python3.9/site-packages/sklearn/metrics/_classification.py:1327: UndefinedMetricWarning: Precision and F-score are ill-defined and being set to 0.0 in labels with no predicted samples. Use `zero_division` parameter to control this behavior.\n",
      "  _warn_prf(average, modifier, msg_start, len(result))\n",
      "/Users/yushanyang/Software/anaconda3/lib/python3.9/site-packages/sklearn/metrics/_classification.py:1327: UndefinedMetricWarning: Precision and F-score are ill-defined and being set to 0.0 in labels with no predicted samples. Use `zero_division` parameter to control this behavior.\n",
      "  _warn_prf(average, modifier, msg_start, len(result))\n"
     ]
    }
   ],
   "source": [
    "print(classification_report(y_test,y_pred))"
   ]
  },
  {
   "cell_type": "code",
   "execution_count": 108,
   "id": "1514fcee",
   "metadata": {},
   "outputs": [
    {
     "name": "stdout",
     "output_type": "stream",
     "text": [
      "864/864 [==============================] - 0s 499us/step\n"
     ]
    },
    {
     "data": {
      "text/plain": [
       "0.9459156356269445"
      ]
     },
     "execution_count": 108,
     "metadata": {},
     "output_type": "execute_result"
    }
   ],
   "source": [
    "y_pred_train = ann.predict(X_train)\n",
    "y_pred_train = y_pred_train.argmax(axis=1)\n",
    "y_train_new = y_train_new.argmax(axis=1)\n",
    "y_pred_train = [class_name[i] for i in y_pred_train]\n",
    "y_train_new = [class_name[i] for i in y_train_new]\n",
    "accuracy_score(y_train_new,y_pred_train)"
   ]
  },
  {
   "cell_type": "code",
   "execution_count": 109,
   "id": "7e1333a7",
   "metadata": {},
   "outputs": [
    {
     "name": "stdout",
     "output_type": "stream",
     "text": [
      "              precision    recall  f1-score   support\n",
      "\n",
      "         CL1       0.91      0.91      0.91       217\n",
      "       CL112       0.58      0.66      0.62        53\n",
      "        CL12       0.58      0.40      0.47       223\n",
      "       CL146       0.96      0.98      0.97      3330\n",
      "       CL147       0.00      0.00      0.00        36\n",
      "       CL153       0.53      0.50      0.52        92\n",
      "       CL167       0.00      0.00      0.00        29\n",
      "       CL168       0.98      0.98      0.98       463\n",
      "       CL187       0.66      0.65      0.66       410\n",
      "         CL2       0.88      0.88      0.88       732\n",
      "       CL200       0.63      0.70      0.66       252\n",
      "       CL208       0.96      0.93      0.94       258\n",
      "       CL233       0.00      0.00      0.00        16\n",
      "       CL244       0.70      0.67      0.68       200\n",
      "       CL266       0.43      0.21      0.29        42\n",
      "        CL29       0.85      0.81      0.83       519\n",
      "       CL327       0.74      0.88      0.80       162\n",
      "        CL36       0.76      0.89      0.82       204\n",
      "        CL37       0.68      0.66      0.67       156\n",
      "       CL376       0.91      0.94      0.92      1462\n",
      "         CL4       0.82      0.68      0.75       174\n",
      "         CL5       0.81      0.88      0.84       148\n",
      "         CL6       0.99      1.00      0.99     17433\n",
      "         CL7       0.97      0.98      0.97       174\n",
      "         CL8       0.00      0.00      0.00         8\n",
      "      CL8612       0.88      0.79      0.83       408\n",
      "         CL9       0.83      0.74      0.78       171\n",
      "        CL94       0.74      0.75      0.75       126\n",
      "        CL95       0.55      0.41      0.47       144\n",
      "\n",
      "    accuracy                           0.95     27642\n",
      "   macro avg       0.67      0.65      0.66     27642\n",
      "weighted avg       0.94      0.95      0.94     27642\n",
      "\n"
     ]
    },
    {
     "name": "stderr",
     "output_type": "stream",
     "text": [
      "/Users/yushanyang/Software/anaconda3/lib/python3.9/site-packages/sklearn/metrics/_classification.py:1327: UndefinedMetricWarning: Precision and F-score are ill-defined and being set to 0.0 in labels with no predicted samples. Use `zero_division` parameter to control this behavior.\n",
      "  _warn_prf(average, modifier, msg_start, len(result))\n",
      "/Users/yushanyang/Software/anaconda3/lib/python3.9/site-packages/sklearn/metrics/_classification.py:1327: UndefinedMetricWarning: Precision and F-score are ill-defined and being set to 0.0 in labels with no predicted samples. Use `zero_division` parameter to control this behavior.\n",
      "  _warn_prf(average, modifier, msg_start, len(result))\n",
      "/Users/yushanyang/Software/anaconda3/lib/python3.9/site-packages/sklearn/metrics/_classification.py:1327: UndefinedMetricWarning: Precision and F-score are ill-defined and being set to 0.0 in labels with no predicted samples. Use `zero_division` parameter to control this behavior.\n",
      "  _warn_prf(average, modifier, msg_start, len(result))\n"
     ]
    }
   ],
   "source": [
    "print(classification_report(y_train_new,y_pred_train))"
   ]
  },
  {
   "cell_type": "markdown",
   "id": "1eb11034",
   "metadata": {},
   "source": [
    "### 6 by 10 by 10 hidden layers"
   ]
  },
  {
   "cell_type": "code",
   "execution_count": 110,
   "id": "df2f45cf",
   "metadata": {},
   "outputs": [],
   "source": [
    "ct = ColumnTransformer(transformers=[('encoder',OneHotEncoder(),[0])])\n",
    "ct.fit(np.array(np.array(y).reshape(-1,1)))\n",
    "y_new = ct.transform(np.array(np.array(y).reshape(-1,1))).toarray()\n",
    "y_train_new, y_test_new = train_test_split(y_new, test_size=0.2, random_state=42)"
   ]
  },
  {
   "cell_type": "code",
   "execution_count": 111,
   "id": "208897c5",
   "metadata": {},
   "outputs": [
    {
     "name": "stdout",
     "output_type": "stream",
     "text": [
      "Epoch 1/100\n",
      "864/864 [==============================] - 1s 799us/step - loss: 1.7202 - accuracy: 0.6050\n",
      "Epoch 2/100\n",
      "864/864 [==============================] - 1s 798us/step - loss: 0.7248 - accuracy: 0.7951\n",
      "Epoch 3/100\n",
      "864/864 [==============================] - 1s 795us/step - loss: 0.6384 - accuracy: 0.8256\n",
      "Epoch 4/100\n",
      "864/864 [==============================] - 1s 811us/step - loss: 0.5760 - accuracy: 0.8453\n",
      "Epoch 5/100\n",
      "864/864 [==============================] - 1s 801us/step - loss: 0.5342 - accuracy: 0.8575\n",
      "Epoch 6/100\n",
      "864/864 [==============================] - 1s 827us/step - loss: 0.5054 - accuracy: 0.8599\n",
      "Epoch 7/100\n",
      "864/864 [==============================] - 1s 803us/step - loss: 0.4774 - accuracy: 0.8640\n",
      "Epoch 8/100\n",
      "864/864 [==============================] - 1s 806us/step - loss: 0.4562 - accuracy: 0.8676\n",
      "Epoch 9/100\n",
      "864/864 [==============================] - 1s 809us/step - loss: 0.4395 - accuracy: 0.8712\n",
      "Epoch 10/100\n",
      "864/864 [==============================] - 1s 801us/step - loss: 0.4248 - accuracy: 0.8740\n",
      "Epoch 11/100\n",
      "864/864 [==============================] - 1s 801us/step - loss: 0.4139 - accuracy: 0.8779\n",
      "Epoch 12/100\n",
      "864/864 [==============================] - 1s 810us/step - loss: 0.4065 - accuracy: 0.8797\n",
      "Epoch 13/100\n",
      "864/864 [==============================] - 1s 815us/step - loss: 0.3995 - accuracy: 0.8804\n",
      "Epoch 14/100\n",
      "864/864 [==============================] - 1s 823us/step - loss: 0.3943 - accuracy: 0.8818\n",
      "Epoch 15/100\n",
      "864/864 [==============================] - 1s 807us/step - loss: 0.3897 - accuracy: 0.8836\n",
      "Epoch 16/100\n",
      "864/864 [==============================] - 1s 802us/step - loss: 0.3852 - accuracy: 0.8855\n",
      "Epoch 17/100\n",
      "864/864 [==============================] - 1s 808us/step - loss: 0.3826 - accuracy: 0.8867\n",
      "Epoch 18/100\n",
      "864/864 [==============================] - 1s 815us/step - loss: 0.3800 - accuracy: 0.8868\n",
      "Epoch 19/100\n",
      "864/864 [==============================] - 1s 810us/step - loss: 0.3771 - accuracy: 0.8880\n",
      "Epoch 20/100\n",
      "864/864 [==============================] - 1s 814us/step - loss: 0.3720 - accuracy: 0.8883\n",
      "Epoch 21/100\n",
      "864/864 [==============================] - 1s 810us/step - loss: 0.3709 - accuracy: 0.8886\n",
      "Epoch 22/100\n",
      "864/864 [==============================] - 1s 808us/step - loss: 0.3673 - accuracy: 0.8895\n",
      "Epoch 23/100\n",
      "864/864 [==============================] - 1s 808us/step - loss: 0.3646 - accuracy: 0.8896\n",
      "Epoch 24/100\n",
      "864/864 [==============================] - 1s 812us/step - loss: 0.3626 - accuracy: 0.8910\n",
      "Epoch 25/100\n",
      "864/864 [==============================] - 1s 803us/step - loss: 0.3598 - accuracy: 0.8922\n",
      "Epoch 26/100\n",
      "864/864 [==============================] - 1s 809us/step - loss: 0.3599 - accuracy: 0.8919\n",
      "Epoch 27/100\n",
      "864/864 [==============================] - 1s 808us/step - loss: 0.3571 - accuracy: 0.8925\n",
      "Epoch 28/100\n",
      "864/864 [==============================] - 1s 814us/step - loss: 0.3562 - accuracy: 0.8926\n",
      "Epoch 29/100\n",
      "864/864 [==============================] - 1s 810us/step - loss: 0.3537 - accuracy: 0.8930\n",
      "Epoch 30/100\n",
      "864/864 [==============================] - 1s 806us/step - loss: 0.3523 - accuracy: 0.8940\n",
      "Epoch 31/100\n",
      "864/864 [==============================] - 1s 807us/step - loss: 0.3520 - accuracy: 0.8931\n",
      "Epoch 32/100\n",
      "864/864 [==============================] - 1s 808us/step - loss: 0.3512 - accuracy: 0.8935\n",
      "Epoch 33/100\n",
      "864/864 [==============================] - 1s 806us/step - loss: 0.3481 - accuracy: 0.8944\n",
      "Epoch 34/100\n",
      "864/864 [==============================] - 1s 835us/step - loss: 0.3482 - accuracy: 0.8951\n",
      "Epoch 35/100\n",
      "864/864 [==============================] - 1s 811us/step - loss: 0.3469 - accuracy: 0.8954\n",
      "Epoch 36/100\n",
      "864/864 [==============================] - 1s 805us/step - loss: 0.3450 - accuracy: 0.8945\n",
      "Epoch 37/100\n",
      "864/864 [==============================] - 1s 813us/step - loss: 0.3446 - accuracy: 0.8951\n",
      "Epoch 38/100\n",
      "864/864 [==============================] - 1s 825us/step - loss: 0.3435 - accuracy: 0.8958\n",
      "Epoch 39/100\n",
      "864/864 [==============================] - 1s 828us/step - loss: 0.3423 - accuracy: 0.8959\n",
      "Epoch 40/100\n",
      "864/864 [==============================] - 1s 815us/step - loss: 0.3418 - accuracy: 0.8958\n",
      "Epoch 41/100\n",
      "864/864 [==============================] - 1s 812us/step - loss: 0.3406 - accuracy: 0.8966\n",
      "Epoch 42/100\n",
      "864/864 [==============================] - 1s 814us/step - loss: 0.3377 - accuracy: 0.8967\n",
      "Epoch 43/100\n",
      "864/864 [==============================] - 1s 811us/step - loss: 0.3373 - accuracy: 0.8965\n",
      "Epoch 44/100\n",
      "864/864 [==============================] - 1s 816us/step - loss: 0.3360 - accuracy: 0.8970\n",
      "Epoch 45/100\n",
      "864/864 [==============================] - 1s 820us/step - loss: 0.3356 - accuracy: 0.8977\n",
      "Epoch 46/100\n",
      "864/864 [==============================] - 1s 818us/step - loss: 0.3344 - accuracy: 0.8982\n",
      "Epoch 47/100\n",
      "864/864 [==============================] - 1s 822us/step - loss: 0.3345 - accuracy: 0.8987\n",
      "Epoch 48/100\n",
      "864/864 [==============================] - 1s 816us/step - loss: 0.3321 - accuracy: 0.9002\n",
      "Epoch 49/100\n",
      "864/864 [==============================] - 1s 815us/step - loss: 0.3325 - accuracy: 0.8998\n",
      "Epoch 50/100\n",
      "864/864 [==============================] - 1s 823us/step - loss: 0.3315 - accuracy: 0.8990\n",
      "Epoch 51/100\n",
      "864/864 [==============================] - 1s 823us/step - loss: 0.3306 - accuracy: 0.8995\n",
      "Epoch 52/100\n",
      "864/864 [==============================] - 1s 821us/step - loss: 0.3299 - accuracy: 0.9008\n",
      "Epoch 53/100\n",
      "864/864 [==============================] - 1s 823us/step - loss: 0.3287 - accuracy: 0.9017\n",
      "Epoch 54/100\n",
      "864/864 [==============================] - 1s 826us/step - loss: 0.3278 - accuracy: 0.9024\n",
      "Epoch 55/100\n",
      "864/864 [==============================] - 1s 837us/step - loss: 0.3269 - accuracy: 0.9016\n",
      "Epoch 56/100\n",
      "864/864 [==============================] - 1s 827us/step - loss: 0.3263 - accuracy: 0.9024\n",
      "Epoch 57/100\n",
      "864/864 [==============================] - 1s 822us/step - loss: 0.3265 - accuracy: 0.9017\n",
      "Epoch 58/100\n",
      "864/864 [==============================] - 1s 832us/step - loss: 0.3251 - accuracy: 0.9032\n",
      "Epoch 59/100\n",
      "864/864 [==============================] - 1s 826us/step - loss: 0.3250 - accuracy: 0.9031\n",
      "Epoch 60/100\n",
      "864/864 [==============================] - 1s 834us/step - loss: 0.3234 - accuracy: 0.9027\n",
      "Epoch 61/100\n",
      "864/864 [==============================] - 1s 828us/step - loss: 0.3246 - accuracy: 0.9030\n",
      "Epoch 62/100\n",
      "864/864 [==============================] - 1s 867us/step - loss: 0.3216 - accuracy: 0.9034\n",
      "Epoch 63/100\n",
      "864/864 [==============================] - 1s 831us/step - loss: 0.3226 - accuracy: 0.9052\n",
      "Epoch 64/100\n",
      "864/864 [==============================] - 1s 834us/step - loss: 0.3227 - accuracy: 0.9045\n",
      "Epoch 65/100\n",
      "864/864 [==============================] - 1s 830us/step - loss: 0.3210 - accuracy: 0.9040\n",
      "Epoch 66/100\n",
      "864/864 [==============================] - 1s 833us/step - loss: 0.3206 - accuracy: 0.9042\n",
      "Epoch 67/100\n",
      "864/864 [==============================] - 1s 829us/step - loss: 0.3199 - accuracy: 0.9047\n",
      "Epoch 68/100\n",
      "864/864 [==============================] - 1s 830us/step - loss: 0.3192 - accuracy: 0.9054\n",
      "Epoch 69/100\n",
      "864/864 [==============================] - 1s 841us/step - loss: 0.3183 - accuracy: 0.9051\n",
      "Epoch 70/100\n",
      "864/864 [==============================] - 1s 837us/step - loss: 0.3181 - accuracy: 0.9050\n",
      "Epoch 71/100\n",
      "864/864 [==============================] - 1s 828us/step - loss: 0.3185 - accuracy: 0.9046\n",
      "Epoch 72/100\n",
      "864/864 [==============================] - 1s 836us/step - loss: 0.3170 - accuracy: 0.9041\n",
      "Epoch 73/100\n",
      "864/864 [==============================] - 1s 828us/step - loss: 0.3172 - accuracy: 0.9045\n",
      "Epoch 74/100\n",
      "864/864 [==============================] - 1s 831us/step - loss: 0.3172 - accuracy: 0.9054\n",
      "Epoch 75/100\n",
      "864/864 [==============================] - 1s 844us/step - loss: 0.3168 - accuracy: 0.9053\n",
      "Epoch 76/100\n",
      "864/864 [==============================] - 1s 829us/step - loss: 0.3157 - accuracy: 0.9059\n",
      "Epoch 77/100\n",
      "864/864 [==============================] - 1s 836us/step - loss: 0.3167 - accuracy: 0.9052\n",
      "Epoch 78/100\n",
      "864/864 [==============================] - 1s 830us/step - loss: 0.3152 - accuracy: 0.9066\n",
      "Epoch 79/100\n"
     ]
    },
    {
     "name": "stdout",
     "output_type": "stream",
     "text": [
      "864/864 [==============================] - 1s 831us/step - loss: 0.3155 - accuracy: 0.9050\n",
      "Epoch 80/100\n",
      "864/864 [==============================] - 1s 825us/step - loss: 0.3139 - accuracy: 0.9070\n",
      "Epoch 81/100\n",
      "864/864 [==============================] - 1s 826us/step - loss: 0.3151 - accuracy: 0.9058\n",
      "Epoch 82/100\n",
      "864/864 [==============================] - 1s 828us/step - loss: 0.3129 - accuracy: 0.9069\n",
      "Epoch 83/100\n",
      "864/864 [==============================] - 1s 829us/step - loss: 0.3118 - accuracy: 0.9066\n",
      "Epoch 84/100\n",
      "864/864 [==============================] - 1s 825us/step - loss: 0.3142 - accuracy: 0.9063\n",
      "Epoch 85/100\n",
      "864/864 [==============================] - 1s 825us/step - loss: 0.3115 - accuracy: 0.9068\n",
      "Epoch 86/100\n",
      "864/864 [==============================] - 1s 829us/step - loss: 0.3119 - accuracy: 0.9062\n",
      "Epoch 87/100\n",
      "864/864 [==============================] - 1s 841us/step - loss: 0.3117 - accuracy: 0.9072\n",
      "Epoch 88/100\n",
      "864/864 [==============================] - 1s 829us/step - loss: 0.3105 - accuracy: 0.9062\n",
      "Epoch 89/100\n",
      "864/864 [==============================] - 1s 862us/step - loss: 0.3111 - accuracy: 0.9058\n",
      "Epoch 90/100\n",
      "864/864 [==============================] - 1s 831us/step - loss: 0.3101 - accuracy: 0.9080\n",
      "Epoch 91/100\n",
      "864/864 [==============================] - 1s 833us/step - loss: 0.3096 - accuracy: 0.9074\n",
      "Epoch 92/100\n",
      "864/864 [==============================] - 1s 831us/step - loss: 0.3105 - accuracy: 0.9072\n",
      "Epoch 93/100\n",
      "864/864 [==============================] - 1s 837us/step - loss: 0.3093 - accuracy: 0.9068\n",
      "Epoch 94/100\n",
      "864/864 [==============================] - 1s 845us/step - loss: 0.3080 - accuracy: 0.9073\n",
      "Epoch 95/100\n",
      "864/864 [==============================] - 1s 837us/step - loss: 0.3079 - accuracy: 0.9075\n",
      "Epoch 96/100\n",
      "864/864 [==============================] - 1s 839us/step - loss: 0.3067 - accuracy: 0.9083\n",
      "Epoch 97/100\n",
      "864/864 [==============================] - 1s 832us/step - loss: 0.3070 - accuracy: 0.9084\n",
      "Epoch 98/100\n",
      "864/864 [==============================] - 1s 833us/step - loss: 0.3065 - accuracy: 0.9084\n",
      "Epoch 99/100\n",
      "864/864 [==============================] - 1s 838us/step - loss: 0.3052 - accuracy: 0.9079\n",
      "Epoch 100/100\n",
      "864/864 [==============================] - 1s 843us/step - loss: 0.3048 - accuracy: 0.9090\n"
     ]
    },
    {
     "data": {
      "text/plain": [
       "<keras.callbacks.History at 0x7faa0c67eac0>"
      ]
     },
     "execution_count": 111,
     "metadata": {},
     "output_type": "execute_result"
    }
   ],
   "source": [
    "ann = tf.keras.models.Sequential()\n",
    "ann.add(tf.keras.layers.Dense(units=6,activation=\"relu\"))\n",
    "ann.add(tf.keras.layers.Dense(units=6,activation=\"relu\"))\n",
    "ann.add(tf.keras.layers.Dense(units=6,activation=\"relu\"))\n",
    "ann.add(tf.keras.layers.Dense(units=30,activation=\"softmax\"))\n",
    "ann.compile(optimizer=\"adam\",loss=\"categorical_crossentropy\",metrics=['accuracy'])\n",
    "ann.fit(X_train,y_train_new,batch_size=32,epochs=100)"
   ]
  },
  {
   "cell_type": "code",
   "execution_count": 112,
   "id": "814a102d",
   "metadata": {},
   "outputs": [
    {
     "name": "stdout",
     "output_type": "stream",
     "text": [
      "216/216 [==============================] - 0s 531us/step\n"
     ]
    }
   ],
   "source": [
    "y_pred=ann.predict(X_test)\n",
    "y_pred = y_pred.argmax(axis=1)\n",
    "y_test_new = y_test_new.argmax(axis=1)\n",
    "class_name = ct.transformers_[0][1].categories_[0]\n",
    "y_pred = [class_name[i] for i in y_pred]\n",
    "y_test_new = [class_name[i] for i in y_test_new]"
   ]
  },
  {
   "cell_type": "code",
   "execution_count": 113,
   "id": "a05daf85",
   "metadata": {},
   "outputs": [
    {
     "data": {
      "text/plain": [
       "0.894950079583273"
      ]
     },
     "execution_count": 113,
     "metadata": {},
     "output_type": "execute_result"
    }
   ],
   "source": [
    "accuracy_score(y_test_new,y_pred)"
   ]
  },
  {
   "cell_type": "code",
   "execution_count": 114,
   "id": "12bc4110",
   "metadata": {},
   "outputs": [
    {
     "name": "stdout",
     "output_type": "stream",
     "text": [
      "              precision    recall  f1-score   support\n",
      "\n",
      "         CL1       0.64      0.50      0.56        58\n",
      "       CL112       0.20      0.08      0.11        13\n",
      "        CL12       0.20      0.12      0.15        58\n",
      "       CL146       0.90      0.96      0.93       790\n",
      "       CL147       0.00      0.00      0.00         9\n",
      "       CL153       0.00      0.00      0.00        33\n",
      "       CL167       0.00      0.00      0.00        12\n",
      "       CL168       0.87      0.91      0.89       130\n",
      "       CL187       0.37      0.36      0.36        73\n",
      "         CL2       0.70      0.78      0.74       171\n",
      "       CL200       0.43      0.65      0.52        57\n",
      "       CL208       0.68      0.94      0.79        53\n",
      "       CL233       0.00      0.00      0.00         7\n",
      "       CL244       0.18      0.07      0.10        43\n",
      "       CL266       0.00      0.00      0.00         9\n",
      "        CL29       0.62      0.77      0.69       127\n",
      "       CL327       1.00      0.02      0.05        43\n",
      "        CL36       0.65      0.76      0.70        58\n",
      "        CL37       0.53      0.51      0.52        53\n",
      "       CL376       0.87      0.90      0.88       380\n",
      "         CL4       0.33      0.07      0.11        45\n",
      "         CL5       0.61      0.67      0.64        33\n",
      "         CL6       0.98      0.99      0.99      4411\n",
      "         CL7       0.74      0.84      0.79        38\n",
      "         CL8       0.00      0.00      0.00         3\n",
      "      CL8612       0.38      0.73      0.50        84\n",
      "         CL9       0.37      0.35      0.36        46\n",
      "        CL92       0.00      0.00      0.00         1\n",
      "        CL94       0.42      0.16      0.23        31\n",
      "        CL95       0.00      0.00      0.00        42\n",
      "\n",
      "    accuracy                           0.89      6911\n",
      "   macro avg       0.42      0.40      0.39      6911\n",
      "weighted avg       0.88      0.89      0.88      6911\n",
      "\n"
     ]
    },
    {
     "name": "stderr",
     "output_type": "stream",
     "text": [
      "/Users/yushanyang/Software/anaconda3/lib/python3.9/site-packages/sklearn/metrics/_classification.py:1327: UndefinedMetricWarning: Precision and F-score are ill-defined and being set to 0.0 in labels with no predicted samples. Use `zero_division` parameter to control this behavior.\n",
      "  _warn_prf(average, modifier, msg_start, len(result))\n",
      "/Users/yushanyang/Software/anaconda3/lib/python3.9/site-packages/sklearn/metrics/_classification.py:1327: UndefinedMetricWarning: Precision and F-score are ill-defined and being set to 0.0 in labels with no predicted samples. Use `zero_division` parameter to control this behavior.\n",
      "  _warn_prf(average, modifier, msg_start, len(result))\n",
      "/Users/yushanyang/Software/anaconda3/lib/python3.9/site-packages/sklearn/metrics/_classification.py:1327: UndefinedMetricWarning: Precision and F-score are ill-defined and being set to 0.0 in labels with no predicted samples. Use `zero_division` parameter to control this behavior.\n",
      "  _warn_prf(average, modifier, msg_start, len(result))\n"
     ]
    }
   ],
   "source": [
    "print(classification_report(y_test,y_pred))"
   ]
  },
  {
   "cell_type": "code",
   "execution_count": 115,
   "id": "ea5ae038",
   "metadata": {},
   "outputs": [
    {
     "name": "stdout",
     "output_type": "stream",
     "text": [
      "864/864 [==============================] - 0s 518us/step\n"
     ]
    },
    {
     "data": {
      "text/plain": [
       "0.9107155777440127"
      ]
     },
     "execution_count": 115,
     "metadata": {},
     "output_type": "execute_result"
    }
   ],
   "source": [
    "y_pred_train = ann.predict(X_train)\n",
    "y_pred_train = y_pred_train.argmax(axis=1)\n",
    "y_train_new = y_train_new.argmax(axis=1)\n",
    "y_pred_train = [class_name[i] for i in y_pred_train]\n",
    "y_train_new = [class_name[i] for i in y_train_new]\n",
    "accuracy_score(y_train_new,y_pred_train)"
   ]
  },
  {
   "cell_type": "code",
   "execution_count": 116,
   "id": "03f402b6",
   "metadata": {},
   "outputs": [
    {
     "name": "stdout",
     "output_type": "stream",
     "text": [
      "              precision    recall  f1-score   support\n",
      "\n",
      "         CL1       0.72      0.65      0.68       217\n",
      "       CL112       0.00      0.00      0.00        53\n",
      "        CL12       0.36      0.23      0.28       223\n",
      "       CL146       0.93      0.98      0.95      3330\n",
      "       CL147       0.00      0.00      0.00        36\n",
      "       CL153       0.00      0.00      0.00        92\n",
      "       CL167       0.00      0.00      0.00        29\n",
      "       CL168       0.92      0.98      0.95       463\n",
      "       CL187       0.43      0.35      0.38       410\n",
      "         CL2       0.78      0.84      0.81       732\n",
      "       CL200       0.50      0.66      0.57       252\n",
      "       CL208       0.76      0.93      0.83       258\n",
      "       CL233       0.00      0.00      0.00        16\n",
      "       CL244       0.34      0.15      0.21       200\n",
      "       CL266       0.00      0.00      0.00        42\n",
      "        CL29       0.68      0.76      0.72       519\n",
      "       CL327       0.12      0.01      0.01       162\n",
      "        CL36       0.61      0.85      0.71       204\n",
      "        CL37       0.49      0.58      0.53       156\n",
      "       CL376       0.90      0.89      0.89      1462\n",
      "         CL4       0.62      0.20      0.30       174\n",
      "         CL5       0.64      0.80      0.71       148\n",
      "         CL6       0.99      0.99      0.99     17433\n",
      "         CL7       0.81      0.96      0.88       174\n",
      "         CL8       0.00      0.00      0.00         8\n",
      "      CL8612       0.54      0.88      0.67       408\n",
      "         CL9       0.41      0.51      0.45       171\n",
      "        CL94       0.60      0.29      0.39       126\n",
      "        CL95       0.86      0.04      0.08       144\n",
      "\n",
      "    accuracy                           0.91     27642\n",
      "   macro avg       0.48      0.47      0.45     27642\n",
      "weighted avg       0.90      0.91      0.90     27642\n",
      "\n"
     ]
    },
    {
     "name": "stderr",
     "output_type": "stream",
     "text": [
      "/Users/yushanyang/Software/anaconda3/lib/python3.9/site-packages/sklearn/metrics/_classification.py:1327: UndefinedMetricWarning: Precision and F-score are ill-defined and being set to 0.0 in labels with no predicted samples. Use `zero_division` parameter to control this behavior.\n",
      "  _warn_prf(average, modifier, msg_start, len(result))\n",
      "/Users/yushanyang/Software/anaconda3/lib/python3.9/site-packages/sklearn/metrics/_classification.py:1327: UndefinedMetricWarning: Precision and F-score are ill-defined and being set to 0.0 in labels with no predicted samples. Use `zero_division` parameter to control this behavior.\n",
      "  _warn_prf(average, modifier, msg_start, len(result))\n",
      "/Users/yushanyang/Software/anaconda3/lib/python3.9/site-packages/sklearn/metrics/_classification.py:1327: UndefinedMetricWarning: Precision and F-score are ill-defined and being set to 0.0 in labels with no predicted samples. Use `zero_division` parameter to control this behavior.\n",
      "  _warn_prf(average, modifier, msg_start, len(result))\n"
     ]
    }
   ],
   "source": [
    "print(classification_report(y_train_new,y_pred_train))"
   ]
  },
  {
   "cell_type": "code",
   "execution_count": null,
   "id": "9d60b7a7",
   "metadata": {},
   "outputs": [],
   "source": []
  }
 ],
 "metadata": {
  "kernelspec": {
   "display_name": "Python 3 (ipykernel)",
   "language": "python",
   "name": "python3"
  },
  "language_info": {
   "codemirror_mode": {
    "name": "ipython",
    "version": 3
   },
   "file_extension": ".py",
   "mimetype": "text/x-python",
   "name": "python",
   "nbconvert_exporter": "python",
   "pygments_lexer": "ipython3",
   "version": "3.9.12"
  }
 },
 "nbformat": 4,
 "nbformat_minor": 5
}
